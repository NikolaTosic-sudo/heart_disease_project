{
 "cells": [
  {
   "cell_type": "markdown",
   "id": "neural-austin",
   "metadata": {},
   "source": [
    "# Prediction Heart Disease using Machine Learning\n",
    "\n",
    "This notebook looks into using various Python-based machine learning and data science libraries in an attempt to build a machine learning model capable of prediction whether or not someone has heart disease based on their medical attributes\n",
    "\n",
    "We're going to take the following approach:\n",
    "\n",
    "1. Problem definition\n",
    "2. Data\n",
    "3. Evaluation\n",
    "4. Features\n",
    "5. Modelling\n",
    "6. Experimentation\n",
    "\n",
    "## 1. Problem Definition\n",
    "\n",
    "In a statement, \n",
    "> Given clinical parameters about a patient, can we predict whether or not they have heart disease\n",
    "\n",
    "## 2. Data\n",
    "\n",
    "The original data came from Cleavland database from the UCI Machine Learning Repository. https://archive.ics.uci.edu/ml/datasets/heart+disease\n",
    "\n",
    "There is also a version of it available on Kaggle. https://www.kaggle.com/ronitf/heart-disease-uci\n",
    "\n",
    "## 3. Evaluation\n",
    "\n",
    "> If we can reach 95% accuracy at prediction whether or not a patient has heart disease during the proof of concept, we'll pursue the project.\n",
    "\n",
    "## 4. Features\n",
    "\n",
    "This is where you'll get different information about each of the features in your data. You can do this via doing your own research (such as looking at the links above) or by talking to a subject matter expert (someone who knows about the dataset).\n",
    "\n",
    "\n",
    "\n",
    "**Create data dictionary**\n",
    "\n",
    "1. age - age in years\n",
    "2. sex - (1 = male; 0 = female)\n",
    "3. cp - chest pain type\n",
    "    * 0: Typical angina: chest pain related decrease blood supply to the heart\n",
    "    * 1: Atypical angina: chest pain not related to heart\n",
    "    * 2: Non-anginal pain: typically esophageal spasms (non heart related)\n",
    "    * 3: Asymptomatic: chest pain not showing signs of disease\n",
    "4. trestbps - resting blood pressure (in mm Hg on admission to the hospital) anything above 130-140 is typically cause for concern\n",
    "5. chol - serum cholestoral in mg/dl\n",
    "    * serum = LDL + HDL + .2 * triglycerides\n",
    "    * above 200 is cause for concern\n",
    "6. fbs - (fasting blood sugar > 120 mg/dl) (1 = true; 0 = false)\n",
    "    * '>126' mg/dL signals diabetes\n",
    "7. restecg - resting electrocardiographic results\n",
    "    * 0: Nothing to note\n",
    "    * 1: ST-T Wave abnormality\n",
    "        * can range from mild symptoms to severe problems\n",
    "        * signals non-normal heart beat\n",
    "    * 2: Possible or definite left ventricular hypertrophy\n",
    "        * Enlarged heart's main pumping chamber\n",
    "8. thalach - maximum heart rate achieved\n",
    "9. exang - exercise induced angina (1 = yes; 0 = no)\n",
    "10. oldpeak - ST depression induced by exercise relative to rest looks at stress of heart during excercise unhealthy heart will stress more\n",
    "11. slope - the slope of the peak exercise ST segment\n",
    "    * 0: Upsloping: better heart rate with excercise (uncommon)\n",
    "    * 1: Flatsloping: minimal change (typical healthy heart)\n",
    "    * 2: Downslopins: signs of unhealthy heart\n",
    "12. ca - number of major vessels (0-3) colored by flourosopy\n",
    "    * colored vessel means the doctor can see the blood passing through\n",
    "    * the more blood movement the better (no clots)\n",
    "13. thal - thalium stress result\n",
    "    * 1,3: normal\n",
    "    * 6: fixed defect: used to be defect but ok now\n",
    "    * 7: reversable defect: no proper blood movement when excercising\n",
    "14. target - have disease or not (1=yes, 0=no) (= the predicted attribute)"
   ]
  },
  {
   "cell_type": "markdown",
   "id": "aboriginal-packing",
   "metadata": {},
   "source": [
    "## Preparing the tools\n",
    "\n",
    "We're going to use pandas, matplotlib and NumPy for data analysis and manipulation."
   ]
  },
  {
   "cell_type": "code",
   "execution_count": 1,
   "id": "expired-portal",
   "metadata": {},
   "outputs": [],
   "source": [
    "# Import all the tools we need\n",
    "\n",
    "# Regular EDA (exploratory data analysis) and plotting libraries\n",
    "\n",
    "import numpy as np\n",
    "import pandas as pd\n",
    "import matplotlib.pyplot as plt\n",
    "import seaborn as sns\n",
    "\n",
    "# We want our plots to appear inside the notebook\n",
    "%matplotlib inline\n",
    "\n",
    "# Models from Scikit-Learn\n",
    "\n",
    "from sklearn.linear_model import LogisticRegression\n",
    "from sklearn.neighbors import KNeighborsClassifier\n",
    "from sklearn.ensemble import RandomForestClassifier\n",
    "\n",
    "# Model Evaluations\n",
    "from sklearn.model_selection import train_test_split, cross_val_score\n",
    "from sklearn.model_selection import RandomizedSearchCV, GridSearchCV\n",
    "from sklearn.metrics import confusion_matrix, classification_report\n",
    "from sklearn.metrics import precision_score, recall_score, f1_score\n",
    "from sklearn.metrics import plot_roc_curve"
   ]
  },
  {
   "cell_type": "markdown",
   "id": "everyday-rugby",
   "metadata": {},
   "source": [
    "## Load Data"
   ]
  },
  {
   "cell_type": "code",
   "execution_count": 2,
   "id": "consecutive-dialogue",
   "metadata": {},
   "outputs": [
    {
     "data": {
      "text/plain": [
       "(303, 14)"
      ]
     },
     "execution_count": 2,
     "metadata": {},
     "output_type": "execute_result"
    }
   ],
   "source": [
    "df = pd.read_csv(\"heart-disease.csv\")\n",
    "\n",
    "df.shape"
   ]
  },
  {
   "cell_type": "markdown",
   "id": "disturbed-oxygen",
   "metadata": {},
   "source": [
    "## Data Exploration (exploratory data analysis (EDA))\n",
    "\n",
    "The goal here is to find out more about the data and become a subject matter export on the dataset you're working with.\n",
    "\n",
    "1. What question(s) are you trying to solve ?\n",
    "2. What kind of data do we have and how do we treat different types ?\n",
    "3. What's missing from the data and how do you deal with it ?\n",
    "4. Where are the outliers and why should you care about them ?\n",
    "5. How can you add, change or remove features to get more out of your data ?"
   ]
  },
  {
   "cell_type": "code",
   "execution_count": 3,
   "id": "after-hungary",
   "metadata": {},
   "outputs": [
    {
     "data": {
      "text/html": [
       "<div>\n",
       "<style scoped>\n",
       "    .dataframe tbody tr th:only-of-type {\n",
       "        vertical-align: middle;\n",
       "    }\n",
       "\n",
       "    .dataframe tbody tr th {\n",
       "        vertical-align: top;\n",
       "    }\n",
       "\n",
       "    .dataframe thead th {\n",
       "        text-align: right;\n",
       "    }\n",
       "</style>\n",
       "<table border=\"1\" class=\"dataframe\">\n",
       "  <thead>\n",
       "    <tr style=\"text-align: right;\">\n",
       "      <th></th>\n",
       "      <th>age</th>\n",
       "      <th>sex</th>\n",
       "      <th>cp</th>\n",
       "      <th>trestbps</th>\n",
       "      <th>chol</th>\n",
       "      <th>fbs</th>\n",
       "      <th>restecg</th>\n",
       "      <th>thalach</th>\n",
       "      <th>exang</th>\n",
       "      <th>oldpeak</th>\n",
       "      <th>slope</th>\n",
       "      <th>ca</th>\n",
       "      <th>thal</th>\n",
       "      <th>target</th>\n",
       "    </tr>\n",
       "  </thead>\n",
       "  <tbody>\n",
       "    <tr>\n",
       "      <th>0</th>\n",
       "      <td>63</td>\n",
       "      <td>1</td>\n",
       "      <td>3</td>\n",
       "      <td>145</td>\n",
       "      <td>233</td>\n",
       "      <td>1</td>\n",
       "      <td>0</td>\n",
       "      <td>150</td>\n",
       "      <td>0</td>\n",
       "      <td>2.3</td>\n",
       "      <td>0</td>\n",
       "      <td>0</td>\n",
       "      <td>1</td>\n",
       "      <td>1</td>\n",
       "    </tr>\n",
       "    <tr>\n",
       "      <th>1</th>\n",
       "      <td>37</td>\n",
       "      <td>1</td>\n",
       "      <td>2</td>\n",
       "      <td>130</td>\n",
       "      <td>250</td>\n",
       "      <td>0</td>\n",
       "      <td>1</td>\n",
       "      <td>187</td>\n",
       "      <td>0</td>\n",
       "      <td>3.5</td>\n",
       "      <td>0</td>\n",
       "      <td>0</td>\n",
       "      <td>2</td>\n",
       "      <td>1</td>\n",
       "    </tr>\n",
       "    <tr>\n",
       "      <th>2</th>\n",
       "      <td>41</td>\n",
       "      <td>0</td>\n",
       "      <td>1</td>\n",
       "      <td>130</td>\n",
       "      <td>204</td>\n",
       "      <td>0</td>\n",
       "      <td>0</td>\n",
       "      <td>172</td>\n",
       "      <td>0</td>\n",
       "      <td>1.4</td>\n",
       "      <td>2</td>\n",
       "      <td>0</td>\n",
       "      <td>2</td>\n",
       "      <td>1</td>\n",
       "    </tr>\n",
       "    <tr>\n",
       "      <th>3</th>\n",
       "      <td>56</td>\n",
       "      <td>1</td>\n",
       "      <td>1</td>\n",
       "      <td>120</td>\n",
       "      <td>236</td>\n",
       "      <td>0</td>\n",
       "      <td>1</td>\n",
       "      <td>178</td>\n",
       "      <td>0</td>\n",
       "      <td>0.8</td>\n",
       "      <td>2</td>\n",
       "      <td>0</td>\n",
       "      <td>2</td>\n",
       "      <td>1</td>\n",
       "    </tr>\n",
       "    <tr>\n",
       "      <th>4</th>\n",
       "      <td>57</td>\n",
       "      <td>0</td>\n",
       "      <td>0</td>\n",
       "      <td>120</td>\n",
       "      <td>354</td>\n",
       "      <td>0</td>\n",
       "      <td>1</td>\n",
       "      <td>163</td>\n",
       "      <td>1</td>\n",
       "      <td>0.6</td>\n",
       "      <td>2</td>\n",
       "      <td>0</td>\n",
       "      <td>2</td>\n",
       "      <td>1</td>\n",
       "    </tr>\n",
       "  </tbody>\n",
       "</table>\n",
       "</div>"
      ],
      "text/plain": [
       "   age  sex  cp  trestbps  chol  fbs  restecg  thalach  exang  oldpeak  slope  \\\n",
       "0   63    1   3       145   233    1        0      150      0      2.3      0   \n",
       "1   37    1   2       130   250    0        1      187      0      3.5      0   \n",
       "2   41    0   1       130   204    0        0      172      0      1.4      2   \n",
       "3   56    1   1       120   236    0        1      178      0      0.8      2   \n",
       "4   57    0   0       120   354    0        1      163      1      0.6      2   \n",
       "\n",
       "   ca  thal  target  \n",
       "0   0     1       1  \n",
       "1   0     2       1  \n",
       "2   0     2       1  \n",
       "3   0     2       1  \n",
       "4   0     2       1  "
      ]
     },
     "execution_count": 3,
     "metadata": {},
     "output_type": "execute_result"
    }
   ],
   "source": [
    "df.head()"
   ]
  },
  {
   "cell_type": "code",
   "execution_count": 4,
   "id": "reasonable-touch",
   "metadata": {},
   "outputs": [
    {
     "data": {
      "text/html": [
       "<div>\n",
       "<style scoped>\n",
       "    .dataframe tbody tr th:only-of-type {\n",
       "        vertical-align: middle;\n",
       "    }\n",
       "\n",
       "    .dataframe tbody tr th {\n",
       "        vertical-align: top;\n",
       "    }\n",
       "\n",
       "    .dataframe thead th {\n",
       "        text-align: right;\n",
       "    }\n",
       "</style>\n",
       "<table border=\"1\" class=\"dataframe\">\n",
       "  <thead>\n",
       "    <tr style=\"text-align: right;\">\n",
       "      <th></th>\n",
       "      <th>age</th>\n",
       "      <th>sex</th>\n",
       "      <th>cp</th>\n",
       "      <th>trestbps</th>\n",
       "      <th>chol</th>\n",
       "      <th>fbs</th>\n",
       "      <th>restecg</th>\n",
       "      <th>thalach</th>\n",
       "      <th>exang</th>\n",
       "      <th>oldpeak</th>\n",
       "      <th>slope</th>\n",
       "      <th>ca</th>\n",
       "      <th>thal</th>\n",
       "      <th>target</th>\n",
       "    </tr>\n",
       "  </thead>\n",
       "  <tbody>\n",
       "    <tr>\n",
       "      <th>298</th>\n",
       "      <td>57</td>\n",
       "      <td>0</td>\n",
       "      <td>0</td>\n",
       "      <td>140</td>\n",
       "      <td>241</td>\n",
       "      <td>0</td>\n",
       "      <td>1</td>\n",
       "      <td>123</td>\n",
       "      <td>1</td>\n",
       "      <td>0.2</td>\n",
       "      <td>1</td>\n",
       "      <td>0</td>\n",
       "      <td>3</td>\n",
       "      <td>0</td>\n",
       "    </tr>\n",
       "    <tr>\n",
       "      <th>299</th>\n",
       "      <td>45</td>\n",
       "      <td>1</td>\n",
       "      <td>3</td>\n",
       "      <td>110</td>\n",
       "      <td>264</td>\n",
       "      <td>0</td>\n",
       "      <td>1</td>\n",
       "      <td>132</td>\n",
       "      <td>0</td>\n",
       "      <td>1.2</td>\n",
       "      <td>1</td>\n",
       "      <td>0</td>\n",
       "      <td>3</td>\n",
       "      <td>0</td>\n",
       "    </tr>\n",
       "    <tr>\n",
       "      <th>300</th>\n",
       "      <td>68</td>\n",
       "      <td>1</td>\n",
       "      <td>0</td>\n",
       "      <td>144</td>\n",
       "      <td>193</td>\n",
       "      <td>1</td>\n",
       "      <td>1</td>\n",
       "      <td>141</td>\n",
       "      <td>0</td>\n",
       "      <td>3.4</td>\n",
       "      <td>1</td>\n",
       "      <td>2</td>\n",
       "      <td>3</td>\n",
       "      <td>0</td>\n",
       "    </tr>\n",
       "    <tr>\n",
       "      <th>301</th>\n",
       "      <td>57</td>\n",
       "      <td>1</td>\n",
       "      <td>0</td>\n",
       "      <td>130</td>\n",
       "      <td>131</td>\n",
       "      <td>0</td>\n",
       "      <td>1</td>\n",
       "      <td>115</td>\n",
       "      <td>1</td>\n",
       "      <td>1.2</td>\n",
       "      <td>1</td>\n",
       "      <td>1</td>\n",
       "      <td>3</td>\n",
       "      <td>0</td>\n",
       "    </tr>\n",
       "    <tr>\n",
       "      <th>302</th>\n",
       "      <td>57</td>\n",
       "      <td>0</td>\n",
       "      <td>1</td>\n",
       "      <td>130</td>\n",
       "      <td>236</td>\n",
       "      <td>0</td>\n",
       "      <td>0</td>\n",
       "      <td>174</td>\n",
       "      <td>0</td>\n",
       "      <td>0.0</td>\n",
       "      <td>1</td>\n",
       "      <td>1</td>\n",
       "      <td>2</td>\n",
       "      <td>0</td>\n",
       "    </tr>\n",
       "  </tbody>\n",
       "</table>\n",
       "</div>"
      ],
      "text/plain": [
       "     age  sex  cp  trestbps  chol  fbs  restecg  thalach  exang  oldpeak  \\\n",
       "298   57    0   0       140   241    0        1      123      1      0.2   \n",
       "299   45    1   3       110   264    0        1      132      0      1.2   \n",
       "300   68    1   0       144   193    1        1      141      0      3.4   \n",
       "301   57    1   0       130   131    0        1      115      1      1.2   \n",
       "302   57    0   1       130   236    0        0      174      0      0.0   \n",
       "\n",
       "     slope  ca  thal  target  \n",
       "298      1   0     3       0  \n",
       "299      1   0     3       0  \n",
       "300      1   2     3       0  \n",
       "301      1   1     3       0  \n",
       "302      1   1     2       0  "
      ]
     },
     "execution_count": 4,
     "metadata": {},
     "output_type": "execute_result"
    }
   ],
   "source": [
    "df.tail()"
   ]
  },
  {
   "cell_type": "code",
   "execution_count": 5,
   "id": "charming-prefix",
   "metadata": {},
   "outputs": [
    {
     "data": {
      "text/plain": [
       "1    165\n",
       "0    138\n",
       "Name: target, dtype: int64"
      ]
     },
     "execution_count": 5,
     "metadata": {},
     "output_type": "execute_result"
    }
   ],
   "source": [
    "# Let's find out how many of each class there is\n",
    "\n",
    "df['target'].value_counts()"
   ]
  },
  {
   "cell_type": "code",
   "execution_count": 6,
   "id": "excellent-maintenance",
   "metadata": {},
   "outputs": [
    {
     "data": {
      "image/png": "[encoded data removed]",
      "text/plain": [
       "<Figure size 432x288 with 1 Axes>"
      ]
     },
     "metadata": {
      "needs_background": "light"
     },
     "output_type": "display_data"
    }
   ],
   "source": [
    "df['target'].value_counts().plot(kind='bar', color=['salmon', 'lightblue']);"
   ]
  },
  {
   "cell_type": "code",
   "execution_count": 7,
   "id": "incorporate-strategy",
   "metadata": {},
   "outputs": [
    {
     "name": "stdout",
     "output_type": "stream",
     "text": [
      "<class 'pandas.core.frame.DataFrame'>\n",
      "RangeIndex: 303 entries, 0 to 302\n",
      "Data columns (total 14 columns):\n",
      " #   Column    Non-Null Count  Dtype  \n",
      "---  ------    --------------  -----  \n",
      " 0   age       303 non-null    int64  \n",
      " 1   sex       303 non-null    int64  \n",
      " 2   cp        303 non-null    int64  \n",
      " 3   trestbps  303 non-null    int64  \n",
      " 4   chol      303 non-null    int64  \n",
      " 5   fbs       303 non-null    int64  \n",
      " 6   restecg   303 non-null    int64  \n",
      " 7   thalach   303 non-null    int64  \n",
      " 8   exang     303 non-null    int64  \n",
      " 9   oldpeak   303 non-null    float64\n",
      " 10  slope     303 non-null    int64  \n",
      " 11  ca        303 non-null    int64  \n",
      " 12  thal      303 non-null    int64  \n",
      " 13  target    303 non-null    int64  \n",
      "dtypes: float64(1), int64(13)\n",
      "memory usage: 33.3 KB\n"
     ]
    }
   ],
   "source": [
    "df.info();"
   ]
  },
  {
   "cell_type": "code",
   "execution_count": 8,
   "id": "surrounded-argentina",
   "metadata": {},
   "outputs": [
    {
     "data": {
      "text/plain": [
       "age         0\n",
       "sex         0\n",
       "cp          0\n",
       "trestbps    0\n",
       "chol        0\n",
       "fbs         0\n",
       "restecg     0\n",
       "thalach     0\n",
       "exang       0\n",
       "oldpeak     0\n",
       "slope       0\n",
       "ca          0\n",
       "thal        0\n",
       "target      0\n",
       "dtype: int64"
      ]
     },
     "execution_count": 8,
     "metadata": {},
     "output_type": "execute_result"
    }
   ],
   "source": [
    "# Is there missing value\n",
    "\n",
    "df.isna().sum()"
   ]
  },
  {
   "cell_type": "code",
   "execution_count": 9,
   "id": "alternative-acoustic",
   "metadata": {
    "scrolled": true
   },
   "outputs": [
    {
     "data": {
      "text/html": [
       "<div>\n",
       "<style scoped>\n",
       "    .dataframe tbody tr th:only-of-type {\n",
       "        vertical-align: middle;\n",
       "    }\n",
       "\n",
       "    .dataframe tbody tr th {\n",
       "        vertical-align: top;\n",
       "    }\n",
       "\n",
       "    .dataframe thead th {\n",
       "        text-align: right;\n",
       "    }\n",
       "</style>\n",
       "<table border=\"1\" class=\"dataframe\">\n",
       "  <thead>\n",
       "    <tr style=\"text-align: right;\">\n",
       "      <th></th>\n",
       "      <th>age</th>\n",
       "      <th>sex</th>\n",
       "      <th>cp</th>\n",
       "      <th>trestbps</th>\n",
       "      <th>chol</th>\n",
       "      <th>fbs</th>\n",
       "      <th>restecg</th>\n",
       "      <th>thalach</th>\n",
       "      <th>exang</th>\n",
       "      <th>oldpeak</th>\n",
       "      <th>slope</th>\n",
       "      <th>ca</th>\n",
       "      <th>thal</th>\n",
       "      <th>target</th>\n",
       "    </tr>\n",
       "  </thead>\n",
       "  <tbody>\n",
       "    <tr>\n",
       "      <th>count</th>\n",
       "      <td>303.000000</td>\n",
       "      <td>303.000000</td>\n",
       "      <td>303.000000</td>\n",
       "      <td>303.000000</td>\n",
       "      <td>303.000000</td>\n",
       "      <td>303.000000</td>\n",
       "      <td>303.000000</td>\n",
       "      <td>303.000000</td>\n",
       "      <td>303.000000</td>\n",
       "      <td>303.000000</td>\n",
       "      <td>303.000000</td>\n",
       "      <td>303.000000</td>\n",
       "      <td>303.000000</td>\n",
       "      <td>303.000000</td>\n",
       "    </tr>\n",
       "    <tr>\n",
       "      <th>mean</th>\n",
       "      <td>54.366337</td>\n",
       "      <td>0.683168</td>\n",
       "      <td>0.966997</td>\n",
       "      <td>131.623762</td>\n",
       "      <td>246.264026</td>\n",
       "      <td>0.148515</td>\n",
       "      <td>0.528053</td>\n",
       "      <td>149.646865</td>\n",
       "      <td>0.326733</td>\n",
       "      <td>1.039604</td>\n",
       "      <td>1.399340</td>\n",
       "      <td>0.729373</td>\n",
       "      <td>2.313531</td>\n",
       "      <td>0.544554</td>\n",
       "    </tr>\n",
       "    <tr>\n",
       "      <th>std</th>\n",
       "      <td>9.082101</td>\n",
       "      <td>0.466011</td>\n",
       "      <td>1.032052</td>\n",
       "      <td>17.538143</td>\n",
       "      <td>51.830751</td>\n",
       "      <td>0.356198</td>\n",
       "      <td>0.525860</td>\n",
       "      <td>22.905161</td>\n",
       "      <td>0.469794</td>\n",
       "      <td>1.161075</td>\n",
       "      <td>0.616226</td>\n",
       "      <td>1.022606</td>\n",
       "      <td>0.612277</td>\n",
       "      <td>0.498835</td>\n",
       "    </tr>\n",
       "    <tr>\n",
       "      <th>min</th>\n",
       "      <td>29.000000</td>\n",
       "      <td>0.000000</td>\n",
       "      <td>0.000000</td>\n",
       "      <td>94.000000</td>\n",
       "      <td>126.000000</td>\n",
       "      <td>0.000000</td>\n",
       "      <td>0.000000</td>\n",
       "      <td>71.000000</td>\n",
       "      <td>0.000000</td>\n",
       "      <td>0.000000</td>\n",
       "      <td>0.000000</td>\n",
       "      <td>0.000000</td>\n",
       "      <td>0.000000</td>\n",
       "      <td>0.000000</td>\n",
       "    </tr>\n",
       "    <tr>\n",
       "      <th>25%</th>\n",
       "      <td>47.500000</td>\n",
       "      <td>0.000000</td>\n",
       "      <td>0.000000</td>\n",
       "      <td>120.000000</td>\n",
       "      <td>211.000000</td>\n",
       "      <td>0.000000</td>\n",
       "      <td>0.000000</td>\n",
       "      <td>133.500000</td>\n",
       "      <td>0.000000</td>\n",
       "      <td>0.000000</td>\n",
       "      <td>1.000000</td>\n",
       "      <td>0.000000</td>\n",
       "      <td>2.000000</td>\n",
       "      <td>0.000000</td>\n",
       "    </tr>\n",
       "    <tr>\n",
       "      <th>50%</th>\n",
       "      <td>55.000000</td>\n",
       "      <td>1.000000</td>\n",
       "      <td>1.000000</td>\n",
       "      <td>130.000000</td>\n",
       "      <td>240.000000</td>\n",
       "      <td>0.000000</td>\n",
       "      <td>1.000000</td>\n",
       "      <td>153.000000</td>\n",
       "      <td>0.000000</td>\n",
       "      <td>0.800000</td>\n",
       "      <td>1.000000</td>\n",
       "      <td>0.000000</td>\n",
       "      <td>2.000000</td>\n",
       "      <td>1.000000</td>\n",
       "    </tr>\n",
       "    <tr>\n",
       "      <th>75%</th>\n",
       "      <td>61.000000</td>\n",
       "      <td>1.000000</td>\n",
       "      <td>2.000000</td>\n",
       "      <td>140.000000</td>\n",
       "      <td>274.500000</td>\n",
       "      <td>0.000000</td>\n",
       "      <td>1.000000</td>\n",
       "      <td>166.000000</td>\n",
       "      <td>1.000000</td>\n",
       "      <td>1.600000</td>\n",
       "      <td>2.000000</td>\n",
       "      <td>1.000000</td>\n",
       "      <td>3.000000</td>\n",
       "      <td>1.000000</td>\n",
       "    </tr>\n",
       "    <tr>\n",
       "      <th>max</th>\n",
       "      <td>77.000000</td>\n",
       "      <td>1.000000</td>\n",
       "      <td>3.000000</td>\n",
       "      <td>200.000000</td>\n",
       "      <td>564.000000</td>\n",
       "      <td>1.000000</td>\n",
       "      <td>2.000000</td>\n",
       "      <td>202.000000</td>\n",
       "      <td>1.000000</td>\n",
       "      <td>6.200000</td>\n",
       "      <td>2.000000</td>\n",
       "      <td>4.000000</td>\n",
       "      <td>3.000000</td>\n",
       "      <td>1.000000</td>\n",
       "    </tr>\n",
       "  </tbody>\n",
       "</table>\n",
       "</div>"
      ],
      "text/plain": [
       "              age         sex          cp    trestbps        chol         fbs  \\\n",
       "count  303.000000  303.000000  303.000000  303.000000  303.000000  303.000000   \n",
       "mean    54.366337    0.683168    0.966997  131.623762  246.264026    0.148515   \n",
       "std      9.082101    0.466011    1.032052   17.538143   51.830751    0.356198   \n",
       "min     29.000000    0.000000    0.000000   94.000000  126.000000    0.000000   \n",
       "25%     47.500000    0.000000    0.000000  120.000000  211.000000    0.000000   \n",
       "50%     55.000000    1.000000    1.000000  130.000000  240.000000    0.000000   \n",
       "75%     61.000000    1.000000    2.000000  140.000000  274.500000    0.000000   \n",
       "max     77.000000    1.000000    3.000000  200.000000  564.000000    1.000000   \n",
       "\n",
       "          restecg     thalach       exang     oldpeak       slope          ca  \\\n",
       "count  303.000000  303.000000  303.000000  303.000000  303.000000  303.000000   \n",
       "mean     0.528053  149.646865    0.326733    1.039604    1.399340    0.729373   \n",
       "std      0.525860   22.905161    0.469794    1.161075    0.616226    1.022606   \n",
       "min      0.000000   71.000000    0.000000    0.000000    0.000000    0.000000   \n",
       "25%      0.000000  133.500000    0.000000    0.000000    1.000000    0.000000   \n",
       "50%      1.000000  153.000000    0.000000    0.800000    1.000000    0.000000   \n",
       "75%      1.000000  166.000000    1.000000    1.600000    2.000000    1.000000   \n",
       "max      2.000000  202.000000    1.000000    6.200000    2.000000    4.000000   \n",
       "\n",
       "             thal      target  \n",
       "count  303.000000  303.000000  \n",
       "mean     2.313531    0.544554  \n",
       "std      0.612277    0.498835  \n",
       "min      0.000000    0.000000  \n",
       "25%      2.000000    0.000000  \n",
       "50%      2.000000    1.000000  \n",
       "75%      3.000000    1.000000  \n",
       "max      3.000000    1.000000  "
      ]
     },
     "execution_count": 9,
     "metadata": {},
     "output_type": "execute_result"
    }
   ],
   "source": [
    "df.describe()"
   ]
  },
  {
   "cell_type": "markdown",
   "id": "wireless-obligation",
   "metadata": {},
   "source": [
    "### Heart Disease Frequency according to Sex"
   ]
  },
  {
   "cell_type": "code",
   "execution_count": 10,
   "id": "expanded-champagne",
   "metadata": {},
   "outputs": [
    {
     "data": {
      "text/plain": [
       "1    207\n",
       "0     96\n",
       "Name: sex, dtype: int64"
      ]
     },
     "execution_count": 10,
     "metadata": {},
     "output_type": "execute_result"
    }
   ],
   "source": [
    "df.sex.value_counts()"
   ]
  },
  {
   "cell_type": "code",
   "execution_count": 11,
   "id": "exceptional-south",
   "metadata": {},
   "outputs": [
    {
     "data": {
      "text/html": [
       "<div>\n",
       "<style scoped>\n",
       "    .dataframe tbody tr th:only-of-type {\n",
       "        vertical-align: middle;\n",
       "    }\n",
       "\n",
       "    .dataframe tbody tr th {\n",
       "        vertical-align: top;\n",
       "    }\n",
       "\n",
       "    .dataframe thead th {\n",
       "        text-align: right;\n",
       "    }\n",
       "</style>\n",
       "<table border=\"1\" class=\"dataframe\">\n",
       "  <thead>\n",
       "    <tr style=\"text-align: right;\">\n",
       "      <th>sex</th>\n",
       "      <th>0</th>\n",
       "      <th>1</th>\n",
       "    </tr>\n",
       "    <tr>\n",
       "      <th>target</th>\n",
       "      <th></th>\n",
       "      <th></th>\n",
       "    </tr>\n",
       "  </thead>\n",
       "  <tbody>\n",
       "    <tr>\n",
       "      <th>0</th>\n",
       "      <td>24</td>\n",
       "      <td>114</td>\n",
       "    </tr>\n",
       "    <tr>\n",
       "      <th>1</th>\n",
       "      <td>72</td>\n",
       "      <td>93</td>\n",
       "    </tr>\n",
       "  </tbody>\n",
       "</table>\n",
       "</div>"
      ],
      "text/plain": [
       "sex      0    1\n",
       "target         \n",
       "0       24  114\n",
       "1       72   93"
      ]
     },
     "execution_count": 11,
     "metadata": {},
     "output_type": "execute_result"
    }
   ],
   "source": [
    "# Compare target column with sex column\n",
    "\n",
    "pd.crosstab(df.target, df.sex)"
   ]
  },
  {
   "cell_type": "code",
   "execution_count": 12,
   "id": "moderate-flour",
   "metadata": {},
   "outputs": [
    {
     "data": {
      "image/png": "[encoded data removed]",
      "text/plain": [
       "<Figure size 720x432 with 1 Axes>"
      ]
     },
     "metadata": {
      "needs_background": "light"
     },
     "output_type": "display_data"
    }
   ],
   "source": [
    "# Compare target column with sex column using plot bar\n",
    "\n",
    "pd.crosstab(df.target, df.sex).plot(kind='bar', figsize=(10, 6), color=['salmon', 'lightblue']);\n",
    "\n",
    "plt.title('Heart Disease Frequency for Sex')\n",
    "plt.xlabel('0 = No Disease, 1 = Disease')\n",
    "plt.ylabel('Amount')\n",
    "plt.legend(['Female', 'Male'])\n",
    "plt.xticks(rotation=0);"
   ]
  },
  {
   "cell_type": "code",
   "execution_count": 13,
   "id": "dietary-minute",
   "metadata": {},
   "outputs": [
    {
     "data": {
      "text/plain": [
       "162    11\n",
       "163     9\n",
       "160     9\n",
       "152     8\n",
       "173     8\n",
       "       ..\n",
       "128     1\n",
       "129     1\n",
       "134     1\n",
       "137     1\n",
       "202     1\n",
       "Name: thalach, Length: 91, dtype: int64"
      ]
     },
     "execution_count": 13,
     "metadata": {},
     "output_type": "execute_result"
    }
   ],
   "source": [
    "df['thalach'].value_counts()"
   ]
  },
  {
   "cell_type": "markdown",
   "id": "selected-voluntary",
   "metadata": {},
   "source": [
    "### Age vs Max Heart Rate for Heart Disease"
   ]
  },
  {
   "cell_type": "code",
   "execution_count": 14,
   "id": "conventional-elimination",
   "metadata": {},
   "outputs": [
    {
     "data": {
      "image/png": "[encoded data removed]",
      "text/plain": [
       "<Figure size 720x432 with 1 Axes>"
      ]
     },
     "metadata": {
      "needs_background": "light"
     },
     "output_type": "display_data"
    }
   ],
   "source": [
    "# Crate another figure\n",
    "\n",
    "plt.figure(figsize=(10, 6))\n",
    "\n",
    "# Scatter with positive examples\n",
    "\n",
    "plt.scatter(df.age[df.target == 1],\n",
    "            df.thalach[df.target == 1],\n",
    "            c='salmon')\n",
    "\n",
    "# Scatter with negative examples\n",
    "\n",
    "plt.scatter(df.age[df.target == 0],\n",
    "            df.thalach[df.target == 0],\n",
    "            c='lightblue')\n",
    "\n",
    "# Add some helpful info\n",
    "\n",
    "plt.title('Heart Disease in function of Age and Max Heart Rate')\n",
    "plt.xlabel(\"Age\")\n",
    "plt.ylabel('Maximum Heart Rate')\n",
    "plt.legend(['Disease', 'No Disease']);"
   ]
  },
  {
   "cell_type": "code",
   "execution_count": 15,
   "id": "sized-metadata",
   "metadata": {},
   "outputs": [
    {
     "data": {
      "image/png": "[encoded data removed]",
      "text/plain": [
       "<Figure size 432x288 with 1 Axes>"
      ]
     },
     "metadata": {
      "needs_background": "light"
     },
     "output_type": "display_data"
    }
   ],
   "source": [
    "# Check the distribution of the age column with a histogram\n",
    "\n",
    "df.age.plot.hist();"
   ]
  },
  {
   "cell_type": "markdown",
   "id": "embedded-comment",
   "metadata": {},
   "source": [
    "### Heart Disease Frequency per Chest Pain Type\n",
    "\n",
    "cp - chest pain type\n",
    "* 0: Typical angina: chest pain related decrease blood supply to the heart\n",
    "* 1: Atypical angina: chest pain not related to heart\n",
    "* 2: Non-anginal pain: typically esophageal spasms (non heart related)\n",
    "* 3: Asymptomatic: chest pain not showing signs of disease"
   ]
  },
  {
   "cell_type": "code",
   "execution_count": 16,
   "id": "british-surprise",
   "metadata": {},
   "outputs": [
    {
     "data": {
      "text/html": [
       "<div>\n",
       "<style scoped>\n",
       "    .dataframe tbody tr th:only-of-type {\n",
       "        vertical-align: middle;\n",
       "    }\n",
       "\n",
       "    .dataframe tbody tr th {\n",
       "        vertical-align: top;\n",
       "    }\n",
       "\n",
       "    .dataframe thead th {\n",
       "        text-align: right;\n",
       "    }\n",
       "</style>\n",
       "<table border=\"1\" class=\"dataframe\">\n",
       "  <thead>\n",
       "    <tr style=\"text-align: right;\">\n",
       "      <th>target</th>\n",
       "      <th>0</th>\n",
       "      <th>1</th>\n",
       "    </tr>\n",
       "    <tr>\n",
       "      <th>cp</th>\n",
       "      <th></th>\n",
       "      <th></th>\n",
       "    </tr>\n",
       "  </thead>\n",
       "  <tbody>\n",
       "    <tr>\n",
       "      <th>0</th>\n",
       "      <td>104</td>\n",
       "      <td>39</td>\n",
       "    </tr>\n",
       "    <tr>\n",
       "      <th>1</th>\n",
       "      <td>9</td>\n",
       "      <td>41</td>\n",
       "    </tr>\n",
       "    <tr>\n",
       "      <th>2</th>\n",
       "      <td>18</td>\n",
       "      <td>69</td>\n",
       "    </tr>\n",
       "    <tr>\n",
       "      <th>3</th>\n",
       "      <td>7</td>\n",
       "      <td>16</td>\n",
       "    </tr>\n",
       "  </tbody>\n",
       "</table>\n",
       "</div>"
      ],
      "text/plain": [
       "target    0   1\n",
       "cp             \n",
       "0       104  39\n",
       "1         9  41\n",
       "2        18  69\n",
       "3         7  16"
      ]
     },
     "execution_count": 16,
     "metadata": {},
     "output_type": "execute_result"
    }
   ],
   "source": [
    "pd.crosstab(df.cp, df.target)"
   ]
  },
  {
   "cell_type": "code",
   "execution_count": 17,
   "id": "heavy-birth",
   "metadata": {},
   "outputs": [
    {
     "data": {
      "image/png": "[encoded data removed]",
      "text/plain": [
       "<Figure size 720x432 with 1 Axes>"
      ]
     },
     "metadata": {
      "needs_background": "light"
     },
     "output_type": "display_data"
    }
   ],
   "source": [
    "# Make the crosstab more visual\n",
    "\n",
    "pd.crosstab(df.cp, df.target).plot(kind='bar', figsize=(10, 6),\n",
    "                                   color=['salmon', 'lightblue'])\n",
    "\n",
    "## Add some communication\n",
    "\n",
    "plt.title('Heart Disease Frequency Per Chest Pain Type')\n",
    "plt.xlabel('Chest Pain Type')\n",
    "plt.ylabel('Amount')\n",
    "plt.legend(['No Disease', 'Disease'])\n",
    "plt.xticks(rotation=0);\n",
    "\n",
    "plt.savefig('heart-disease-frequency-per-chest-pain-type.png')"
   ]
  },
  {
   "cell_type": "code",
   "execution_count": 18,
   "id": "excess-massachusetts",
   "metadata": {},
   "outputs": [
    {
     "data": {
      "text/html": [
       "<div>\n",
       "<style scoped>\n",
       "    .dataframe tbody tr th:only-of-type {\n",
       "        vertical-align: middle;\n",
       "    }\n",
       "\n",
       "    .dataframe tbody tr th {\n",
       "        vertical-align: top;\n",
       "    }\n",
       "\n",
       "    .dataframe thead th {\n",
       "        text-align: right;\n",
       "    }\n",
       "</style>\n",
       "<table border=\"1\" class=\"dataframe\">\n",
       "  <thead>\n",
       "    <tr style=\"text-align: right;\">\n",
       "      <th></th>\n",
       "      <th>age</th>\n",
       "      <th>sex</th>\n",
       "      <th>cp</th>\n",
       "      <th>trestbps</th>\n",
       "      <th>chol</th>\n",
       "      <th>fbs</th>\n",
       "      <th>restecg</th>\n",
       "      <th>thalach</th>\n",
       "      <th>exang</th>\n",
       "      <th>oldpeak</th>\n",
       "      <th>slope</th>\n",
       "      <th>ca</th>\n",
       "      <th>thal</th>\n",
       "      <th>target</th>\n",
       "    </tr>\n",
       "  </thead>\n",
       "  <tbody>\n",
       "    <tr>\n",
       "      <th>age</th>\n",
       "      <td>1.000000</td>\n",
       "      <td>-0.098447</td>\n",
       "      <td>-0.068653</td>\n",
       "      <td>0.279351</td>\n",
       "      <td>0.213678</td>\n",
       "      <td>0.121308</td>\n",
       "      <td>-0.116211</td>\n",
       "      <td>-0.398522</td>\n",
       "      <td>0.096801</td>\n",
       "      <td>0.210013</td>\n",
       "      <td>-0.168814</td>\n",
       "      <td>0.276326</td>\n",
       "      <td>0.068001</td>\n",
       "      <td>-0.225439</td>\n",
       "    </tr>\n",
       "    <tr>\n",
       "      <th>sex</th>\n",
       "      <td>-0.098447</td>\n",
       "      <td>1.000000</td>\n",
       "      <td>-0.049353</td>\n",
       "      <td>-0.056769</td>\n",
       "      <td>-0.197912</td>\n",
       "      <td>0.045032</td>\n",
       "      <td>-0.058196</td>\n",
       "      <td>-0.044020</td>\n",
       "      <td>0.141664</td>\n",
       "      <td>0.096093</td>\n",
       "      <td>-0.030711</td>\n",
       "      <td>0.118261</td>\n",
       "      <td>0.210041</td>\n",
       "      <td>-0.280937</td>\n",
       "    </tr>\n",
       "    <tr>\n",
       "      <th>cp</th>\n",
       "      <td>-0.068653</td>\n",
       "      <td>-0.049353</td>\n",
       "      <td>1.000000</td>\n",
       "      <td>0.047608</td>\n",
       "      <td>-0.076904</td>\n",
       "      <td>0.094444</td>\n",
       "      <td>0.044421</td>\n",
       "      <td>0.295762</td>\n",
       "      <td>-0.394280</td>\n",
       "      <td>-0.149230</td>\n",
       "      <td>0.119717</td>\n",
       "      <td>-0.181053</td>\n",
       "      <td>-0.161736</td>\n",
       "      <td>0.433798</td>\n",
       "    </tr>\n",
       "    <tr>\n",
       "      <th>trestbps</th>\n",
       "      <td>0.279351</td>\n",
       "      <td>-0.056769</td>\n",
       "      <td>0.047608</td>\n",
       "      <td>1.000000</td>\n",
       "      <td>0.123174</td>\n",
       "      <td>0.177531</td>\n",
       "      <td>-0.114103</td>\n",
       "      <td>-0.046698</td>\n",
       "      <td>0.067616</td>\n",
       "      <td>0.193216</td>\n",
       "      <td>-0.121475</td>\n",
       "      <td>0.101389</td>\n",
       "      <td>0.062210</td>\n",
       "      <td>-0.144931</td>\n",
       "    </tr>\n",
       "    <tr>\n",
       "      <th>chol</th>\n",
       "      <td>0.213678</td>\n",
       "      <td>-0.197912</td>\n",
       "      <td>-0.076904</td>\n",
       "      <td>0.123174</td>\n",
       "      <td>1.000000</td>\n",
       "      <td>0.013294</td>\n",
       "      <td>-0.151040</td>\n",
       "      <td>-0.009940</td>\n",
       "      <td>0.067023</td>\n",
       "      <td>0.053952</td>\n",
       "      <td>-0.004038</td>\n",
       "      <td>0.070511</td>\n",
       "      <td>0.098803</td>\n",
       "      <td>-0.085239</td>\n",
       "    </tr>\n",
       "    <tr>\n",
       "      <th>fbs</th>\n",
       "      <td>0.121308</td>\n",
       "      <td>0.045032</td>\n",
       "      <td>0.094444</td>\n",
       "      <td>0.177531</td>\n",
       "      <td>0.013294</td>\n",
       "      <td>1.000000</td>\n",
       "      <td>-0.084189</td>\n",
       "      <td>-0.008567</td>\n",
       "      <td>0.025665</td>\n",
       "      <td>0.005747</td>\n",
       "      <td>-0.059894</td>\n",
       "      <td>0.137979</td>\n",
       "      <td>-0.032019</td>\n",
       "      <td>-0.028046</td>\n",
       "    </tr>\n",
       "    <tr>\n",
       "      <th>restecg</th>\n",
       "      <td>-0.116211</td>\n",
       "      <td>-0.058196</td>\n",
       "      <td>0.044421</td>\n",
       "      <td>-0.114103</td>\n",
       "      <td>-0.151040</td>\n",
       "      <td>-0.084189</td>\n",
       "      <td>1.000000</td>\n",
       "      <td>0.044123</td>\n",
       "      <td>-0.070733</td>\n",
       "      <td>-0.058770</td>\n",
       "      <td>0.093045</td>\n",
       "      <td>-0.072042</td>\n",
       "      <td>-0.011981</td>\n",
       "      <td>0.137230</td>\n",
       "    </tr>\n",
       "    <tr>\n",
       "      <th>thalach</th>\n",
       "      <td>-0.398522</td>\n",
       "      <td>-0.044020</td>\n",
       "      <td>0.295762</td>\n",
       "      <td>-0.046698</td>\n",
       "      <td>-0.009940</td>\n",
       "      <td>-0.008567</td>\n",
       "      <td>0.044123</td>\n",
       "      <td>1.000000</td>\n",
       "      <td>-0.378812</td>\n",
       "      <td>-0.344187</td>\n",
       "      <td>0.386784</td>\n",
       "      <td>-0.213177</td>\n",
       "      <td>-0.096439</td>\n",
       "      <td>0.421741</td>\n",
       "    </tr>\n",
       "    <tr>\n",
       "      <th>exang</th>\n",
       "      <td>0.096801</td>\n",
       "      <td>0.141664</td>\n",
       "      <td>-0.394280</td>\n",
       "      <td>0.067616</td>\n",
       "      <td>0.067023</td>\n",
       "      <td>0.025665</td>\n",
       "      <td>-0.070733</td>\n",
       "      <td>-0.378812</td>\n",
       "      <td>1.000000</td>\n",
       "      <td>0.288223</td>\n",
       "      <td>-0.257748</td>\n",
       "      <td>0.115739</td>\n",
       "      <td>0.206754</td>\n",
       "      <td>-0.436757</td>\n",
       "    </tr>\n",
       "    <tr>\n",
       "      <th>oldpeak</th>\n",
       "      <td>0.210013</td>\n",
       "      <td>0.096093</td>\n",
       "      <td>-0.149230</td>\n",
       "      <td>0.193216</td>\n",
       "      <td>0.053952</td>\n",
       "      <td>0.005747</td>\n",
       "      <td>-0.058770</td>\n",
       "      <td>-0.344187</td>\n",
       "      <td>0.288223</td>\n",
       "      <td>1.000000</td>\n",
       "      <td>-0.577537</td>\n",
       "      <td>0.222682</td>\n",
       "      <td>0.210244</td>\n",
       "      <td>-0.430696</td>\n",
       "    </tr>\n",
       "    <tr>\n",
       "      <th>slope</th>\n",
       "      <td>-0.168814</td>\n",
       "      <td>-0.030711</td>\n",
       "      <td>0.119717</td>\n",
       "      <td>-0.121475</td>\n",
       "      <td>-0.004038</td>\n",
       "      <td>-0.059894</td>\n",
       "      <td>0.093045</td>\n",
       "      <td>0.386784</td>\n",
       "      <td>-0.257748</td>\n",
       "      <td>-0.577537</td>\n",
       "      <td>1.000000</td>\n",
       "      <td>-0.080155</td>\n",
       "      <td>-0.104764</td>\n",
       "      <td>0.345877</td>\n",
       "    </tr>\n",
       "    <tr>\n",
       "      <th>ca</th>\n",
       "      <td>0.276326</td>\n",
       "      <td>0.118261</td>\n",
       "      <td>-0.181053</td>\n",
       "      <td>0.101389</td>\n",
       "      <td>0.070511</td>\n",
       "      <td>0.137979</td>\n",
       "      <td>-0.072042</td>\n",
       "      <td>-0.213177</td>\n",
       "      <td>0.115739</td>\n",
       "      <td>0.222682</td>\n",
       "      <td>-0.080155</td>\n",
       "      <td>1.000000</td>\n",
       "      <td>0.151832</td>\n",
       "      <td>-0.391724</td>\n",
       "    </tr>\n",
       "    <tr>\n",
       "      <th>thal</th>\n",
       "      <td>0.068001</td>\n",
       "      <td>0.210041</td>\n",
       "      <td>-0.161736</td>\n",
       "      <td>0.062210</td>\n",
       "      <td>0.098803</td>\n",
       "      <td>-0.032019</td>\n",
       "      <td>-0.011981</td>\n",
       "      <td>-0.096439</td>\n",
       "      <td>0.206754</td>\n",
       "      <td>0.210244</td>\n",
       "      <td>-0.104764</td>\n",
       "      <td>0.151832</td>\n",
       "      <td>1.000000</td>\n",
       "      <td>-0.344029</td>\n",
       "    </tr>\n",
       "    <tr>\n",
       "      <th>target</th>\n",
       "      <td>-0.225439</td>\n",
       "      <td>-0.280937</td>\n",
       "      <td>0.433798</td>\n",
       "      <td>-0.144931</td>\n",
       "      <td>-0.085239</td>\n",
       "      <td>-0.028046</td>\n",
       "      <td>0.137230</td>\n",
       "      <td>0.421741</td>\n",
       "      <td>-0.436757</td>\n",
       "      <td>-0.430696</td>\n",
       "      <td>0.345877</td>\n",
       "      <td>-0.391724</td>\n",
       "      <td>-0.344029</td>\n",
       "      <td>1.000000</td>\n",
       "    </tr>\n",
       "  </tbody>\n",
       "</table>\n",
       "</div>"
      ],
      "text/plain": [
       "               age       sex        cp  trestbps      chol       fbs  \\\n",
       "age       1.000000 -0.098447 -0.068653  0.279351  0.213678  0.121308   \n",
       "sex      -0.098447  1.000000 -0.049353 -0.056769 -0.197912  0.045032   \n",
       "cp       -0.068653 -0.049353  1.000000  0.047608 -0.076904  0.094444   \n",
       "trestbps  0.279351 -0.056769  0.047608  1.000000  0.123174  0.177531   \n",
       "chol      0.213678 -0.197912 -0.076904  0.123174  1.000000  0.013294   \n",
       "fbs       0.121308  0.045032  0.094444  0.177531  0.013294  1.000000   \n",
       "restecg  -0.116211 -0.058196  0.044421 -0.114103 -0.151040 -0.084189   \n",
       "thalach  -0.398522 -0.044020  0.295762 -0.046698 -0.009940 -0.008567   \n",
       "exang     0.096801  0.141664 -0.394280  0.067616  0.067023  0.025665   \n",
       "oldpeak   0.210013  0.096093 -0.149230  0.193216  0.053952  0.005747   \n",
       "slope    -0.168814 -0.030711  0.119717 -0.121475 -0.004038 -0.059894   \n",
       "ca        0.276326  0.118261 -0.181053  0.101389  0.070511  0.137979   \n",
       "thal      0.068001  0.210041 -0.161736  0.062210  0.098803 -0.032019   \n",
       "target   -0.225439 -0.280937  0.433798 -0.144931 -0.085239 -0.028046   \n",
       "\n",
       "           restecg   thalach     exang   oldpeak     slope        ca  \\\n",
       "age      -0.116211 -0.398522  0.096801  0.210013 -0.168814  0.276326   \n",
       "sex      -0.058196 -0.044020  0.141664  0.096093 -0.030711  0.118261   \n",
       "cp        0.044421  0.295762 -0.394280 -0.149230  0.119717 -0.181053   \n",
       "trestbps -0.114103 -0.046698  0.067616  0.193216 -0.121475  0.101389   \n",
       "chol     -0.151040 -0.009940  0.067023  0.053952 -0.004038  0.070511   \n",
       "fbs      -0.084189 -0.008567  0.025665  0.005747 -0.059894  0.137979   \n",
       "restecg   1.000000  0.044123 -0.070733 -0.058770  0.093045 -0.072042   \n",
       "thalach   0.044123  1.000000 -0.378812 -0.344187  0.386784 -0.213177   \n",
       "exang    -0.070733 -0.378812  1.000000  0.288223 -0.257748  0.115739   \n",
       "oldpeak  -0.058770 -0.344187  0.288223  1.000000 -0.577537  0.222682   \n",
       "slope     0.093045  0.386784 -0.257748 -0.577537  1.000000 -0.080155   \n",
       "ca       -0.072042 -0.213177  0.115739  0.222682 -0.080155  1.000000   \n",
       "thal     -0.011981 -0.096439  0.206754  0.210244 -0.104764  0.151832   \n",
       "target    0.137230  0.421741 -0.436757 -0.430696  0.345877 -0.391724   \n",
       "\n",
       "              thal    target  \n",
       "age       0.068001 -0.225439  \n",
       "sex       0.210041 -0.280937  \n",
       "cp       -0.161736  0.433798  \n",
       "trestbps  0.062210 -0.144931  \n",
       "chol      0.098803 -0.085239  \n",
       "fbs      -0.032019 -0.028046  \n",
       "restecg  -0.011981  0.137230  \n",
       "thalach  -0.096439  0.421741  \n",
       "exang     0.206754 -0.436757  \n",
       "oldpeak   0.210244 -0.430696  \n",
       "slope    -0.104764  0.345877  \n",
       "ca        0.151832 -0.391724  \n",
       "thal      1.000000 -0.344029  \n",
       "target   -0.344029  1.000000  "
      ]
     },
     "execution_count": 18,
     "metadata": {},
     "output_type": "execute_result"
    }
   ],
   "source": [
    "# Make a correlation matrix\n",
    "\n",
    "df.corr()"
   ]
  },
  {
   "cell_type": "code",
   "execution_count": 19,
   "id": "studied-conversation",
   "metadata": {},
   "outputs": [
    {
     "data": {
      "image/png": "[encoded data removed]",
      "text/plain": [
       "<Figure size 1080x720 with 2 Axes>"
      ]
     },
     "metadata": {
      "needs_background": "light"
     },
     "output_type": "display_data"
    }
   ],
   "source": [
    "corr_matrix = df.corr()\n",
    "\n",
    "fig, ax = plt.subplots(figsize=(15, 10))\n",
    "\n",
    "ax = sns.heatmap(corr_matrix,\n",
    "                 annot = True,\n",
    "                 linewidths = 0.5,\n",
    "                 fmt='.2f',\n",
    "                 cmap='YlGnBu')\n",
    "\n",
    "plt.savefig('corr_matrix_heart_disease.png')"
   ]
  },
  {
   "cell_type": "code",
   "execution_count": 20,
   "id": "mature-placement",
   "metadata": {},
   "outputs": [
    {
     "data": {
      "image/png": "[encoded data removed]",
      "text/plain": [
       "<Figure size 720x432 with 1 Axes>"
      ]
     },
     "metadata": {
      "needs_background": "light"
     },
     "output_type": "display_data"
    }
   ],
   "source": [
    "# Make the crosstab more visual\n",
    "\n",
    "pd.crosstab(df.exang, df.target).plot(kind='bar', figsize=(10, 6),\n",
    "                                   color=['salmon', 'lightblue'])\n",
    "\n",
    "## Add some communication\n",
    "\n",
    "plt.title('Heart Disease Frequency Per Chest Pain Type')\n",
    "plt.xlabel('Chest Pain Type')\n",
    "plt.ylabel('Amount')\n",
    "plt.legend(['No Disease', 'Disease'])\n",
    "plt.xticks(rotation=0);"
   ]
  },
  {
   "cell_type": "markdown",
   "id": "brazilian-celtic",
   "metadata": {},
   "source": [
    "## 5. Modeling"
   ]
  },
  {
   "cell_type": "code",
   "execution_count": 21,
   "id": "statutory-indian",
   "metadata": {},
   "outputs": [
    {
     "data": {
      "text/html": [
       "<div>\n",
       "<style scoped>\n",
       "    .dataframe tbody tr th:only-of-type {\n",
       "        vertical-align: middle;\n",
       "    }\n",
       "\n",
       "    .dataframe tbody tr th {\n",
       "        vertical-align: top;\n",
       "    }\n",
       "\n",
       "    .dataframe thead th {\n",
       "        text-align: right;\n",
       "    }\n",
       "</style>\n",
       "<table border=\"1\" class=\"dataframe\">\n",
       "  <thead>\n",
       "    <tr style=\"text-align: right;\">\n",
       "      <th></th>\n",
       "      <th>age</th>\n",
       "      <th>sex</th>\n",
       "      <th>cp</th>\n",
       "      <th>trestbps</th>\n",
       "      <th>chol</th>\n",
       "      <th>fbs</th>\n",
       "      <th>restecg</th>\n",
       "      <th>thalach</th>\n",
       "      <th>exang</th>\n",
       "      <th>oldpeak</th>\n",
       "      <th>slope</th>\n",
       "      <th>ca</th>\n",
       "      <th>thal</th>\n",
       "      <th>target</th>\n",
       "    </tr>\n",
       "  </thead>\n",
       "  <tbody>\n",
       "    <tr>\n",
       "      <th>0</th>\n",
       "      <td>63</td>\n",
       "      <td>1</td>\n",
       "      <td>3</td>\n",
       "      <td>145</td>\n",
       "      <td>233</td>\n",
       "      <td>1</td>\n",
       "      <td>0</td>\n",
       "      <td>150</td>\n",
       "      <td>0</td>\n",
       "      <td>2.3</td>\n",
       "      <td>0</td>\n",
       "      <td>0</td>\n",
       "      <td>1</td>\n",
       "      <td>1</td>\n",
       "    </tr>\n",
       "    <tr>\n",
       "      <th>1</th>\n",
       "      <td>37</td>\n",
       "      <td>1</td>\n",
       "      <td>2</td>\n",
       "      <td>130</td>\n",
       "      <td>250</td>\n",
       "      <td>0</td>\n",
       "      <td>1</td>\n",
       "      <td>187</td>\n",
       "      <td>0</td>\n",
       "      <td>3.5</td>\n",
       "      <td>0</td>\n",
       "      <td>0</td>\n",
       "      <td>2</td>\n",
       "      <td>1</td>\n",
       "    </tr>\n",
       "    <tr>\n",
       "      <th>2</th>\n",
       "      <td>41</td>\n",
       "      <td>0</td>\n",
       "      <td>1</td>\n",
       "      <td>130</td>\n",
       "      <td>204</td>\n",
       "      <td>0</td>\n",
       "      <td>0</td>\n",
       "      <td>172</td>\n",
       "      <td>0</td>\n",
       "      <td>1.4</td>\n",
       "      <td>2</td>\n",
       "      <td>0</td>\n",
       "      <td>2</td>\n",
       "      <td>1</td>\n",
       "    </tr>\n",
       "    <tr>\n",
       "      <th>3</th>\n",
       "      <td>56</td>\n",
       "      <td>1</td>\n",
       "      <td>1</td>\n",
       "      <td>120</td>\n",
       "      <td>236</td>\n",
       "      <td>0</td>\n",
       "      <td>1</td>\n",
       "      <td>178</td>\n",
       "      <td>0</td>\n",
       "      <td>0.8</td>\n",
       "      <td>2</td>\n",
       "      <td>0</td>\n",
       "      <td>2</td>\n",
       "      <td>1</td>\n",
       "    </tr>\n",
       "    <tr>\n",
       "      <th>4</th>\n",
       "      <td>57</td>\n",
       "      <td>0</td>\n",
       "      <td>0</td>\n",
       "      <td>120</td>\n",
       "      <td>354</td>\n",
       "      <td>0</td>\n",
       "      <td>1</td>\n",
       "      <td>163</td>\n",
       "      <td>1</td>\n",
       "      <td>0.6</td>\n",
       "      <td>2</td>\n",
       "      <td>0</td>\n",
       "      <td>2</td>\n",
       "      <td>1</td>\n",
       "    </tr>\n",
       "  </tbody>\n",
       "</table>\n",
       "</div>"
      ],
      "text/plain": [
       "   age  sex  cp  trestbps  chol  fbs  restecg  thalach  exang  oldpeak  slope  \\\n",
       "0   63    1   3       145   233    1        0      150      0      2.3      0   \n",
       "1   37    1   2       130   250    0        1      187      0      3.5      0   \n",
       "2   41    0   1       130   204    0        0      172      0      1.4      2   \n",
       "3   56    1   1       120   236    0        1      178      0      0.8      2   \n",
       "4   57    0   0       120   354    0        1      163      1      0.6      2   \n",
       "\n",
       "   ca  thal  target  \n",
       "0   0     1       1  \n",
       "1   0     2       1  \n",
       "2   0     2       1  \n",
       "3   0     2       1  \n",
       "4   0     2       1  "
      ]
     },
     "execution_count": 21,
     "metadata": {},
     "output_type": "execute_result"
    }
   ],
   "source": [
    "df.head()"
   ]
  },
  {
   "cell_type": "code",
   "execution_count": 22,
   "id": "developmental-saturn",
   "metadata": {},
   "outputs": [],
   "source": [
    "# Split data into X and y\n",
    "\n",
    "X = df.drop('target', axis=1)\n",
    "\n",
    "y = df.target"
   ]
  },
  {
   "cell_type": "code",
   "execution_count": 23,
   "id": "continental-toddler",
   "metadata": {},
   "outputs": [
    {
     "data": {
      "text/plain": [
       "0      1\n",
       "1      1\n",
       "2      1\n",
       "3      1\n",
       "4      1\n",
       "      ..\n",
       "298    0\n",
       "299    0\n",
       "300    0\n",
       "301    0\n",
       "302    0\n",
       "Name: target, Length: 303, dtype: int64"
      ]
     },
     "execution_count": 23,
     "metadata": {},
     "output_type": "execute_result"
    }
   ],
   "source": [
    "y"
   ]
  },
  {
   "cell_type": "code",
   "execution_count": 24,
   "id": "conventional-fitting",
   "metadata": {},
   "outputs": [
    {
     "data": {
      "text/html": [
       "<div>\n",
       "<style scoped>\n",
       "    .dataframe tbody tr th:only-of-type {\n",
       "        vertical-align: middle;\n",
       "    }\n",
       "\n",
       "    .dataframe tbody tr th {\n",
       "        vertical-align: top;\n",
       "    }\n",
       "\n",
       "    .dataframe thead th {\n",
       "        text-align: right;\n",
       "    }\n",
       "</style>\n",
       "<table border=\"1\" class=\"dataframe\">\n",
       "  <thead>\n",
       "    <tr style=\"text-align: right;\">\n",
       "      <th></th>\n",
       "      <th>age</th>\n",
       "      <th>sex</th>\n",
       "      <th>cp</th>\n",
       "      <th>trestbps</th>\n",
       "      <th>chol</th>\n",
       "      <th>fbs</th>\n",
       "      <th>restecg</th>\n",
       "      <th>thalach</th>\n",
       "      <th>exang</th>\n",
       "      <th>oldpeak</th>\n",
       "      <th>slope</th>\n",
       "      <th>ca</th>\n",
       "      <th>thal</th>\n",
       "    </tr>\n",
       "  </thead>\n",
       "  <tbody>\n",
       "    <tr>\n",
       "      <th>0</th>\n",
       "      <td>63</td>\n",
       "      <td>1</td>\n",
       "      <td>3</td>\n",
       "      <td>145</td>\n",
       "      <td>233</td>\n",
       "      <td>1</td>\n",
       "      <td>0</td>\n",
       "      <td>150</td>\n",
       "      <td>0</td>\n",
       "      <td>2.3</td>\n",
       "      <td>0</td>\n",
       "      <td>0</td>\n",
       "      <td>1</td>\n",
       "    </tr>\n",
       "    <tr>\n",
       "      <th>1</th>\n",
       "      <td>37</td>\n",
       "      <td>1</td>\n",
       "      <td>2</td>\n",
       "      <td>130</td>\n",
       "      <td>250</td>\n",
       "      <td>0</td>\n",
       "      <td>1</td>\n",
       "      <td>187</td>\n",
       "      <td>0</td>\n",
       "      <td>3.5</td>\n",
       "      <td>0</td>\n",
       "      <td>0</td>\n",
       "      <td>2</td>\n",
       "    </tr>\n",
       "    <tr>\n",
       "      <th>2</th>\n",
       "      <td>41</td>\n",
       "      <td>0</td>\n",
       "      <td>1</td>\n",
       "      <td>130</td>\n",
       "      <td>204</td>\n",
       "      <td>0</td>\n",
       "      <td>0</td>\n",
       "      <td>172</td>\n",
       "      <td>0</td>\n",
       "      <td>1.4</td>\n",
       "      <td>2</td>\n",
       "      <td>0</td>\n",
       "      <td>2</td>\n",
       "    </tr>\n",
       "    <tr>\n",
       "      <th>3</th>\n",
       "      <td>56</td>\n",
       "      <td>1</td>\n",
       "      <td>1</td>\n",
       "      <td>120</td>\n",
       "      <td>236</td>\n",
       "      <td>0</td>\n",
       "      <td>1</td>\n",
       "      <td>178</td>\n",
       "      <td>0</td>\n",
       "      <td>0.8</td>\n",
       "      <td>2</td>\n",
       "      <td>0</td>\n",
       "      <td>2</td>\n",
       "    </tr>\n",
       "    <tr>\n",
       "      <th>4</th>\n",
       "      <td>57</td>\n",
       "      <td>0</td>\n",
       "      <td>0</td>\n",
       "      <td>120</td>\n",
       "      <td>354</td>\n",
       "      <td>0</td>\n",
       "      <td>1</td>\n",
       "      <td>163</td>\n",
       "      <td>1</td>\n",
       "      <td>0.6</td>\n",
       "      <td>2</td>\n",
       "      <td>0</td>\n",
       "      <td>2</td>\n",
       "    </tr>\n",
       "    <tr>\n",
       "      <th>...</th>\n",
       "      <td>...</td>\n",
       "      <td>...</td>\n",
       "      <td>...</td>\n",
       "      <td>...</td>\n",
       "      <td>...</td>\n",
       "      <td>...</td>\n",
       "      <td>...</td>\n",
       "      <td>...</td>\n",
       "      <td>...</td>\n",
       "      <td>...</td>\n",
       "      <td>...</td>\n",
       "      <td>...</td>\n",
       "      <td>...</td>\n",
       "    </tr>\n",
       "    <tr>\n",
       "      <th>298</th>\n",
       "      <td>57</td>\n",
       "      <td>0</td>\n",
       "      <td>0</td>\n",
       "      <td>140</td>\n",
       "      <td>241</td>\n",
       "      <td>0</td>\n",
       "      <td>1</td>\n",
       "      <td>123</td>\n",
       "      <td>1</td>\n",
       "      <td>0.2</td>\n",
       "      <td>1</td>\n",
       "      <td>0</td>\n",
       "      <td>3</td>\n",
       "    </tr>\n",
       "    <tr>\n",
       "      <th>299</th>\n",
       "      <td>45</td>\n",
       "      <td>1</td>\n",
       "      <td>3</td>\n",
       "      <td>110</td>\n",
       "      <td>264</td>\n",
       "      <td>0</td>\n",
       "      <td>1</td>\n",
       "      <td>132</td>\n",
       "      <td>0</td>\n",
       "      <td>1.2</td>\n",
       "      <td>1</td>\n",
       "      <td>0</td>\n",
       "      <td>3</td>\n",
       "    </tr>\n",
       "    <tr>\n",
       "      <th>300</th>\n",
       "      <td>68</td>\n",
       "      <td>1</td>\n",
       "      <td>0</td>\n",
       "      <td>144</td>\n",
       "      <td>193</td>\n",
       "      <td>1</td>\n",
       "      <td>1</td>\n",
       "      <td>141</td>\n",
       "      <td>0</td>\n",
       "      <td>3.4</td>\n",
       "      <td>1</td>\n",
       "      <td>2</td>\n",
       "      <td>3</td>\n",
       "    </tr>\n",
       "    <tr>\n",
       "      <th>301</th>\n",
       "      <td>57</td>\n",
       "      <td>1</td>\n",
       "      <td>0</td>\n",
       "      <td>130</td>\n",
       "      <td>131</td>\n",
       "      <td>0</td>\n",
       "      <td>1</td>\n",
       "      <td>115</td>\n",
       "      <td>1</td>\n",
       "      <td>1.2</td>\n",
       "      <td>1</td>\n",
       "      <td>1</td>\n",
       "      <td>3</td>\n",
       "    </tr>\n",
       "    <tr>\n",
       "      <th>302</th>\n",
       "      <td>57</td>\n",
       "      <td>0</td>\n",
       "      <td>1</td>\n",
       "      <td>130</td>\n",
       "      <td>236</td>\n",
       "      <td>0</td>\n",
       "      <td>0</td>\n",
       "      <td>174</td>\n",
       "      <td>0</td>\n",
       "      <td>0.0</td>\n",
       "      <td>1</td>\n",
       "      <td>1</td>\n",
       "      <td>2</td>\n",
       "    </tr>\n",
       "  </tbody>\n",
       "</table>\n",
       "<p>303 rows × 13 columns</p>\n",
       "</div>"
      ],
      "text/plain": [
       "     age  sex  cp  trestbps  chol  fbs  restecg  thalach  exang  oldpeak  \\\n",
       "0     63    1   3       145   233    1        0      150      0      2.3   \n",
       "1     37    1   2       130   250    0        1      187      0      3.5   \n",
       "2     41    0   1       130   204    0        0      172      0      1.4   \n",
       "3     56    1   1       120   236    0        1      178      0      0.8   \n",
       "4     57    0   0       120   354    0        1      163      1      0.6   \n",
       "..   ...  ...  ..       ...   ...  ...      ...      ...    ...      ...   \n",
       "298   57    0   0       140   241    0        1      123      1      0.2   \n",
       "299   45    1   3       110   264    0        1      132      0      1.2   \n",
       "300   68    1   0       144   193    1        1      141      0      3.4   \n",
       "301   57    1   0       130   131    0        1      115      1      1.2   \n",
       "302   57    0   1       130   236    0        0      174      0      0.0   \n",
       "\n",
       "     slope  ca  thal  \n",
       "0        0   0     1  \n",
       "1        0   0     2  \n",
       "2        2   0     2  \n",
       "3        2   0     2  \n",
       "4        2   0     2  \n",
       "..     ...  ..   ...  \n",
       "298      1   0     3  \n",
       "299      1   0     3  \n",
       "300      1   2     3  \n",
       "301      1   1     3  \n",
       "302      1   1     2  \n",
       "\n",
       "[303 rows x 13 columns]"
      ]
     },
     "execution_count": 24,
     "metadata": {},
     "output_type": "execute_result"
    }
   ],
   "source": [
    "X"
   ]
  },
  {
   "cell_type": "code",
   "execution_count": 25,
   "id": "fifth-cooperation",
   "metadata": {},
   "outputs": [],
   "source": [
    "# Split data into train and test sets\n",
    "\n",
    "np.random.seed(42)\n",
    "\n",
    "# Split into train and test\n",
    "\n",
    "X_train, X_test, y_train, y_test = train_test_split(X, y, test_size=0.2)"
   ]
  },
  {
   "cell_type": "code",
   "execution_count": 26,
   "id": "chinese-change",
   "metadata": {},
   "outputs": [
    {
     "data": {
      "text/plain": [
       "132    1\n",
       "202    0\n",
       "196    0\n",
       "75     1\n",
       "176    0\n",
       "      ..\n",
       "188    0\n",
       "71     1\n",
       "106    1\n",
       "270    0\n",
       "102    1\n",
       "Name: target, Length: 242, dtype: int64"
      ]
     },
     "execution_count": 26,
     "metadata": {},
     "output_type": "execute_result"
    }
   ],
   "source": [
    "y_train"
   ]
  },
  {
   "cell_type": "markdown",
   "id": "suffering-staff",
   "metadata": {},
   "source": [
    "Now we've got our data split into training and test sets, it's time to build Machine Learning model\n",
    "\n",
    "We'll train it (find the patterns) on the training set.\n",
    "\n",
    "And we'll test it (use the pattersn) on the test set.\n",
    "\n",
    "We're going to try 3 different machine learning models:\n",
    "\n",
    "1. Logistic Regression\n",
    "2. K-Nearest Neghbours Classifier\n",
    "3. Random Forest Classifier"
   ]
  },
  {
   "cell_type": "code",
   "execution_count": 27,
   "id": "revolutionary-explorer",
   "metadata": {},
   "outputs": [],
   "source": [
    "# Put models into dictionary\n",
    "\n",
    "model = {'Logistic Regression': LogisticRegression(solver='liblinear'),\n",
    "         'KNN': KNeighborsClassifier(),\n",
    "         'Random Forest Classifier': RandomForestClassifier()}\n",
    "\n",
    "# Create a function to fit and score models\n",
    "\n",
    "def fit_and_score(models, X_train, X_test, y_train, y_test):\n",
    "    \"\"\"\n",
    "    Fits and evaluates given machine learning models.\n",
    "    models : a dict of different Scikit-Learn machine learning models\n",
    "    X_train : Training data (no labels)\n",
    "    X_test : Test data (no labels)\n",
    "    y_train : Training labels\n",
    "    y_test : Test labels\n",
    "    \"\"\"\n",
    "    \n",
    "    # Set random seed\n",
    "    np.random.seed(42)\n",
    "    # Make a dictionary to keep model scores\n",
    "    model_scores = {}\n",
    "    \n",
    "    # Loop through models\n",
    "    for name, model in models.items():\n",
    "        # Fit the model to the data\n",
    "        model.fit(X_train, y_train)\n",
    "        # Evaluate the model and append it's score to model_scores\n",
    "        model_scores[name] = model.score(X_test, y_test)\n",
    "        \n",
    "    return model_scores"
   ]
  },
  {
   "cell_type": "code",
   "execution_count": 28,
   "id": "labeled-confusion",
   "metadata": {},
   "outputs": [
    {
     "data": {
      "text/plain": [
       "{'Logistic Regression': 0.8688524590163934,\n",
       " 'KNN': 0.6885245901639344,\n",
       " 'Random Forest Classifier': 0.8360655737704918}"
      ]
     },
     "execution_count": 28,
     "metadata": {},
     "output_type": "execute_result"
    }
   ],
   "source": [
    "scores = fit_and_score(model, X_train, X_test, y_train, y_test)\n",
    "\n",
    "scores"
   ]
  },
  {
   "cell_type": "markdown",
   "id": "suitable-rings",
   "metadata": {},
   "source": [
    "### Model Comparison"
   ]
  },
  {
   "cell_type": "code",
   "execution_count": 29,
   "id": "green-apache",
   "metadata": {},
   "outputs": [
    {
     "data": {
      "image/png": "[encoded data removed]",
      "text/plain": [
       "<Figure size 432x288 with 1 Axes>"
      ]
     },
     "metadata": {
      "needs_background": "light"
     },
     "output_type": "display_data"
    }
   ],
   "source": [
    "model_compare = pd.DataFrame(scores, index=['Accuracy'])\n",
    "\n",
    "model_compare.T.plot.bar();"
   ]
  },
  {
   "cell_type": "markdown",
   "id": "unauthorized-solution",
   "metadata": {},
   "source": [
    "Now we've got a baseline model... and we know a model's first predictions aren't always what we should base our next steps off. What should we do ?\n",
    "\n",
    "Let's look at the following:\n",
    "\n",
    "* Hyperparameter tuning\n",
    "* Feature importance\n",
    "* Confusion matrix\n",
    "* Cross-validation\n",
    "* Precision\n",
    "* Recall\n",
    "* F1 score\n",
    "* Classification report\n",
    "* ROC curve\n",
    "* Area under the curve (AUC)"
   ]
  },
  {
   "cell_type": "markdown",
   "id": "banned-mission",
   "metadata": {},
   "source": [
    "### Hyperparameter tuning (by hand)"
   ]
  },
  {
   "cell_type": "code",
   "execution_count": 30,
   "id": "silver-violation",
   "metadata": {},
   "outputs": [],
   "source": [
    "# Let's tune KNN\n",
    "\n",
    "train_scores = []\n",
    "test_scores = []\n",
    "\n",
    "# Create a list of different values for n_neighbors\n",
    "\n",
    "neighbors = range(1, 21)\n",
    "\n",
    "# Setup KNN instance\n",
    "\n",
    "knn = KNeighborsClassifier()\n",
    "\n",
    "# Loop through different n_neighbors\n",
    "\n",
    "for i in neighbors:\n",
    "    knn.set_params(n_neighbors=i)\n",
    "    \n",
    "    # Fit the algorithm\n",
    "    knn.fit(X_train, y_train)\n",
    "    \n",
    "    # Update the training score list\n",
    "    train_scores.append(knn.score(X_train, y_train))\n",
    "    \n",
    "    # Update the test scores list\n",
    "    \n",
    "    test_scores.append(knn.score(X_test, y_test))"
   ]
  },
  {
   "cell_type": "code",
   "execution_count": 31,
   "id": "ecological-designation",
   "metadata": {},
   "outputs": [
    {
     "data": {
      "text/plain": [
       "[1.0,\n",
       " 0.8099173553719008,\n",
       " 0.7727272727272727,\n",
       " 0.743801652892562,\n",
       " 0.7603305785123967,\n",
       " 0.7520661157024794,\n",
       " 0.743801652892562,\n",
       " 0.7231404958677686,\n",
       " 0.71900826446281,\n",
       " 0.6942148760330579,\n",
       " 0.7272727272727273,\n",
       " 0.6983471074380165,\n",
       " 0.6900826446280992,\n",
       " 0.6942148760330579,\n",
       " 0.6859504132231405,\n",
       " 0.6735537190082644,\n",
       " 0.6859504132231405,\n",
       " 0.6652892561983471,\n",
       " 0.6818181818181818,\n",
       " 0.6694214876033058]"
      ]
     },
     "execution_count": 31,
     "metadata": {},
     "output_type": "execute_result"
    }
   ],
   "source": [
    "train_scores"
   ]
  },
  {
   "cell_type": "code",
   "execution_count": 32,
   "id": "dirty-import",
   "metadata": {},
   "outputs": [
    {
     "data": {
      "text/plain": [
       "[0.6229508196721312,\n",
       " 0.639344262295082,\n",
       " 0.6557377049180327,\n",
       " 0.6721311475409836,\n",
       " 0.6885245901639344,\n",
       " 0.7213114754098361,\n",
       " 0.7049180327868853,\n",
       " 0.6885245901639344,\n",
       " 0.6885245901639344,\n",
       " 0.7049180327868853,\n",
       " 0.7540983606557377,\n",
       " 0.7377049180327869,\n",
       " 0.7377049180327869,\n",
       " 0.7377049180327869,\n",
       " 0.6885245901639344,\n",
       " 0.7213114754098361,\n",
       " 0.6885245901639344,\n",
       " 0.6885245901639344,\n",
       " 0.7049180327868853,\n",
       " 0.6557377049180327]"
      ]
     },
     "execution_count": 32,
     "metadata": {},
     "output_type": "execute_result"
    }
   ],
   "source": [
    "test_scores"
   ]
  },
  {
   "cell_type": "code",
   "execution_count": 33,
   "id": "chief-maple",
   "metadata": {},
   "outputs": [
    {
     "name": "stdout",
     "output_type": "stream",
     "text": [
      "Maximum KNN sscore on the test data: 75.41%\n"
     ]
    },
    {
     "data": {
      "image/png": "[encoded data removed]",
      "text/plain": [
       "<Figure size 432x288 with 1 Axes>"
      ]
     },
     "metadata": {
      "needs_background": "light"
     },
     "output_type": "display_data"
    }
   ],
   "source": [
    "plt.plot(neighbors, train_scores, label='Train Score')\n",
    "plt.plot(neighbors, test_scores, label='Test Score')\n",
    "plt.xticks(np.arange(1,21,1))\n",
    "plt.xlabel(\"Number of neighbors\")\n",
    "plt.ylabel(\"Model Score\")\n",
    "plt.legend()\n",
    "\n",
    "print(f\"Maximum KNN sscore on the test data: {max(test_scores)*100:.2f}%\")"
   ]
  },
  {
   "cell_type": "markdown",
   "id": "exterior-sewing",
   "metadata": {},
   "source": [
    "## Hyperparameter tuning with RandomizedSearchCV\n",
    "\n",
    "We're going to tune:\n",
    "\n",
    "* LogisticRegression()\n",
    "* RandomForestClassifier()\n",
    "\n",
    "...using RandomizedSearchCV"
   ]
  },
  {
   "cell_type": "code",
   "execution_count": 34,
   "id": "caroline-bidder",
   "metadata": {},
   "outputs": [],
   "source": [
    "# Create a hyperparameter grid for Logistic Regression\n",
    "\n",
    "log_reg_grid = {\"C\": np.logspace(-4, 4, 20),\n",
    "                'solver': ['liblinear']}\n",
    "\n",
    "# Create a hyperparameter grid for Random Forest\n",
    "\n",
    "rf_grid = {'n_estimators': np.arange(10, 1000, 50),\n",
    "            'max_depth': [None, 3, 5, 10],\n",
    "            'min_samples_split': np.arange(2, 20, 2),\n",
    "            'min_samples_leaf': np.arange(1, 20, 2)}"
   ]
  },
  {
   "cell_type": "markdown",
   "id": "fallen-seating",
   "metadata": {},
   "source": [
    "Now we've got hyperparameter grids setup for each of our models, let's tune them using RandomizedSearchCV"
   ]
  },
  {
   "cell_type": "code",
   "execution_count": 35,
   "id": "opposite-outside",
   "metadata": {},
   "outputs": [
    {
     "name": "stdout",
     "output_type": "stream",
     "text": [
      "Fitting 5 folds for each of 20 candidates, totalling 100 fits\n"
     ]
    },
    {
     "name": "stderr",
     "output_type": "stream",
     "text": [
      "[Parallel(n_jobs=1)]: Using backend SequentialBackend with 1 concurrent workers.\n",
      "[Parallel(n_jobs=1)]: Done 100 out of 100 | elapsed:    0.3s finished\n"
     ]
    },
    {
     "data": {
      "text/plain": [
       "RandomizedSearchCV(cv=5, estimator=LogisticRegression(), n_iter=20,\n",
       "                   param_distributions={'C': array([1.00000000e-04, 2.63665090e-04, 6.95192796e-04, 1.83298071e-03,\n",
       "       4.83293024e-03, 1.27427499e-02, 3.35981829e-02, 8.85866790e-02,\n",
       "       2.33572147e-01, 6.15848211e-01, 1.62377674e+00, 4.28133240e+00,\n",
       "       1.12883789e+01, 2.97635144e+01, 7.84759970e+01, 2.06913808e+02,\n",
       "       5.45559478e+02, 1.43844989e+03, 3.79269019e+03, 1.00000000e+04]),\n",
       "                                        'solver': ['liblinear']},\n",
       "                   verbose=True)"
      ]
     },
     "execution_count": 35,
     "metadata": {},
     "output_type": "execute_result"
    }
   ],
   "source": [
    "# Tune Logistic Regression\n",
    "\n",
    "np.random.seed(42)\n",
    "\n",
    "# Setup random hyperparameter search for LogisticRegression\n",
    "\n",
    "rs_log_reg = RandomizedSearchCV(LogisticRegression(),\n",
    "                                param_distributions=log_reg_grid,\n",
    "                                cv=5,\n",
    "                                n_iter=20,\n",
    "                                verbose=True)\n",
    "\n",
    "# Fit random hyperparameter search for LogisticRegression\n",
    "\n",
    "rs_log_reg.fit(X_train, y_train)"
   ]
  },
  {
   "cell_type": "code",
   "execution_count": 36,
   "id": "thousand-collaboration",
   "metadata": {},
   "outputs": [
    {
     "data": {
      "text/plain": [
       "{'solver': 'liblinear', 'C': 0.23357214690901212}"
      ]
     },
     "execution_count": 36,
     "metadata": {},
     "output_type": "execute_result"
    }
   ],
   "source": [
    "rs_log_reg.best_params_"
   ]
  },
  {
   "cell_type": "code",
   "execution_count": 37,
   "id": "dietary-bidding",
   "metadata": {},
   "outputs": [
    {
     "data": {
      "text/plain": [
       "0.8852459016393442"
      ]
     },
     "execution_count": 37,
     "metadata": {},
     "output_type": "execute_result"
    }
   ],
   "source": [
    "rs_log_reg.score(X_test, y_test)"
   ]
  },
  {
   "cell_type": "markdown",
   "id": "encouraging-allowance",
   "metadata": {},
   "source": [
    "Now we've tuned LogisticRegreesion(), let's do the same for RandomForestClassifier()"
   ]
  },
  {
   "cell_type": "code",
   "execution_count": 38,
   "id": "accredited-office",
   "metadata": {},
   "outputs": [
    {
     "name": "stderr",
     "output_type": "stream",
     "text": [
      "[Parallel(n_jobs=1)]: Using backend SequentialBackend with 1 concurrent workers.\n"
     ]
    },
    {
     "name": "stdout",
     "output_type": "stream",
     "text": [
      "Fitting 5 folds for each of 20 candidates, totalling 100 fits\n"
     ]
    },
    {
     "name": "stderr",
     "output_type": "stream",
     "text": [
      "[Parallel(n_jobs=1)]: Done 100 out of 100 | elapsed:   47.2s finished\n"
     ]
    },
    {
     "data": {
      "text/plain": [
       "RandomizedSearchCV(cv=5, estimator=RandomForestClassifier(), n_iter=20,\n",
       "                   param_distributions={'max_depth': [None, 3, 5, 10],\n",
       "                                        'min_samples_leaf': array([ 1,  3,  5,  7,  9, 11, 13, 15, 17, 19]),\n",
       "                                        'min_samples_split': array([ 2,  4,  6,  8, 10, 12, 14, 16, 18]),\n",
       "                                        'n_estimators': array([ 10,  60, 110, 160, 210, 260, 310, 360, 410, 460, 510, 560, 610,\n",
       "       660, 710, 760, 810, 860, 910, 960])},\n",
       "                   verbose=True)"
      ]
     },
     "execution_count": 38,
     "metadata": {},
     "output_type": "execute_result"
    }
   ],
   "source": [
    "# Setup random seed\n",
    "\n",
    "np.random.seed(42)\n",
    "\n",
    "# Setump hyperparameters search for RandomForestClassifier\n",
    "\n",
    "rs_rf = RandomizedSearchCV(RandomForestClassifier(),\n",
    "                           param_distributions=rf_grid,\n",
    "                           cv=5,\n",
    "                           verbose=True,\n",
    "                           n_iter=20)\n",
    "\n",
    "# Fit random hyperparameter search model for RandomForestClassifier()\n",
    "\n",
    "rs_rf.fit(X_train, y_train)"
   ]
  },
  {
   "cell_type": "code",
   "execution_count": 39,
   "id": "backed-laser",
   "metadata": {},
   "outputs": [
    {
     "data": {
      "text/plain": [
       "{'n_estimators': 210,\n",
       " 'min_samples_split': 4,\n",
       " 'min_samples_leaf': 19,\n",
       " 'max_depth': 3}"
      ]
     },
     "execution_count": 39,
     "metadata": {},
     "output_type": "execute_result"
    }
   ],
   "source": [
    "# Find the best hyperparameters\n",
    "\n",
    "rs_rf.best_params_"
   ]
  },
  {
   "cell_type": "code",
   "execution_count": 40,
   "id": "specified-officer",
   "metadata": {},
   "outputs": [
    {
     "data": {
      "text/plain": [
       "0.8688524590163934"
      ]
     },
     "execution_count": 40,
     "metadata": {},
     "output_type": "execute_result"
    }
   ],
   "source": [
    "# Evaluate the randomized search RandomForestClassifier model\n",
    "\n",
    "rs_rf.score(X_test, y_test)"
   ]
  },
  {
   "cell_type": "markdown",
   "id": "amazing-middle",
   "metadata": {},
   "source": [
    "## Hyperparameter Tuning with GridSearchCV\n",
    "\n",
    "Since our LogisticRegression model provides the best scores so far, we'll try and improve them again using GridSearchCV"
   ]
  },
  {
   "cell_type": "code",
   "execution_count": 41,
   "id": "common-wagon",
   "metadata": {},
   "outputs": [
    {
     "name": "stdout",
     "output_type": "stream",
     "text": [
      "Fitting 5 folds for each of 30 candidates, totalling 150 fits\n"
     ]
    },
    {
     "name": "stderr",
     "output_type": "stream",
     "text": [
      "[Parallel(n_jobs=1)]: Using backend SequentialBackend with 1 concurrent workers.\n",
      "[Parallel(n_jobs=1)]: Done 150 out of 150 | elapsed:    0.4s finished\n"
     ]
    }
   ],
   "source": [
    "# Different hyperparameters for our LogisticRegression model\n",
    "\n",
    "log_reg_grid = {'C': np.logspace(-4, 4, 30),\n",
    "                'solver': ['liblinear']}\n",
    "\n",
    "# Setup grid hyperparameter search for LogisticRegression\n",
    "\n",
    "gs_log_reg = GridSearchCV(LogisticRegression(),\n",
    "                          param_grid=log_reg_grid,\n",
    "                          verbose=True,\n",
    "                          cv=5)\n",
    "\n",
    "# Fit grid hyperparameter search model\n",
    "\n",
    "gs_log_reg.fit(X_train, y_train);"
   ]
  },
  {
   "cell_type": "code",
   "execution_count": 42,
   "id": "integral-rolling",
   "metadata": {},
   "outputs": [
    {
     "data": {
      "text/plain": [
       "{'C': 0.20433597178569418, 'solver': 'liblinear'}"
      ]
     },
     "execution_count": 42,
     "metadata": {},
     "output_type": "execute_result"
    }
   ],
   "source": [
    "# Check for best params\n",
    "\n",
    "gs_log_reg.best_params_"
   ]
  },
  {
   "cell_type": "code",
   "execution_count": 43,
   "id": "distinct-accident",
   "metadata": {},
   "outputs": [
    {
     "data": {
      "text/plain": [
       "0.8852459016393442"
      ]
     },
     "execution_count": 43,
     "metadata": {},
     "output_type": "execute_result"
    }
   ],
   "source": [
    "# Evaluate our model\n",
    "\n",
    "gs_log_reg.score(X_test, y_test)"
   ]
  },
  {
   "cell_type": "markdown",
   "id": "integral-mathematics",
   "metadata": {},
   "source": [
    "## Evaluating our tuned machine learning classifier, beyond accuracy\n",
    "\n",
    "* ROC curve and AUC score\n",
    "* Confusion matrix\n",
    "* Classification report\n",
    "* Precision\n",
    "* Recall\n",
    "* F1-score\n",
    "\n",
    "... and it would be great if cross-validation was used where possible.\n",
    "\n",
    "To make comparisons and evaluate our trained model, first we need to make predictions"
   ]
  },
  {
   "cell_type": "code",
   "execution_count": 44,
   "id": "timely-maria",
   "metadata": {},
   "outputs": [],
   "source": [
    "# Make predictions with tuned model\n",
    "\n",
    "y_preds = gs_log_reg.predict(X_test)"
   ]
  },
  {
   "cell_type": "code",
   "execution_count": 45,
   "id": "changing-travel",
   "metadata": {},
   "outputs": [
    {
     "data": {
      "text/plain": [
       "array([0, 1, 1, 0, 1, 1, 1, 0, 0, 1, 1, 0, 1, 0, 1, 1, 1, 0, 0, 0, 1, 0,\n",
       "       0, 1, 1, 1, 1, 1, 0, 1, 0, 0, 0, 0, 1, 0, 1, 1, 1, 1, 1, 1, 1, 1,\n",
       "       1, 0, 1, 1, 0, 0, 0, 0, 1, 1, 0, 0, 0, 1, 0, 0, 0], dtype=int64)"
      ]
     },
     "execution_count": 45,
     "metadata": {},
     "output_type": "execute_result"
    }
   ],
   "source": [
    "y_preds"
   ]
  },
  {
   "cell_type": "code",
   "execution_count": 46,
   "id": "boolean-recovery",
   "metadata": {},
   "outputs": [
    {
     "data": {
      "text/plain": [
       "<sklearn.metrics._plot.roc_curve.RocCurveDisplay at 0x267e6042f70>"
      ]
     },
     "execution_count": 46,
     "metadata": {},
     "output_type": "execute_result"
    },
    {
     "data": {
      "image/png": "[encoded data removed]",
      "text/plain": [
       "<Figure size 432x288 with 1 Axes>"
      ]
     },
     "metadata": {
      "needs_background": "light"
     },
     "output_type": "display_data"
    }
   ],
   "source": [
    "# Plot ROC curve and calculate AUC metric\n",
    "\n",
    "plot_roc_curve(gs_log_reg, X_test, y_test)"
   ]
  },
  {
   "cell_type": "code",
   "execution_count": 47,
   "id": "alternate-trance",
   "metadata": {},
   "outputs": [
    {
     "name": "stdout",
     "output_type": "stream",
     "text": [
      "[[25  4]\n",
      " [ 3 29]]\n"
     ]
    }
   ],
   "source": [
    "# Confusion matrix\n",
    "\n",
    "print(confusion_matrix(y_test, y_preds))"
   ]
  },
  {
   "cell_type": "code",
   "execution_count": 48,
   "id": "increasing-stake",
   "metadata": {},
   "outputs": [
    {
     "data": {
      "image/png": "[encoded data removed]",
      "text/plain": [
       "<Figure size 216x216 with 1 Axes>"
      ]
     },
     "metadata": {},
     "output_type": "display_data"
    }
   ],
   "source": [
    "sns.set(font_scale=1.5)\n",
    "\n",
    "def plot_conf_mat(y_test, y_preds):\n",
    "    \"\"\"\n",
    "    Plots a nice looking confusion matrix using Seaborn's heatmap()\n",
    "    \"\"\"\n",
    "    \n",
    "    fig, ax = plt.subplots(figsize=(3, 3))\n",
    "    ax = sns.heatmap(confusion_matrix(y_test, y_preds),\n",
    "                     annot=True,\n",
    "                     cbar=False)\n",
    "    plt.xlabel(\"Predicted label\")\n",
    "    plt.ylabel(\"True label\")\n",
    "    \n",
    "plot_conf_mat(y_test, y_preds)"
   ]
  },
  {
   "cell_type": "markdown",
   "id": "digital-investigation",
   "metadata": {},
   "source": [
    "Now we've got a ROC curve, an AUC metric and confusion matrix, let's get a classification report as well as cross-validated precision, recall and f1-score"
   ]
  },
  {
   "cell_type": "code",
   "execution_count": 49,
   "id": "nonprofit-subject",
   "metadata": {},
   "outputs": [
    {
     "name": "stdout",
     "output_type": "stream",
     "text": [
      "              precision    recall  f1-score   support\n",
      "\n",
      "           0       0.89      0.86      0.88        29\n",
      "           1       0.88      0.91      0.89        32\n",
      "\n",
      "    accuracy                           0.89        61\n",
      "   macro avg       0.89      0.88      0.88        61\n",
      "weighted avg       0.89      0.89      0.89        61\n",
      "\n"
     ]
    }
   ],
   "source": [
    "print(classification_report(y_test, y_preds))"
   ]
  },
  {
   "cell_type": "markdown",
   "id": "straight-marketplace",
   "metadata": {},
   "source": [
    "### Calculate evaluation metrics using cross-validation\n",
    "\n",
    "We're going to calculate accuracy, precision, recall, f1-score of our model using cross-validation, and to do so we'll be using `cross_val_score()`"
   ]
  },
  {
   "cell_type": "code",
   "execution_count": 50,
   "id": "thick-amsterdam",
   "metadata": {},
   "outputs": [
    {
     "data": {
      "text/plain": [
       "{'C': 0.20433597178569418, 'solver': 'liblinear'}"
      ]
     },
     "execution_count": 50,
     "metadata": {},
     "output_type": "execute_result"
    }
   ],
   "source": [
    "# Check best hyperparameters\n",
    "\n",
    "gs_log_reg.best_params_"
   ]
  },
  {
   "cell_type": "code",
   "execution_count": 51,
   "id": "funny-beverage",
   "metadata": {},
   "outputs": [],
   "source": [
    "# Create a new classifier with best parameters\n",
    "\n",
    "clf = LogisticRegression(C=0.20433597178569418, solver='liblinear')"
   ]
  },
  {
   "cell_type": "code",
   "execution_count": 52,
   "id": "danish-humidity",
   "metadata": {},
   "outputs": [
    {
     "data": {
      "text/plain": [
       "0.8446994535519124"
      ]
     },
     "execution_count": 52,
     "metadata": {},
     "output_type": "execute_result"
    }
   ],
   "source": [
    "# Cross-validated accuracy\n",
    "\n",
    "cv_acc = cross_val_score(clf, X, y, cv=5, scoring='accuracy').mean()\n",
    "\n",
    "cv_acc"
   ]
  },
  {
   "cell_type": "code",
   "execution_count": 53,
   "id": "upper-adult",
   "metadata": {},
   "outputs": [
    {
     "data": {
      "text/plain": [
       "0.8207936507936507"
      ]
     },
     "execution_count": 53,
     "metadata": {},
     "output_type": "execute_result"
    }
   ],
   "source": [
    "# Cross-validated precision\n",
    "\n",
    "cv_prec = cross_val_score(clf, X, y, cv=5, scoring='precision').mean()\n",
    "\n",
    "cv_prec"
   ]
  },
  {
   "cell_type": "code",
   "execution_count": 54,
   "id": "vulnerable-anaheim",
   "metadata": {},
   "outputs": [
    {
     "data": {
      "text/plain": [
       "0.9212121212121213"
      ]
     },
     "execution_count": 54,
     "metadata": {},
     "output_type": "execute_result"
    }
   ],
   "source": [
    "# Cross-validated recall\n",
    "\n",
    "cv_rec = np.mean(cross_val_score(clf, X, y, cv=5, scoring='recall'))\n",
    "\n",
    "cv_rec"
   ]
  },
  {
   "cell_type": "code",
   "execution_count": 55,
   "id": "frequent-prayer",
   "metadata": {},
   "outputs": [
    {
     "data": {
      "text/plain": [
       "0.8673007976269721"
      ]
     },
     "execution_count": 55,
     "metadata": {},
     "output_type": "execute_result"
    }
   ],
   "source": [
    "# Cross-validated f1 score\n",
    "\n",
    "cv_f1 = cross_val_score(clf, X, y, cv=5, scoring='f1').mean()\n",
    "\n",
    "cv_f1"
   ]
  },
  {
   "cell_type": "code",
   "execution_count": 56,
   "id": "wicked-discussion",
   "metadata": {},
   "outputs": [
    {
     "data": {
      "image/png": "[encoded data removed]",
      "text/plain": [
       "<Figure size 432x288 with 1 Axes>"
      ]
     },
     "metadata": {},
     "output_type": "display_data"
    }
   ],
   "source": [
    "# Visualize cross-validated metrics\n",
    "\n",
    "cv_metrics = pd.DataFrame({\"Accuracy\": cv_acc,\n",
    "                           \"Precision\": cv_prec,\n",
    "                           \"Recall\": cv_rec,\n",
    "                           \"F1\": cv_f1},\n",
    "                          index=[0])\n",
    "\n",
    "cv_metrics.T.plot.bar(title='Cross-validated classification metrics',\n",
    "                      legend=False);"
   ]
  },
  {
   "cell_type": "markdown",
   "id": "parliamentary-reality",
   "metadata": {},
   "source": [
    "### Feature Importance\n",
    "\n",
    "Feature importance is another way of asking which features contributed most to the outcomes of the model and how did they contribute.\n",
    "\n",
    "Finding feature importance is different for each machine learning model.\n",
    "\n",
    "Let's find the feature importance for our LogisticRegression model..."
   ]
  },
  {
   "cell_type": "code",
   "execution_count": 57,
   "id": "wired-cruise",
   "metadata": {},
   "outputs": [
    {
     "data": {
      "text/plain": [
       "LogisticRegression(C=0.20433597178569418, solver='liblinear')"
      ]
     },
     "execution_count": 57,
     "metadata": {},
     "output_type": "execute_result"
    }
   ],
   "source": [
    "# Fit an instance of LogisticRegression\n",
    "\n",
    "clf = LogisticRegression(C=0.20433597178569418, solver='liblinear')\n",
    "\n",
    "clf.fit(X_train, y_train)"
   ]
  },
  {
   "cell_type": "code",
   "execution_count": 58,
   "id": "inside-reputation",
   "metadata": {},
   "outputs": [
    {
     "data": {
      "text/plain": [
       "array([[ 0.00316728, -0.86044651,  0.66067041, -0.01156993, -0.00166374,\n",
       "         0.04386107,  0.31275847,  0.02459361, -0.6041308 , -0.56862804,\n",
       "         0.45051628, -0.63609897, -0.67663373]])"
      ]
     },
     "execution_count": 58,
     "metadata": {},
     "output_type": "execute_result"
    }
   ],
   "source": [
    "# Check coef_\n",
    "\n",
    "clf.coef_"
   ]
  },
  {
   "cell_type": "code",
   "execution_count": 59,
   "id": "necessary-rogers",
   "metadata": {},
   "outputs": [
    {
     "data": {
      "text/plain": [
       "{'age': 0.0031672801993431563,\n",
       " 'sex': -0.8604465072345515,\n",
       " 'cp': 0.6606704082033799,\n",
       " 'trestbps': -0.01156993168080875,\n",
       " 'chol': -0.001663744504776871,\n",
       " 'fbs': 0.043861071652469864,\n",
       " 'restecg': 0.31275846822418324,\n",
       " 'thalach': 0.024593613737779126,\n",
       " 'exang': -0.6041308000615746,\n",
       " 'oldpeak': -0.5686280368396555,\n",
       " 'slope': 0.4505162797258308,\n",
       " 'ca': -0.6360989676086223,\n",
       " 'thal': -0.6766337263029825}"
      ]
     },
     "execution_count": 59,
     "metadata": {},
     "output_type": "execute_result"
    }
   ],
   "source": [
    "# Match coef's of features to columns\n",
    "\n",
    "feature_dict = dict(zip(df.columns, list(clf.coef_[0])))\n",
    "\n",
    "feature_dict"
   ]
  },
  {
   "cell_type": "code",
   "execution_count": 60,
   "id": "crucial-combination",
   "metadata": {},
   "outputs": [
    {
     "data": {
      "text/plain": [
       "<AxesSubplot:title={'center':'Feature Importance'}>"
      ]
     },
     "execution_count": 60,
     "metadata": {},
     "output_type": "execute_result"
    },
    {
     "data": {
      "image/png": "[encoded data removed]",
      "text/plain": [
       "<Figure size 432x288 with 1 Axes>"
      ]
     },
     "metadata": {},
     "output_type": "display_data"
    }
   ],
   "source": [
    "# Visualize feature importance\n",
    "\n",
    "feature_df = pd.DataFrame(feature_dict, index=[0])\n",
    "\n",
    "feature_df.T.plot.bar(title='Feature Importance', legend=False)"
   ]
  },
  {
   "cell_type": "code",
   "execution_count": 61,
   "id": "visible-scotland",
   "metadata": {},
   "outputs": [
    {
     "data": {
      "text/html": [
       "<div>\n",
       "<style scoped>\n",
       "    .dataframe tbody tr th:only-of-type {\n",
       "        vertical-align: middle;\n",
       "    }\n",
       "\n",
       "    .dataframe tbody tr th {\n",
       "        vertical-align: top;\n",
       "    }\n",
       "\n",
       "    .dataframe thead th {\n",
       "        text-align: right;\n",
       "    }\n",
       "</style>\n",
       "<table border=\"1\" class=\"dataframe\">\n",
       "  <thead>\n",
       "    <tr style=\"text-align: right;\">\n",
       "      <th>target</th>\n",
       "      <th>0</th>\n",
       "      <th>1</th>\n",
       "    </tr>\n",
       "    <tr>\n",
       "      <th>sex</th>\n",
       "      <th></th>\n",
       "      <th></th>\n",
       "    </tr>\n",
       "  </thead>\n",
       "  <tbody>\n",
       "    <tr>\n",
       "      <th>0</th>\n",
       "      <td>24</td>\n",
       "      <td>72</td>\n",
       "    </tr>\n",
       "    <tr>\n",
       "      <th>1</th>\n",
       "      <td>114</td>\n",
       "      <td>93</td>\n",
       "    </tr>\n",
       "  </tbody>\n",
       "</table>\n",
       "</div>"
      ],
      "text/plain": [
       "target    0   1\n",
       "sex            \n",
       "0        24  72\n",
       "1       114  93"
      ]
     },
     "execution_count": 61,
     "metadata": {},
     "output_type": "execute_result"
    }
   ],
   "source": [
    "pd.crosstab(df.sex, df.target)"
   ]
  },
  {
   "cell_type": "code",
   "execution_count": 62,
   "id": "infrared-lender",
   "metadata": {},
   "outputs": [
    {
     "data": {
      "text/html": [
       "<div>\n",
       "<style scoped>\n",
       "    .dataframe tbody tr th:only-of-type {\n",
       "        vertical-align: middle;\n",
       "    }\n",
       "\n",
       "    .dataframe tbody tr th {\n",
       "        vertical-align: top;\n",
       "    }\n",
       "\n",
       "    .dataframe thead th {\n",
       "        text-align: right;\n",
       "    }\n",
       "</style>\n",
       "<table border=\"1\" class=\"dataframe\">\n",
       "  <thead>\n",
       "    <tr style=\"text-align: right;\">\n",
       "      <th>target</th>\n",
       "      <th>0</th>\n",
       "      <th>1</th>\n",
       "    </tr>\n",
       "    <tr>\n",
       "      <th>slope</th>\n",
       "      <th></th>\n",
       "      <th></th>\n",
       "    </tr>\n",
       "  </thead>\n",
       "  <tbody>\n",
       "    <tr>\n",
       "      <th>0</th>\n",
       "      <td>12</td>\n",
       "      <td>9</td>\n",
       "    </tr>\n",
       "    <tr>\n",
       "      <th>1</th>\n",
       "      <td>91</td>\n",
       "      <td>49</td>\n",
       "    </tr>\n",
       "    <tr>\n",
       "      <th>2</th>\n",
       "      <td>35</td>\n",
       "      <td>107</td>\n",
       "    </tr>\n",
       "  </tbody>\n",
       "</table>\n",
       "</div>"
      ],
      "text/plain": [
       "target   0    1\n",
       "slope          \n",
       "0       12    9\n",
       "1       91   49\n",
       "2       35  107"
      ]
     },
     "execution_count": 62,
     "metadata": {},
     "output_type": "execute_result"
    }
   ],
   "source": [
    "pd.crosstab(df.slope, df.target)"
   ]
  },
  {
   "cell_type": "markdown",
   "id": "equivalent-boring",
   "metadata": {},
   "source": [
    "# 6. Experimentation\n",
    "\n",
    "* Collection more data ?\n",
    "* Maybe a better model ? CatBoost or XGBoost ?\n",
    "* Improve the current model ?"
   ]
  },
  {
   "cell_type": "markdown",
   "id": "dental-audit",
   "metadata": {},
   "source": [
    "### Trying CatBoostClassifier"
   ]
  },
  {
   "cell_type": "code",
   "execution_count": 63,
   "id": "quality-pennsylvania",
   "metadata": {},
   "outputs": [],
   "source": [
    "from catboost import CatBoostClassifier"
   ]
  },
  {
   "cell_type": "code",
   "execution_count": 64,
   "id": "julian-chinese",
   "metadata": {},
   "outputs": [
    {
     "name": "stdout",
     "output_type": "stream",
     "text": [
      "Learning rate set to 0.005621\n",
      "0:\tlearn: 0.6884219\ttotal: 148ms\tremaining: 2m 28s\n",
      "1:\tlearn: 0.6846992\ttotal: 154ms\tremaining: 1m 16s\n",
      "2:\tlearn: 0.6804482\ttotal: 158ms\tremaining: 52.6s\n",
      "3:\tlearn: 0.6762280\ttotal: 164ms\tremaining: 40.7s\n",
      "4:\tlearn: 0.6716854\ttotal: 169ms\tremaining: 33.7s\n",
      "5:\tlearn: 0.6672902\ttotal: 174ms\tremaining: 28.9s\n",
      "6:\tlearn: 0.6640072\ttotal: 176ms\tremaining: 25s\n",
      "7:\tlearn: 0.6602127\ttotal: 179ms\tremaining: 22.2s\n",
      "8:\tlearn: 0.6563948\ttotal: 181ms\tremaining: 19.9s\n",
      "9:\tlearn: 0.6525316\ttotal: 183ms\tremaining: 18.1s\n",
      "10:\tlearn: 0.6483925\ttotal: 185ms\tremaining: 16.7s\n",
      "11:\tlearn: 0.6449119\ttotal: 187ms\tremaining: 15.4s\n",
      "12:\tlearn: 0.6413090\ttotal: 189ms\tremaining: 14.4s\n",
      "13:\tlearn: 0.6374641\ttotal: 192ms\tremaining: 13.5s\n",
      "14:\tlearn: 0.6335822\ttotal: 194ms\tremaining: 12.7s\n",
      "15:\tlearn: 0.6288496\ttotal: 196ms\tremaining: 12s\n",
      "16:\tlearn: 0.6250951\ttotal: 198ms\tremaining: 11.5s\n",
      "17:\tlearn: 0.6209988\ttotal: 200ms\tremaining: 10.9s\n",
      "18:\tlearn: 0.6182407\ttotal: 201ms\tremaining: 10.4s\n",
      "19:\tlearn: 0.6146885\ttotal: 202ms\tremaining: 9.89s\n",
      "20:\tlearn: 0.6112580\ttotal: 203ms\tremaining: 9.47s\n",
      "21:\tlearn: 0.6082727\ttotal: 204ms\tremaining: 9.07s\n",
      "22:\tlearn: 0.6042493\ttotal: 205ms\tremaining: 8.7s\n",
      "23:\tlearn: 0.6012802\ttotal: 206ms\tremaining: 8.37s\n",
      "24:\tlearn: 0.5972361\ttotal: 207ms\tremaining: 8.06s\n",
      "25:\tlearn: 0.5939734\ttotal: 208ms\tremaining: 7.78s\n",
      "26:\tlearn: 0.5906674\ttotal: 209ms\tremaining: 7.52s\n",
      "27:\tlearn: 0.5868390\ttotal: 210ms\tremaining: 7.28s\n",
      "28:\tlearn: 0.5834556\ttotal: 211ms\tremaining: 7.05s\n",
      "29:\tlearn: 0.5798316\ttotal: 212ms\tremaining: 6.84s\n",
      "30:\tlearn: 0.5777257\ttotal: 213ms\tremaining: 6.64s\n",
      "31:\tlearn: 0.5752542\ttotal: 214ms\tremaining: 6.46s\n",
      "32:\tlearn: 0.5724875\ttotal: 214ms\tremaining: 6.29s\n",
      "33:\tlearn: 0.5708036\ttotal: 215ms\tremaining: 6.11s\n",
      "34:\tlearn: 0.5674613\ttotal: 216ms\tremaining: 5.96s\n",
      "35:\tlearn: 0.5642878\ttotal: 217ms\tremaining: 5.82s\n",
      "36:\tlearn: 0.5622347\ttotal: 218ms\tremaining: 5.68s\n",
      "37:\tlearn: 0.5606506\ttotal: 220ms\tremaining: 5.57s\n",
      "38:\tlearn: 0.5581801\ttotal: 221ms\tremaining: 5.45s\n",
      "39:\tlearn: 0.5555523\ttotal: 222ms\tremaining: 5.33s\n",
      "40:\tlearn: 0.5527688\ttotal: 223ms\tremaining: 5.22s\n",
      "41:\tlearn: 0.5511804\ttotal: 224ms\tremaining: 5.11s\n",
      "42:\tlearn: 0.5483321\ttotal: 225ms\tremaining: 5s\n",
      "43:\tlearn: 0.5453617\ttotal: 226ms\tremaining: 4.91s\n",
      "44:\tlearn: 0.5425260\ttotal: 227ms\tremaining: 4.81s\n",
      "45:\tlearn: 0.5395272\ttotal: 228ms\tremaining: 4.72s\n",
      "46:\tlearn: 0.5371047\ttotal: 229ms\tremaining: 4.63s\n",
      "47:\tlearn: 0.5351085\ttotal: 229ms\tremaining: 4.55s\n",
      "48:\tlearn: 0.5324767\ttotal: 230ms\tremaining: 4.47s\n",
      "49:\tlearn: 0.5300801\ttotal: 231ms\tremaining: 4.39s\n",
      "50:\tlearn: 0.5274837\ttotal: 232ms\tremaining: 4.32s\n",
      "51:\tlearn: 0.5256513\ttotal: 233ms\tremaining: 4.25s\n",
      "52:\tlearn: 0.5227075\ttotal: 234ms\tremaining: 4.18s\n",
      "53:\tlearn: 0.5202730\ttotal: 235ms\tremaining: 4.11s\n",
      "54:\tlearn: 0.5175202\ttotal: 236ms\tremaining: 4.05s\n",
      "55:\tlearn: 0.5151113\ttotal: 237ms\tremaining: 3.99s\n",
      "56:\tlearn: 0.5130912\ttotal: 237ms\tremaining: 3.93s\n",
      "57:\tlearn: 0.5106161\ttotal: 238ms\tremaining: 3.87s\n",
      "58:\tlearn: 0.5084038\ttotal: 239ms\tremaining: 3.82s\n",
      "59:\tlearn: 0.5064813\ttotal: 240ms\tremaining: 3.76s\n",
      "60:\tlearn: 0.5038737\ttotal: 241ms\tremaining: 3.71s\n",
      "61:\tlearn: 0.5018474\ttotal: 242ms\tremaining: 3.66s\n",
      "62:\tlearn: 0.4992070\ttotal: 243ms\tremaining: 3.62s\n",
      "63:\tlearn: 0.4967694\ttotal: 244ms\tremaining: 3.57s\n",
      "64:\tlearn: 0.4944956\ttotal: 245ms\tremaining: 3.52s\n",
      "65:\tlearn: 0.4919413\ttotal: 246ms\tremaining: 3.48s\n",
      "66:\tlearn: 0.4897338\ttotal: 247ms\tremaining: 3.43s\n",
      "67:\tlearn: 0.4874804\ttotal: 247ms\tremaining: 3.39s\n",
      "68:\tlearn: 0.4857090\ttotal: 248ms\tremaining: 3.35s\n",
      "69:\tlearn: 0.4834018\ttotal: 249ms\tremaining: 3.31s\n",
      "70:\tlearn: 0.4817313\ttotal: 249ms\tremaining: 3.26s\n",
      "71:\tlearn: 0.4797357\ttotal: 250ms\tremaining: 3.22s\n",
      "72:\tlearn: 0.4783886\ttotal: 251ms\tremaining: 3.19s\n",
      "73:\tlearn: 0.4768170\ttotal: 252ms\tremaining: 3.15s\n",
      "74:\tlearn: 0.4746734\ttotal: 253ms\tremaining: 3.12s\n",
      "75:\tlearn: 0.4730601\ttotal: 253ms\tremaining: 3.08s\n",
      "76:\tlearn: 0.4707788\ttotal: 254ms\tremaining: 3.05s\n",
      "77:\tlearn: 0.4690917\ttotal: 255ms\tremaining: 3.01s\n",
      "78:\tlearn: 0.4666240\ttotal: 256ms\tremaining: 2.98s\n",
      "79:\tlearn: 0.4646559\ttotal: 257ms\tremaining: 2.95s\n",
      "80:\tlearn: 0.4625645\ttotal: 257ms\tremaining: 2.92s\n",
      "81:\tlearn: 0.4606513\ttotal: 258ms\tremaining: 2.89s\n",
      "82:\tlearn: 0.4587257\ttotal: 259ms\tremaining: 2.86s\n",
      "83:\tlearn: 0.4576947\ttotal: 259ms\tremaining: 2.83s\n",
      "84:\tlearn: 0.4564413\ttotal: 260ms\tremaining: 2.8s\n",
      "85:\tlearn: 0.4547546\ttotal: 261ms\tremaining: 2.77s\n",
      "86:\tlearn: 0.4528300\ttotal: 262ms\tremaining: 2.75s\n",
      "87:\tlearn: 0.4517657\ttotal: 263ms\tremaining: 2.72s\n",
      "88:\tlearn: 0.4502896\ttotal: 263ms\tremaining: 2.69s\n",
      "89:\tlearn: 0.4486835\ttotal: 264ms\tremaining: 2.67s\n",
      "90:\tlearn: 0.4472739\ttotal: 265ms\tremaining: 2.65s\n",
      "91:\tlearn: 0.4455104\ttotal: 266ms\tremaining: 2.62s\n",
      "92:\tlearn: 0.4438941\ttotal: 266ms\tremaining: 2.6s\n",
      "93:\tlearn: 0.4431257\ttotal: 267ms\tremaining: 2.57s\n",
      "94:\tlearn: 0.4413653\ttotal: 268ms\tremaining: 2.55s\n",
      "95:\tlearn: 0.4395945\ttotal: 269ms\tremaining: 2.53s\n",
      "96:\tlearn: 0.4378532\ttotal: 269ms\tremaining: 2.51s\n",
      "97:\tlearn: 0.4359042\ttotal: 270ms\tremaining: 2.49s\n",
      "98:\tlearn: 0.4342829\ttotal: 271ms\tremaining: 2.47s\n",
      "99:\tlearn: 0.4332133\ttotal: 272ms\tremaining: 2.44s\n",
      "100:\tlearn: 0.4314809\ttotal: 272ms\tremaining: 2.42s\n",
      "101:\tlearn: 0.4307406\ttotal: 273ms\tremaining: 2.4s\n",
      "102:\tlearn: 0.4293018\ttotal: 274ms\tremaining: 2.38s\n",
      "103:\tlearn: 0.4278951\ttotal: 275ms\tremaining: 2.37s\n",
      "104:\tlearn: 0.4265759\ttotal: 275ms\tremaining: 2.35s\n",
      "105:\tlearn: 0.4251059\ttotal: 276ms\tremaining: 2.33s\n",
      "106:\tlearn: 0.4239925\ttotal: 277ms\tremaining: 2.31s\n",
      "107:\tlearn: 0.4222699\ttotal: 278ms\tremaining: 2.29s\n",
      "108:\tlearn: 0.4211667\ttotal: 279ms\tremaining: 2.28s\n",
      "109:\tlearn: 0.4202248\ttotal: 279ms\tremaining: 2.26s\n",
      "110:\tlearn: 0.4198594\ttotal: 280ms\tremaining: 2.24s\n",
      "111:\tlearn: 0.4179838\ttotal: 281ms\tremaining: 2.22s\n",
      "112:\tlearn: 0.4159945\ttotal: 281ms\tremaining: 2.21s\n",
      "113:\tlearn: 0.4142427\ttotal: 282ms\tremaining: 2.19s\n",
      "114:\tlearn: 0.4124179\ttotal: 283ms\tremaining: 2.18s\n",
      "115:\tlearn: 0.4109907\ttotal: 284ms\tremaining: 2.16s\n",
      "116:\tlearn: 0.4095346\ttotal: 285ms\tremaining: 2.15s\n",
      "117:\tlearn: 0.4084236\ttotal: 285ms\tremaining: 2.13s\n",
      "118:\tlearn: 0.4070921\ttotal: 286ms\tremaining: 2.12s\n",
      "119:\tlearn: 0.4057320\ttotal: 287ms\tremaining: 2.1s\n",
      "120:\tlearn: 0.4042910\ttotal: 288ms\tremaining: 2.09s\n",
      "121:\tlearn: 0.4026004\ttotal: 288ms\tremaining: 2.08s\n",
      "122:\tlearn: 0.4014355\ttotal: 289ms\tremaining: 2.06s\n",
      "123:\tlearn: 0.3998864\ttotal: 290ms\tremaining: 2.05s\n",
      "124:\tlearn: 0.3987020\ttotal: 291ms\tremaining: 2.04s\n",
      "125:\tlearn: 0.3984041\ttotal: 291ms\tremaining: 2.02s\n",
      "126:\tlearn: 0.3974049\ttotal: 292ms\tremaining: 2.01s\n",
      "127:\tlearn: 0.3964408\ttotal: 293ms\tremaining: 2s\n",
      "128:\tlearn: 0.3952997\ttotal: 294ms\tremaining: 1.98s\n",
      "129:\tlearn: 0.3935080\ttotal: 295ms\tremaining: 1.97s\n",
      "130:\tlearn: 0.3919582\ttotal: 295ms\tremaining: 1.96s\n",
      "131:\tlearn: 0.3903310\ttotal: 296ms\tremaining: 1.95s\n",
      "132:\tlearn: 0.3890571\ttotal: 297ms\tremaining: 1.94s\n",
      "133:\tlearn: 0.3881705\ttotal: 298ms\tremaining: 1.92s\n",
      "134:\tlearn: 0.3873128\ttotal: 298ms\tremaining: 1.91s\n",
      "135:\tlearn: 0.3861936\ttotal: 299ms\tremaining: 1.9s\n",
      "136:\tlearn: 0.3849629\ttotal: 300ms\tremaining: 1.89s\n",
      "137:\tlearn: 0.3838819\ttotal: 301ms\tremaining: 1.88s\n",
      "138:\tlearn: 0.3829926\ttotal: 302ms\tremaining: 1.87s\n",
      "139:\tlearn: 0.3817218\ttotal: 302ms\tremaining: 1.86s\n",
      "140:\tlearn: 0.3802766\ttotal: 303ms\tremaining: 1.85s\n",
      "141:\tlearn: 0.3790059\ttotal: 304ms\tremaining: 1.84s\n",
      "142:\tlearn: 0.3779260\ttotal: 305ms\tremaining: 1.83s\n",
      "143:\tlearn: 0.3762595\ttotal: 306ms\tremaining: 1.82s\n",
      "144:\tlearn: 0.3750602\ttotal: 306ms\tremaining: 1.81s\n",
      "145:\tlearn: 0.3740053\ttotal: 307ms\tremaining: 1.8s\n",
      "146:\tlearn: 0.3730355\ttotal: 308ms\tremaining: 1.79s\n",
      "147:\tlearn: 0.3719427\ttotal: 309ms\tremaining: 1.78s\n",
      "148:\tlearn: 0.3706965\ttotal: 309ms\tremaining: 1.77s\n",
      "149:\tlearn: 0.3700717\ttotal: 310ms\tremaining: 1.76s\n",
      "150:\tlearn: 0.3690844\ttotal: 311ms\tremaining: 1.75s\n",
      "151:\tlearn: 0.3677405\ttotal: 312ms\tremaining: 1.74s\n",
      "152:\tlearn: 0.3668268\ttotal: 312ms\tremaining: 1.73s\n",
      "153:\tlearn: 0.3658461\ttotal: 313ms\tremaining: 1.72s\n",
      "154:\tlearn: 0.3647646\ttotal: 314ms\tremaining: 1.71s\n",
      "155:\tlearn: 0.3638406\ttotal: 315ms\tremaining: 1.7s\n",
      "156:\tlearn: 0.3629157\ttotal: 315ms\tremaining: 1.69s\n",
      "157:\tlearn: 0.3615676\ttotal: 316ms\tremaining: 1.69s\n",
      "158:\tlearn: 0.3601817\ttotal: 317ms\tremaining: 1.68s\n",
      "159:\tlearn: 0.3590606\ttotal: 318ms\tremaining: 1.67s\n",
      "160:\tlearn: 0.3580920\ttotal: 319ms\tremaining: 1.66s\n",
      "161:\tlearn: 0.3569267\ttotal: 319ms\tremaining: 1.65s\n",
      "162:\tlearn: 0.3561300\ttotal: 320ms\tremaining: 1.64s\n",
      "163:\tlearn: 0.3550590\ttotal: 321ms\tremaining: 1.64s\n",
      "164:\tlearn: 0.3539735\ttotal: 322ms\tremaining: 1.63s\n",
      "165:\tlearn: 0.3526535\ttotal: 323ms\tremaining: 1.62s\n",
      "166:\tlearn: 0.3519230\ttotal: 323ms\tremaining: 1.61s\n",
      "167:\tlearn: 0.3507364\ttotal: 324ms\tremaining: 1.6s\n",
      "168:\tlearn: 0.3495513\ttotal: 325ms\tremaining: 1.6s\n",
      "169:\tlearn: 0.3486210\ttotal: 326ms\tremaining: 1.59s\n",
      "170:\tlearn: 0.3478275\ttotal: 327ms\tremaining: 1.58s\n",
      "171:\tlearn: 0.3464660\ttotal: 327ms\tremaining: 1.57s\n",
      "172:\tlearn: 0.3455328\ttotal: 328ms\tremaining: 1.57s\n",
      "173:\tlearn: 0.3446498\ttotal: 329ms\tremaining: 1.56s\n",
      "174:\tlearn: 0.3434897\ttotal: 330ms\tremaining: 1.55s\n"
     ]
    },
    {
     "name": "stdout",
     "output_type": "stream",
     "text": [
      "175:\tlearn: 0.3430380\ttotal: 330ms\tremaining: 1.55s\n",
      "176:\tlearn: 0.3423960\ttotal: 331ms\tremaining: 1.54s\n",
      "177:\tlearn: 0.3422223\ttotal: 332ms\tremaining: 1.53s\n",
      "178:\tlearn: 0.3414984\ttotal: 333ms\tremaining: 1.53s\n",
      "179:\tlearn: 0.3401987\ttotal: 334ms\tremaining: 1.52s\n",
      "180:\tlearn: 0.3397404\ttotal: 334ms\tremaining: 1.51s\n",
      "181:\tlearn: 0.3389218\ttotal: 335ms\tremaining: 1.5s\n",
      "182:\tlearn: 0.3379466\ttotal: 336ms\tremaining: 1.5s\n",
      "183:\tlearn: 0.3372058\ttotal: 337ms\tremaining: 1.49s\n",
      "184:\tlearn: 0.3369136\ttotal: 337ms\tremaining: 1.48s\n",
      "185:\tlearn: 0.3357838\ttotal: 338ms\tremaining: 1.48s\n",
      "186:\tlearn: 0.3350566\ttotal: 339ms\tremaining: 1.47s\n",
      "187:\tlearn: 0.3339879\ttotal: 340ms\tremaining: 1.47s\n",
      "188:\tlearn: 0.3334208\ttotal: 340ms\tremaining: 1.46s\n",
      "189:\tlearn: 0.3322101\ttotal: 341ms\tremaining: 1.46s\n",
      "190:\tlearn: 0.3318436\ttotal: 342ms\tremaining: 1.45s\n",
      "191:\tlearn: 0.3311233\ttotal: 343ms\tremaining: 1.44s\n",
      "192:\tlearn: 0.3301187\ttotal: 344ms\tremaining: 1.44s\n",
      "193:\tlearn: 0.3294087\ttotal: 345ms\tremaining: 1.43s\n",
      "194:\tlearn: 0.3287585\ttotal: 345ms\tremaining: 1.43s\n",
      "195:\tlearn: 0.3276402\ttotal: 346ms\tremaining: 1.42s\n",
      "196:\tlearn: 0.3268327\ttotal: 347ms\tremaining: 1.42s\n",
      "197:\tlearn: 0.3260096\ttotal: 348ms\tremaining: 1.41s\n",
      "198:\tlearn: 0.3250287\ttotal: 349ms\tremaining: 1.41s\n",
      "199:\tlearn: 0.3246849\ttotal: 350ms\tremaining: 1.4s\n",
      "200:\tlearn: 0.3239244\ttotal: 350ms\tremaining: 1.39s\n",
      "201:\tlearn: 0.3230601\ttotal: 351ms\tremaining: 1.39s\n",
      "202:\tlearn: 0.3218867\ttotal: 352ms\tremaining: 1.38s\n",
      "203:\tlearn: 0.3211467\ttotal: 353ms\tremaining: 1.38s\n",
      "204:\tlearn: 0.3207712\ttotal: 354ms\tremaining: 1.37s\n",
      "205:\tlearn: 0.3199743\ttotal: 355ms\tremaining: 1.37s\n",
      "206:\tlearn: 0.3192023\ttotal: 356ms\tremaining: 1.36s\n",
      "207:\tlearn: 0.3183557\ttotal: 357ms\tremaining: 1.36s\n",
      "208:\tlearn: 0.3176068\ttotal: 358ms\tremaining: 1.35s\n",
      "209:\tlearn: 0.3167791\ttotal: 359ms\tremaining: 1.35s\n",
      "210:\tlearn: 0.3161975\ttotal: 359ms\tremaining: 1.34s\n",
      "211:\tlearn: 0.3153618\ttotal: 360ms\tremaining: 1.34s\n",
      "212:\tlearn: 0.3148271\ttotal: 361ms\tremaining: 1.33s\n",
      "213:\tlearn: 0.3140681\ttotal: 362ms\tremaining: 1.33s\n",
      "214:\tlearn: 0.3134454\ttotal: 363ms\tremaining: 1.32s\n",
      "215:\tlearn: 0.3124547\ttotal: 364ms\tremaining: 1.32s\n",
      "216:\tlearn: 0.3119324\ttotal: 365ms\tremaining: 1.32s\n",
      "217:\tlearn: 0.3111921\ttotal: 366ms\tremaining: 1.31s\n",
      "218:\tlearn: 0.3106581\ttotal: 367ms\tremaining: 1.31s\n",
      "219:\tlearn: 0.3096729\ttotal: 368ms\tremaining: 1.3s\n",
      "220:\tlearn: 0.3087859\ttotal: 369ms\tremaining: 1.3s\n",
      "221:\tlearn: 0.3080927\ttotal: 370ms\tremaining: 1.29s\n",
      "222:\tlearn: 0.3077567\ttotal: 371ms\tremaining: 1.29s\n",
      "223:\tlearn: 0.3068514\ttotal: 372ms\tremaining: 1.29s\n",
      "224:\tlearn: 0.3061142\ttotal: 373ms\tremaining: 1.28s\n",
      "225:\tlearn: 0.3053532\ttotal: 374ms\tremaining: 1.28s\n",
      "226:\tlearn: 0.3050101\ttotal: 374ms\tremaining: 1.27s\n",
      "227:\tlearn: 0.3044096\ttotal: 375ms\tremaining: 1.27s\n",
      "228:\tlearn: 0.3036790\ttotal: 376ms\tremaining: 1.27s\n",
      "229:\tlearn: 0.3029396\ttotal: 377ms\tremaining: 1.26s\n",
      "230:\tlearn: 0.3023481\ttotal: 378ms\tremaining: 1.26s\n",
      "231:\tlearn: 0.3019374\ttotal: 378ms\tremaining: 1.25s\n",
      "232:\tlearn: 0.3011900\ttotal: 379ms\tremaining: 1.25s\n",
      "233:\tlearn: 0.3005185\ttotal: 380ms\tremaining: 1.24s\n",
      "234:\tlearn: 0.2999282\ttotal: 381ms\tremaining: 1.24s\n",
      "235:\tlearn: 0.2989617\ttotal: 382ms\tremaining: 1.24s\n",
      "236:\tlearn: 0.2983288\ttotal: 383ms\tremaining: 1.23s\n",
      "237:\tlearn: 0.2974186\ttotal: 383ms\tremaining: 1.23s\n",
      "238:\tlearn: 0.2967187\ttotal: 384ms\tremaining: 1.22s\n",
      "239:\tlearn: 0.2959042\ttotal: 385ms\tremaining: 1.22s\n",
      "240:\tlearn: 0.2953726\ttotal: 386ms\tremaining: 1.22s\n",
      "241:\tlearn: 0.2947652\ttotal: 387ms\tremaining: 1.21s\n",
      "242:\tlearn: 0.2940728\ttotal: 388ms\tremaining: 1.21s\n",
      "243:\tlearn: 0.2932435\ttotal: 389ms\tremaining: 1.21s\n",
      "244:\tlearn: 0.2924460\ttotal: 390ms\tremaining: 1.2s\n",
      "245:\tlearn: 0.2919825\ttotal: 391ms\tremaining: 1.2s\n",
      "246:\tlearn: 0.2915173\ttotal: 392ms\tremaining: 1.19s\n",
      "247:\tlearn: 0.2909224\ttotal: 392ms\tremaining: 1.19s\n",
      "248:\tlearn: 0.2905292\ttotal: 393ms\tremaining: 1.19s\n",
      "249:\tlearn: 0.2899059\ttotal: 394ms\tremaining: 1.18s\n",
      "250:\tlearn: 0.2893056\ttotal: 395ms\tremaining: 1.18s\n",
      "251:\tlearn: 0.2886597\ttotal: 396ms\tremaining: 1.17s\n",
      "252:\tlearn: 0.2879527\ttotal: 397ms\tremaining: 1.17s\n",
      "253:\tlearn: 0.2872447\ttotal: 397ms\tremaining: 1.17s\n",
      "254:\tlearn: 0.2867080\ttotal: 398ms\tremaining: 1.16s\n",
      "255:\tlearn: 0.2860443\ttotal: 399ms\tremaining: 1.16s\n",
      "256:\tlearn: 0.2853458\ttotal: 400ms\tremaining: 1.16s\n",
      "257:\tlearn: 0.2846458\ttotal: 401ms\tremaining: 1.15s\n",
      "258:\tlearn: 0.2841930\ttotal: 402ms\tremaining: 1.15s\n",
      "259:\tlearn: 0.2836258\ttotal: 403ms\tremaining: 1.15s\n",
      "260:\tlearn: 0.2830974\ttotal: 403ms\tremaining: 1.14s\n",
      "261:\tlearn: 0.2825288\ttotal: 404ms\tremaining: 1.14s\n",
      "262:\tlearn: 0.2819432\ttotal: 405ms\tremaining: 1.14s\n",
      "263:\tlearn: 0.2813131\ttotal: 406ms\tremaining: 1.13s\n",
      "264:\tlearn: 0.2806125\ttotal: 407ms\tremaining: 1.13s\n",
      "265:\tlearn: 0.2800353\ttotal: 408ms\tremaining: 1.13s\n",
      "266:\tlearn: 0.2792874\ttotal: 408ms\tremaining: 1.12s\n",
      "267:\tlearn: 0.2787927\ttotal: 409ms\tremaining: 1.12s\n",
      "268:\tlearn: 0.2780463\ttotal: 410ms\tremaining: 1.11s\n",
      "269:\tlearn: 0.2773433\ttotal: 411ms\tremaining: 1.11s\n",
      "270:\tlearn: 0.2768860\ttotal: 412ms\tremaining: 1.11s\n",
      "271:\tlearn: 0.2765006\ttotal: 413ms\tremaining: 1.1s\n",
      "272:\tlearn: 0.2760610\ttotal: 414ms\tremaining: 1.1s\n",
      "273:\tlearn: 0.2757626\ttotal: 414ms\tremaining: 1.1s\n",
      "274:\tlearn: 0.2754302\ttotal: 415ms\tremaining: 1.09s\n",
      "275:\tlearn: 0.2748640\ttotal: 416ms\tremaining: 1.09s\n",
      "276:\tlearn: 0.2746047\ttotal: 417ms\tremaining: 1.09s\n",
      "277:\tlearn: 0.2739447\ttotal: 418ms\tremaining: 1.08s\n",
      "278:\tlearn: 0.2734597\ttotal: 419ms\tremaining: 1.08s\n",
      "279:\tlearn: 0.2728541\ttotal: 419ms\tremaining: 1.08s\n",
      "280:\tlearn: 0.2722408\ttotal: 420ms\tremaining: 1.07s\n",
      "281:\tlearn: 0.2716156\ttotal: 421ms\tremaining: 1.07s\n",
      "282:\tlearn: 0.2710919\ttotal: 422ms\tremaining: 1.07s\n",
      "283:\tlearn: 0.2707103\ttotal: 423ms\tremaining: 1.06s\n",
      "284:\tlearn: 0.2701189\ttotal: 423ms\tremaining: 1.06s\n",
      "285:\tlearn: 0.2694988\ttotal: 424ms\tremaining: 1.06s\n",
      "286:\tlearn: 0.2689808\ttotal: 425ms\tremaining: 1.05s\n",
      "287:\tlearn: 0.2684204\ttotal: 426ms\tremaining: 1.05s\n",
      "288:\tlearn: 0.2679204\ttotal: 427ms\tremaining: 1.05s\n",
      "289:\tlearn: 0.2675726\ttotal: 428ms\tremaining: 1.05s\n",
      "290:\tlearn: 0.2670900\ttotal: 428ms\tremaining: 1.04s\n",
      "291:\tlearn: 0.2663542\ttotal: 429ms\tremaining: 1.04s\n",
      "292:\tlearn: 0.2658796\ttotal: 430ms\tremaining: 1.04s\n",
      "293:\tlearn: 0.2653425\ttotal: 431ms\tremaining: 1.03s\n",
      "294:\tlearn: 0.2646682\ttotal: 431ms\tremaining: 1.03s\n",
      "295:\tlearn: 0.2641675\ttotal: 432ms\tremaining: 1.03s\n",
      "296:\tlearn: 0.2636938\ttotal: 433ms\tremaining: 1.02s\n",
      "297:\tlearn: 0.2632871\ttotal: 434ms\tremaining: 1.02s\n",
      "298:\tlearn: 0.2626576\ttotal: 435ms\tremaining: 1.02s\n",
      "299:\tlearn: 0.2625128\ttotal: 435ms\tremaining: 1.01s\n",
      "300:\tlearn: 0.2621232\ttotal: 436ms\tremaining: 1.01s\n",
      "301:\tlearn: 0.2616902\ttotal: 437ms\tremaining: 1.01s\n",
      "302:\tlearn: 0.2611575\ttotal: 437ms\tremaining: 1.01s\n",
      "303:\tlearn: 0.2604399\ttotal: 438ms\tremaining: 1s\n",
      "304:\tlearn: 0.2600187\ttotal: 439ms\tremaining: 1s\n",
      "305:\tlearn: 0.2597833\ttotal: 440ms\tremaining: 998ms\n",
      "306:\tlearn: 0.2591543\ttotal: 441ms\tremaining: 995ms\n",
      "307:\tlearn: 0.2585014\ttotal: 442ms\tremaining: 992ms\n",
      "308:\tlearn: 0.2582021\ttotal: 442ms\tremaining: 989ms\n",
      "309:\tlearn: 0.2576934\ttotal: 443ms\tremaining: 986ms\n",
      "310:\tlearn: 0.2573945\ttotal: 444ms\tremaining: 984ms\n",
      "311:\tlearn: 0.2569027\ttotal: 445ms\tremaining: 981ms\n",
      "312:\tlearn: 0.2566703\ttotal: 446ms\tremaining: 978ms\n",
      "313:\tlearn: 0.2560701\ttotal: 446ms\tremaining: 975ms\n",
      "314:\tlearn: 0.2554071\ttotal: 447ms\tremaining: 972ms\n",
      "315:\tlearn: 0.2549984\ttotal: 448ms\tremaining: 970ms\n",
      "316:\tlearn: 0.2544576\ttotal: 449ms\tremaining: 967ms\n",
      "317:\tlearn: 0.2541086\ttotal: 450ms\tremaining: 965ms\n",
      "318:\tlearn: 0.2537884\ttotal: 451ms\tremaining: 962ms\n",
      "319:\tlearn: 0.2533959\ttotal: 451ms\tremaining: 959ms\n",
      "320:\tlearn: 0.2528727\ttotal: 452ms\tremaining: 956ms\n",
      "321:\tlearn: 0.2524858\ttotal: 453ms\tremaining: 954ms\n",
      "322:\tlearn: 0.2520715\ttotal: 454ms\tremaining: 951ms\n",
      "323:\tlearn: 0.2514055\ttotal: 454ms\tremaining: 948ms\n",
      "324:\tlearn: 0.2509579\ttotal: 455ms\tremaining: 946ms\n",
      "325:\tlearn: 0.2504068\ttotal: 456ms\tremaining: 943ms\n",
      "326:\tlearn: 0.2501737\ttotal: 457ms\tremaining: 941ms\n",
      "327:\tlearn: 0.2497623\ttotal: 458ms\tremaining: 939ms\n",
      "328:\tlearn: 0.2492445\ttotal: 459ms\tremaining: 936ms\n",
      "329:\tlearn: 0.2489948\ttotal: 460ms\tremaining: 933ms\n",
      "330:\tlearn: 0.2485878\ttotal: 461ms\tremaining: 931ms\n",
      "331:\tlearn: 0.2480932\ttotal: 461ms\tremaining: 928ms\n",
      "332:\tlearn: 0.2478183\ttotal: 462ms\tremaining: 926ms\n",
      "333:\tlearn: 0.2475150\ttotal: 463ms\tremaining: 924ms\n",
      "334:\tlearn: 0.2469752\ttotal: 464ms\tremaining: 921ms\n",
      "335:\tlearn: 0.2463911\ttotal: 465ms\tremaining: 919ms\n",
      "336:\tlearn: 0.2458407\ttotal: 466ms\tremaining: 916ms\n",
      "337:\tlearn: 0.2454070\ttotal: 466ms\tremaining: 913ms\n",
      "338:\tlearn: 0.2451115\ttotal: 467ms\tremaining: 911ms\n",
      "339:\tlearn: 0.2445737\ttotal: 468ms\tremaining: 908ms\n",
      "340:\tlearn: 0.2445276\ttotal: 468ms\tremaining: 905ms\n",
      "341:\tlearn: 0.2440330\ttotal: 469ms\tremaining: 903ms\n",
      "342:\tlearn: 0.2436989\ttotal: 470ms\tremaining: 900ms\n",
      "343:\tlearn: 0.2433128\ttotal: 471ms\tremaining: 898ms\n",
      "344:\tlearn: 0.2428303\ttotal: 472ms\tremaining: 896ms\n",
      "345:\tlearn: 0.2421255\ttotal: 473ms\tremaining: 893ms\n",
      "346:\tlearn: 0.2416603\ttotal: 473ms\tremaining: 891ms\n",
      "347:\tlearn: 0.2414143\ttotal: 474ms\tremaining: 888ms\n",
      "348:\tlearn: 0.2411108\ttotal: 475ms\tremaining: 886ms\n",
      "349:\tlearn: 0.2406538\ttotal: 476ms\tremaining: 884ms\n",
      "350:\tlearn: 0.2404155\ttotal: 477ms\tremaining: 882ms\n",
      "351:\tlearn: 0.2397076\ttotal: 478ms\tremaining: 879ms\n",
      "352:\tlearn: 0.2395077\ttotal: 478ms\tremaining: 877ms\n",
      "353:\tlearn: 0.2391044\ttotal: 479ms\tremaining: 874ms\n",
      "354:\tlearn: 0.2388488\ttotal: 480ms\tremaining: 872ms\n",
      "355:\tlearn: 0.2383034\ttotal: 481ms\tremaining: 869ms\n",
      "356:\tlearn: 0.2379672\ttotal: 481ms\tremaining: 867ms\n",
      "357:\tlearn: 0.2377575\ttotal: 482ms\tremaining: 865ms\n",
      "358:\tlearn: 0.2372036\ttotal: 483ms\tremaining: 863ms\n",
      "359:\tlearn: 0.2367398\ttotal: 484ms\tremaining: 860ms\n",
      "360:\tlearn: 0.2364241\ttotal: 485ms\tremaining: 858ms\n",
      "361:\tlearn: 0.2361184\ttotal: 486ms\tremaining: 856ms\n",
      "362:\tlearn: 0.2359735\ttotal: 486ms\tremaining: 853ms\n",
      "363:\tlearn: 0.2356299\ttotal: 487ms\tremaining: 851ms\n",
      "364:\tlearn: 0.2352520\ttotal: 488ms\tremaining: 849ms\n",
      "365:\tlearn: 0.2348505\ttotal: 489ms\tremaining: 847ms\n",
      "366:\tlearn: 0.2343784\ttotal: 490ms\tremaining: 845ms\n",
      "367:\tlearn: 0.2339084\ttotal: 491ms\tremaining: 843ms\n",
      "368:\tlearn: 0.2335440\ttotal: 491ms\tremaining: 840ms\n",
      "369:\tlearn: 0.2331855\ttotal: 492ms\tremaining: 838ms\n",
      "370:\tlearn: 0.2328300\ttotal: 493ms\tremaining: 836ms\n",
      "371:\tlearn: 0.2325790\ttotal: 494ms\tremaining: 834ms\n",
      "372:\tlearn: 0.2321144\ttotal: 495ms\tremaining: 832ms\n",
      "373:\tlearn: 0.2316463\ttotal: 496ms\tremaining: 829ms\n",
      "374:\tlearn: 0.2312880\ttotal: 496ms\tremaining: 827ms\n",
      "375:\tlearn: 0.2309978\ttotal: 497ms\tremaining: 825ms\n",
      "376:\tlearn: 0.2305797\ttotal: 498ms\tremaining: 823ms\n",
      "377:\tlearn: 0.2302671\ttotal: 499ms\tremaining: 821ms\n",
      "378:\tlearn: 0.2298799\ttotal: 499ms\tremaining: 818ms\n",
      "379:\tlearn: 0.2295009\ttotal: 500ms\tremaining: 816ms\n"
     ]
    },
    {
     "name": "stdout",
     "output_type": "stream",
     "text": [
      "380:\tlearn: 0.2289493\ttotal: 501ms\tremaining: 815ms\n",
      "381:\tlearn: 0.2285010\ttotal: 502ms\tremaining: 813ms\n",
      "382:\tlearn: 0.2283052\ttotal: 503ms\tremaining: 811ms\n",
      "383:\tlearn: 0.2280532\ttotal: 504ms\tremaining: 809ms\n",
      "384:\tlearn: 0.2278749\ttotal: 505ms\tremaining: 806ms\n",
      "385:\tlearn: 0.2276692\ttotal: 506ms\tremaining: 804ms\n",
      "386:\tlearn: 0.2273141\ttotal: 506ms\tremaining: 802ms\n",
      "387:\tlearn: 0.2269729\ttotal: 507ms\tremaining: 800ms\n",
      "388:\tlearn: 0.2265096\ttotal: 508ms\tremaining: 798ms\n",
      "389:\tlearn: 0.2261179\ttotal: 509ms\tremaining: 796ms\n",
      "390:\tlearn: 0.2257620\ttotal: 510ms\tremaining: 794ms\n",
      "391:\tlearn: 0.2254125\ttotal: 511ms\tremaining: 793ms\n",
      "392:\tlearn: 0.2250504\ttotal: 512ms\tremaining: 791ms\n",
      "393:\tlearn: 0.2248149\ttotal: 513ms\tremaining: 789ms\n",
      "394:\tlearn: 0.2245912\ttotal: 514ms\tremaining: 788ms\n",
      "395:\tlearn: 0.2242488\ttotal: 515ms\tremaining: 786ms\n",
      "396:\tlearn: 0.2240126\ttotal: 516ms\tremaining: 784ms\n",
      "397:\tlearn: 0.2237290\ttotal: 517ms\tremaining: 782ms\n",
      "398:\tlearn: 0.2235486\ttotal: 518ms\tremaining: 780ms\n",
      "399:\tlearn: 0.2230899\ttotal: 519ms\tremaining: 778ms\n",
      "400:\tlearn: 0.2227817\ttotal: 520ms\tremaining: 777ms\n",
      "401:\tlearn: 0.2224752\ttotal: 521ms\tremaining: 775ms\n",
      "402:\tlearn: 0.2221171\ttotal: 522ms\tremaining: 773ms\n",
      "403:\tlearn: 0.2216990\ttotal: 522ms\tremaining: 771ms\n",
      "404:\tlearn: 0.2212887\ttotal: 523ms\tremaining: 769ms\n",
      "405:\tlearn: 0.2210836\ttotal: 524ms\tremaining: 767ms\n",
      "406:\tlearn: 0.2206963\ttotal: 525ms\tremaining: 765ms\n",
      "407:\tlearn: 0.2204430\ttotal: 526ms\tremaining: 763ms\n",
      "408:\tlearn: 0.2200194\ttotal: 527ms\tremaining: 762ms\n",
      "409:\tlearn: 0.2197708\ttotal: 528ms\tremaining: 760ms\n",
      "410:\tlearn: 0.2194428\ttotal: 529ms\tremaining: 758ms\n",
      "411:\tlearn: 0.2192668\ttotal: 530ms\tremaining: 756ms\n",
      "412:\tlearn: 0.2190240\ttotal: 531ms\tremaining: 754ms\n",
      "413:\tlearn: 0.2188813\ttotal: 531ms\tremaining: 752ms\n",
      "414:\tlearn: 0.2183656\ttotal: 532ms\tremaining: 750ms\n",
      "415:\tlearn: 0.2180103\ttotal: 533ms\tremaining: 749ms\n",
      "416:\tlearn: 0.2174519\ttotal: 534ms\tremaining: 747ms\n",
      "417:\tlearn: 0.2169278\ttotal: 535ms\tremaining: 745ms\n",
      "418:\tlearn: 0.2167950\ttotal: 536ms\tremaining: 743ms\n",
      "419:\tlearn: 0.2164727\ttotal: 537ms\tremaining: 742ms\n",
      "420:\tlearn: 0.2161532\ttotal: 538ms\tremaining: 740ms\n",
      "421:\tlearn: 0.2158076\ttotal: 539ms\tremaining: 738ms\n",
      "422:\tlearn: 0.2154589\ttotal: 540ms\tremaining: 737ms\n",
      "423:\tlearn: 0.2153139\ttotal: 541ms\tremaining: 735ms\n",
      "424:\tlearn: 0.2151828\ttotal: 542ms\tremaining: 733ms\n",
      "425:\tlearn: 0.2148322\ttotal: 543ms\tremaining: 731ms\n",
      "426:\tlearn: 0.2146235\ttotal: 544ms\tremaining: 730ms\n",
      "427:\tlearn: 0.2145950\ttotal: 544ms\tremaining: 727ms\n",
      "428:\tlearn: 0.2142286\ttotal: 545ms\tremaining: 726ms\n",
      "429:\tlearn: 0.2137649\ttotal: 546ms\tremaining: 724ms\n",
      "430:\tlearn: 0.2134738\ttotal: 547ms\tremaining: 722ms\n",
      "431:\tlearn: 0.2131132\ttotal: 548ms\tremaining: 720ms\n",
      "432:\tlearn: 0.2127643\ttotal: 548ms\tremaining: 718ms\n",
      "433:\tlearn: 0.2124698\ttotal: 549ms\tremaining: 716ms\n",
      "434:\tlearn: 0.2122251\ttotal: 550ms\tremaining: 714ms\n",
      "435:\tlearn: 0.2118288\ttotal: 551ms\tremaining: 713ms\n",
      "436:\tlearn: 0.2115600\ttotal: 552ms\tremaining: 711ms\n",
      "437:\tlearn: 0.2115058\ttotal: 552ms\tremaining: 709ms\n",
      "438:\tlearn: 0.2110905\ttotal: 553ms\tremaining: 707ms\n",
      "439:\tlearn: 0.2107237\ttotal: 554ms\tremaining: 705ms\n",
      "440:\tlearn: 0.2103350\ttotal: 555ms\tremaining: 703ms\n",
      "441:\tlearn: 0.2101210\ttotal: 555ms\tremaining: 701ms\n",
      "442:\tlearn: 0.2097248\ttotal: 556ms\tremaining: 700ms\n",
      "443:\tlearn: 0.2095565\ttotal: 557ms\tremaining: 698ms\n",
      "444:\tlearn: 0.2092524\ttotal: 558ms\tremaining: 696ms\n",
      "445:\tlearn: 0.2088577\ttotal: 559ms\tremaining: 694ms\n",
      "446:\tlearn: 0.2087177\ttotal: 560ms\tremaining: 692ms\n",
      "447:\tlearn: 0.2083429\ttotal: 560ms\tremaining: 690ms\n",
      "448:\tlearn: 0.2081122\ttotal: 561ms\tremaining: 689ms\n",
      "449:\tlearn: 0.2079164\ttotal: 562ms\tremaining: 687ms\n",
      "450:\tlearn: 0.2077417\ttotal: 563ms\tremaining: 685ms\n",
      "451:\tlearn: 0.2074225\ttotal: 564ms\tremaining: 683ms\n",
      "452:\tlearn: 0.2071804\ttotal: 565ms\tremaining: 682ms\n",
      "453:\tlearn: 0.2068888\ttotal: 565ms\tremaining: 680ms\n",
      "454:\tlearn: 0.2064882\ttotal: 566ms\tremaining: 678ms\n",
      "455:\tlearn: 0.2063003\ttotal: 567ms\tremaining: 676ms\n",
      "456:\tlearn: 0.2061602\ttotal: 568ms\tremaining: 675ms\n",
      "457:\tlearn: 0.2057411\ttotal: 569ms\tremaining: 673ms\n",
      "458:\tlearn: 0.2053569\ttotal: 570ms\tremaining: 671ms\n",
      "459:\tlearn: 0.2049943\ttotal: 571ms\tremaining: 670ms\n",
      "460:\tlearn: 0.2046044\ttotal: 571ms\tremaining: 668ms\n",
      "461:\tlearn: 0.2043495\ttotal: 572ms\tremaining: 666ms\n",
      "462:\tlearn: 0.2038800\ttotal: 573ms\tremaining: 664ms\n",
      "463:\tlearn: 0.2036153\ttotal: 574ms\tremaining: 663ms\n",
      "464:\tlearn: 0.2032469\ttotal: 574ms\tremaining: 661ms\n",
      "465:\tlearn: 0.2028504\ttotal: 575ms\tremaining: 659ms\n",
      "466:\tlearn: 0.2026126\ttotal: 576ms\tremaining: 657ms\n",
      "467:\tlearn: 0.2022789\ttotal: 577ms\tremaining: 655ms\n",
      "468:\tlearn: 0.2020440\ttotal: 577ms\tremaining: 654ms\n",
      "469:\tlearn: 0.2016875\ttotal: 578ms\tremaining: 652ms\n",
      "470:\tlearn: 0.2014080\ttotal: 579ms\tremaining: 650ms\n",
      "471:\tlearn: 0.2011514\ttotal: 580ms\tremaining: 649ms\n",
      "472:\tlearn: 0.2009425\ttotal: 581ms\tremaining: 647ms\n",
      "473:\tlearn: 0.2007617\ttotal: 581ms\tremaining: 645ms\n",
      "474:\tlearn: 0.2005781\ttotal: 582ms\tremaining: 644ms\n",
      "475:\tlearn: 0.2002206\ttotal: 583ms\tremaining: 642ms\n",
      "476:\tlearn: 0.1999232\ttotal: 584ms\tremaining: 640ms\n",
      "477:\tlearn: 0.1997176\ttotal: 585ms\tremaining: 638ms\n",
      "478:\tlearn: 0.1993435\ttotal: 585ms\tremaining: 637ms\n",
      "479:\tlearn: 0.1989678\ttotal: 586ms\tremaining: 635ms\n",
      "480:\tlearn: 0.1985527\ttotal: 587ms\tremaining: 633ms\n",
      "481:\tlearn: 0.1983658\ttotal: 588ms\tremaining: 632ms\n",
      "482:\tlearn: 0.1981410\ttotal: 588ms\tremaining: 630ms\n",
      "483:\tlearn: 0.1978022\ttotal: 589ms\tremaining: 628ms\n",
      "484:\tlearn: 0.1974663\ttotal: 590ms\tremaining: 627ms\n",
      "485:\tlearn: 0.1972715\ttotal: 591ms\tremaining: 625ms\n",
      "486:\tlearn: 0.1971756\ttotal: 592ms\tremaining: 623ms\n",
      "487:\tlearn: 0.1970269\ttotal: 593ms\tremaining: 622ms\n",
      "488:\tlearn: 0.1968926\ttotal: 594ms\tremaining: 620ms\n",
      "489:\tlearn: 0.1964629\ttotal: 595ms\tremaining: 619ms\n",
      "490:\tlearn: 0.1963121\ttotal: 596ms\tremaining: 618ms\n",
      "491:\tlearn: 0.1960253\ttotal: 597ms\tremaining: 616ms\n",
      "492:\tlearn: 0.1957312\ttotal: 597ms\tremaining: 614ms\n",
      "493:\tlearn: 0.1955982\ttotal: 598ms\tremaining: 613ms\n",
      "494:\tlearn: 0.1954241\ttotal: 599ms\tremaining: 611ms\n",
      "495:\tlearn: 0.1950687\ttotal: 600ms\tremaining: 610ms\n",
      "496:\tlearn: 0.1947756\ttotal: 601ms\tremaining: 609ms\n",
      "497:\tlearn: 0.1945808\ttotal: 602ms\tremaining: 607ms\n",
      "498:\tlearn: 0.1944052\ttotal: 603ms\tremaining: 606ms\n",
      "499:\tlearn: 0.1940540\ttotal: 604ms\tremaining: 604ms\n",
      "500:\tlearn: 0.1938070\ttotal: 605ms\tremaining: 602ms\n",
      "501:\tlearn: 0.1935002\ttotal: 606ms\tremaining: 601ms\n",
      "502:\tlearn: 0.1932299\ttotal: 607ms\tremaining: 600ms\n",
      "503:\tlearn: 0.1928678\ttotal: 608ms\tremaining: 598ms\n",
      "504:\tlearn: 0.1926295\ttotal: 609ms\tremaining: 597ms\n",
      "505:\tlearn: 0.1924302\ttotal: 610ms\tremaining: 595ms\n",
      "506:\tlearn: 0.1921051\ttotal: 610ms\tremaining: 594ms\n",
      "507:\tlearn: 0.1919423\ttotal: 611ms\tremaining: 592ms\n",
      "508:\tlearn: 0.1915465\ttotal: 612ms\tremaining: 590ms\n",
      "509:\tlearn: 0.1913122\ttotal: 613ms\tremaining: 589ms\n",
      "510:\tlearn: 0.1911327\ttotal: 614ms\tremaining: 588ms\n",
      "511:\tlearn: 0.1908090\ttotal: 615ms\tremaining: 586ms\n",
      "512:\tlearn: 0.1907410\ttotal: 616ms\tremaining: 585ms\n",
      "513:\tlearn: 0.1904852\ttotal: 617ms\tremaining: 583ms\n",
      "514:\tlearn: 0.1900700\ttotal: 618ms\tremaining: 582ms\n",
      "515:\tlearn: 0.1899113\ttotal: 619ms\tremaining: 580ms\n",
      "516:\tlearn: 0.1896993\ttotal: 620ms\tremaining: 579ms\n",
      "517:\tlearn: 0.1895251\ttotal: 621ms\tremaining: 578ms\n",
      "518:\tlearn: 0.1891594\ttotal: 622ms\tremaining: 576ms\n",
      "519:\tlearn: 0.1889160\ttotal: 623ms\tremaining: 575ms\n",
      "520:\tlearn: 0.1886876\ttotal: 624ms\tremaining: 574ms\n",
      "521:\tlearn: 0.1883086\ttotal: 625ms\tremaining: 572ms\n",
      "522:\tlearn: 0.1879372\ttotal: 627ms\tremaining: 572ms\n",
      "523:\tlearn: 0.1877249\ttotal: 628ms\tremaining: 570ms\n",
      "524:\tlearn: 0.1873883\ttotal: 629ms\tremaining: 569ms\n",
      "525:\tlearn: 0.1872379\ttotal: 629ms\tremaining: 567ms\n",
      "526:\tlearn: 0.1869702\ttotal: 630ms\tremaining: 566ms\n",
      "527:\tlearn: 0.1867470\ttotal: 632ms\tremaining: 565ms\n",
      "528:\tlearn: 0.1865101\ttotal: 633ms\tremaining: 564ms\n",
      "529:\tlearn: 0.1862188\ttotal: 634ms\tremaining: 562ms\n",
      "530:\tlearn: 0.1859320\ttotal: 635ms\tremaining: 561ms\n",
      "531:\tlearn: 0.1855756\ttotal: 636ms\tremaining: 559ms\n",
      "532:\tlearn: 0.1854109\ttotal: 638ms\tremaining: 559ms\n",
      "533:\tlearn: 0.1849044\ttotal: 639ms\tremaining: 558ms\n",
      "534:\tlearn: 0.1847475\ttotal: 640ms\tremaining: 557ms\n",
      "535:\tlearn: 0.1845546\ttotal: 641ms\tremaining: 555ms\n",
      "536:\tlearn: 0.1842422\ttotal: 642ms\tremaining: 554ms\n",
      "537:\tlearn: 0.1841026\ttotal: 644ms\tremaining: 553ms\n",
      "538:\tlearn: 0.1838421\ttotal: 645ms\tremaining: 552ms\n",
      "539:\tlearn: 0.1833711\ttotal: 646ms\tremaining: 550ms\n",
      "540:\tlearn: 0.1830110\ttotal: 647ms\tremaining: 549ms\n",
      "541:\tlearn: 0.1828300\ttotal: 648ms\tremaining: 548ms\n",
      "542:\tlearn: 0.1825824\ttotal: 649ms\tremaining: 547ms\n",
      "543:\tlearn: 0.1824889\ttotal: 651ms\tremaining: 546ms\n",
      "544:\tlearn: 0.1821247\ttotal: 652ms\tremaining: 544ms\n",
      "545:\tlearn: 0.1818624\ttotal: 653ms\tremaining: 543ms\n",
      "546:\tlearn: 0.1815900\ttotal: 654ms\tremaining: 542ms\n",
      "547:\tlearn: 0.1813913\ttotal: 655ms\tremaining: 541ms\n",
      "548:\tlearn: 0.1811233\ttotal: 656ms\tremaining: 539ms\n",
      "549:\tlearn: 0.1807960\ttotal: 657ms\tremaining: 538ms\n",
      "550:\tlearn: 0.1804474\ttotal: 658ms\tremaining: 536ms\n",
      "551:\tlearn: 0.1800942\ttotal: 659ms\tremaining: 535ms\n",
      "552:\tlearn: 0.1799851\ttotal: 660ms\tremaining: 534ms\n",
      "553:\tlearn: 0.1797029\ttotal: 662ms\tremaining: 533ms\n",
      "554:\tlearn: 0.1795288\ttotal: 663ms\tremaining: 532ms\n",
      "555:\tlearn: 0.1791589\ttotal: 665ms\tremaining: 531ms\n",
      "556:\tlearn: 0.1790916\ttotal: 666ms\tremaining: 530ms\n"
     ]
    },
    {
     "name": "stdout",
     "output_type": "stream",
     "text": [
      "557:\tlearn: 0.1787271\ttotal: 669ms\tremaining: 530ms\n",
      "558:\tlearn: 0.1784945\ttotal: 670ms\tremaining: 529ms\n",
      "559:\tlearn: 0.1782417\ttotal: 672ms\tremaining: 528ms\n",
      "560:\tlearn: 0.1781289\ttotal: 673ms\tremaining: 527ms\n",
      "561:\tlearn: 0.1779941\ttotal: 675ms\tremaining: 526ms\n",
      "562:\tlearn: 0.1777163\ttotal: 676ms\tremaining: 524ms\n",
      "563:\tlearn: 0.1774858\ttotal: 677ms\tremaining: 523ms\n",
      "564:\tlearn: 0.1772133\ttotal: 678ms\tremaining: 522ms\n",
      "565:\tlearn: 0.1770726\ttotal: 679ms\tremaining: 521ms\n",
      "566:\tlearn: 0.1768432\ttotal: 680ms\tremaining: 519ms\n",
      "567:\tlearn: 0.1765667\ttotal: 681ms\tremaining: 518ms\n",
      "568:\tlearn: 0.1763495\ttotal: 682ms\tremaining: 516ms\n",
      "569:\tlearn: 0.1760568\ttotal: 682ms\tremaining: 515ms\n",
      "570:\tlearn: 0.1757888\ttotal: 683ms\tremaining: 513ms\n",
      "571:\tlearn: 0.1754338\ttotal: 684ms\tremaining: 512ms\n",
      "572:\tlearn: 0.1751642\ttotal: 685ms\tremaining: 511ms\n",
      "573:\tlearn: 0.1749640\ttotal: 686ms\tremaining: 509ms\n",
      "574:\tlearn: 0.1747783\ttotal: 687ms\tremaining: 508ms\n",
      "575:\tlearn: 0.1745443\ttotal: 688ms\tremaining: 506ms\n",
      "576:\tlearn: 0.1742287\ttotal: 689ms\tremaining: 505ms\n",
      "577:\tlearn: 0.1738587\ttotal: 690ms\tremaining: 503ms\n",
      "578:\tlearn: 0.1736812\ttotal: 690ms\tremaining: 502ms\n",
      "579:\tlearn: 0.1734588\ttotal: 691ms\tremaining: 501ms\n",
      "580:\tlearn: 0.1730505\ttotal: 692ms\tremaining: 499ms\n",
      "581:\tlearn: 0.1727831\ttotal: 693ms\tremaining: 498ms\n",
      "582:\tlearn: 0.1725381\ttotal: 695ms\tremaining: 497ms\n",
      "583:\tlearn: 0.1723696\ttotal: 696ms\tremaining: 496ms\n",
      "584:\tlearn: 0.1722166\ttotal: 697ms\tremaining: 494ms\n",
      "585:\tlearn: 0.1720354\ttotal: 698ms\tremaining: 493ms\n",
      "586:\tlearn: 0.1717117\ttotal: 699ms\tremaining: 492ms\n",
      "587:\tlearn: 0.1715517\ttotal: 699ms\tremaining: 490ms\n",
      "588:\tlearn: 0.1714111\ttotal: 701ms\tremaining: 489ms\n",
      "589:\tlearn: 0.1711205\ttotal: 702ms\tremaining: 488ms\n",
      "590:\tlearn: 0.1708725\ttotal: 703ms\tremaining: 486ms\n",
      "591:\tlearn: 0.1706977\ttotal: 704ms\tremaining: 485ms\n",
      "592:\tlearn: 0.1704609\ttotal: 705ms\tremaining: 484ms\n",
      "593:\tlearn: 0.1701200\ttotal: 706ms\tremaining: 483ms\n",
      "594:\tlearn: 0.1700260\ttotal: 707ms\tremaining: 481ms\n",
      "595:\tlearn: 0.1698235\ttotal: 708ms\tremaining: 480ms\n",
      "596:\tlearn: 0.1696384\ttotal: 709ms\tremaining: 479ms\n",
      "597:\tlearn: 0.1695988\ttotal: 710ms\tremaining: 477ms\n",
      "598:\tlearn: 0.1693630\ttotal: 711ms\tremaining: 476ms\n",
      "599:\tlearn: 0.1692529\ttotal: 712ms\tremaining: 475ms\n",
      "600:\tlearn: 0.1691730\ttotal: 713ms\tremaining: 473ms\n",
      "601:\tlearn: 0.1689899\ttotal: 714ms\tremaining: 472ms\n",
      "602:\tlearn: 0.1686613\ttotal: 715ms\tremaining: 471ms\n",
      "603:\tlearn: 0.1684002\ttotal: 716ms\tremaining: 470ms\n",
      "604:\tlearn: 0.1682152\ttotal: 717ms\tremaining: 468ms\n",
      "605:\tlearn: 0.1680343\ttotal: 718ms\tremaining: 467ms\n",
      "606:\tlearn: 0.1677642\ttotal: 719ms\tremaining: 465ms\n",
      "607:\tlearn: 0.1676470\ttotal: 720ms\tremaining: 464ms\n",
      "608:\tlearn: 0.1675305\ttotal: 721ms\tremaining: 463ms\n",
      "609:\tlearn: 0.1671817\ttotal: 721ms\tremaining: 461ms\n",
      "610:\tlearn: 0.1671398\ttotal: 722ms\tremaining: 460ms\n",
      "611:\tlearn: 0.1670068\ttotal: 723ms\tremaining: 459ms\n",
      "612:\tlearn: 0.1668815\ttotal: 725ms\tremaining: 457ms\n",
      "613:\tlearn: 0.1666197\ttotal: 726ms\tremaining: 456ms\n",
      "614:\tlearn: 0.1663885\ttotal: 727ms\tremaining: 455ms\n",
      "615:\tlearn: 0.1661393\ttotal: 728ms\tremaining: 454ms\n",
      "616:\tlearn: 0.1659556\ttotal: 729ms\tremaining: 453ms\n",
      "617:\tlearn: 0.1658758\ttotal: 730ms\tremaining: 451ms\n",
      "618:\tlearn: 0.1657383\ttotal: 732ms\tremaining: 451ms\n",
      "619:\tlearn: 0.1655088\ttotal: 733ms\tremaining: 449ms\n",
      "620:\tlearn: 0.1653468\ttotal: 744ms\tremaining: 454ms\n",
      "621:\tlearn: 0.1650355\ttotal: 745ms\tremaining: 453ms\n",
      "622:\tlearn: 0.1648361\ttotal: 746ms\tremaining: 451ms\n",
      "623:\tlearn: 0.1646566\ttotal: 746ms\tremaining: 450ms\n",
      "624:\tlearn: 0.1643818\ttotal: 748ms\tremaining: 449ms\n",
      "625:\tlearn: 0.1640929\ttotal: 749ms\tremaining: 448ms\n",
      "626:\tlearn: 0.1638657\ttotal: 750ms\tremaining: 446ms\n",
      "627:\tlearn: 0.1636531\ttotal: 751ms\tremaining: 445ms\n",
      "628:\tlearn: 0.1634055\ttotal: 752ms\tremaining: 443ms\n",
      "629:\tlearn: 0.1631022\ttotal: 753ms\tremaining: 442ms\n",
      "630:\tlearn: 0.1628131\ttotal: 754ms\tremaining: 441ms\n",
      "631:\tlearn: 0.1626773\ttotal: 755ms\tremaining: 440ms\n",
      "632:\tlearn: 0.1622505\ttotal: 756ms\tremaining: 438ms\n",
      "633:\tlearn: 0.1619959\ttotal: 757ms\tremaining: 437ms\n",
      "634:\tlearn: 0.1617266\ttotal: 758ms\tremaining: 436ms\n",
      "635:\tlearn: 0.1615918\ttotal: 759ms\tremaining: 434ms\n",
      "636:\tlearn: 0.1612971\ttotal: 760ms\tremaining: 433ms\n",
      "637:\tlearn: 0.1611821\ttotal: 761ms\tremaining: 432ms\n",
      "638:\tlearn: 0.1610867\ttotal: 762ms\tremaining: 431ms\n",
      "639:\tlearn: 0.1609778\ttotal: 763ms\tremaining: 429ms\n",
      "640:\tlearn: 0.1607839\ttotal: 764ms\tremaining: 428ms\n",
      "641:\tlearn: 0.1605762\ttotal: 765ms\tremaining: 427ms\n",
      "642:\tlearn: 0.1602761\ttotal: 766ms\tremaining: 426ms\n",
      "643:\tlearn: 0.1600994\ttotal: 767ms\tremaining: 424ms\n",
      "644:\tlearn: 0.1598426\ttotal: 768ms\tremaining: 423ms\n",
      "645:\tlearn: 0.1596718\ttotal: 769ms\tremaining: 422ms\n",
      "646:\tlearn: 0.1595510\ttotal: 770ms\tremaining: 420ms\n",
      "647:\tlearn: 0.1594146\ttotal: 771ms\tremaining: 419ms\n",
      "648:\tlearn: 0.1592647\ttotal: 772ms\tremaining: 418ms\n",
      "649:\tlearn: 0.1589701\ttotal: 773ms\tremaining: 416ms\n",
      "650:\tlearn: 0.1587727\ttotal: 774ms\tremaining: 415ms\n",
      "651:\tlearn: 0.1586095\ttotal: 775ms\tremaining: 414ms\n",
      "652:\tlearn: 0.1583788\ttotal: 776ms\tremaining: 413ms\n",
      "653:\tlearn: 0.1581368\ttotal: 777ms\tremaining: 411ms\n",
      "654:\tlearn: 0.1580149\ttotal: 778ms\tremaining: 410ms\n",
      "655:\tlearn: 0.1578273\ttotal: 779ms\tremaining: 409ms\n",
      "656:\tlearn: 0.1576036\ttotal: 780ms\tremaining: 407ms\n",
      "657:\tlearn: 0.1572969\ttotal: 781ms\tremaining: 406ms\n",
      "658:\tlearn: 0.1571244\ttotal: 782ms\tremaining: 404ms\n",
      "659:\tlearn: 0.1568132\ttotal: 783ms\tremaining: 403ms\n",
      "660:\tlearn: 0.1566370\ttotal: 784ms\tremaining: 402ms\n",
      "661:\tlearn: 0.1565168\ttotal: 785ms\tremaining: 401ms\n",
      "662:\tlearn: 0.1563379\ttotal: 786ms\tremaining: 399ms\n",
      "663:\tlearn: 0.1561052\ttotal: 786ms\tremaining: 398ms\n",
      "664:\tlearn: 0.1558546\ttotal: 787ms\tremaining: 397ms\n",
      "665:\tlearn: 0.1556346\ttotal: 788ms\tremaining: 395ms\n",
      "666:\tlearn: 0.1554375\ttotal: 789ms\tremaining: 394ms\n",
      "667:\tlearn: 0.1552899\ttotal: 790ms\tremaining: 393ms\n",
      "668:\tlearn: 0.1551418\ttotal: 791ms\tremaining: 392ms\n",
      "669:\tlearn: 0.1550470\ttotal: 793ms\tremaining: 391ms\n",
      "670:\tlearn: 0.1547955\ttotal: 794ms\tremaining: 389ms\n",
      "671:\tlearn: 0.1546612\ttotal: 795ms\tremaining: 388ms\n",
      "672:\tlearn: 0.1544213\ttotal: 796ms\tremaining: 387ms\n",
      "673:\tlearn: 0.1543158\ttotal: 797ms\tremaining: 385ms\n",
      "674:\tlearn: 0.1541931\ttotal: 797ms\tremaining: 384ms\n",
      "675:\tlearn: 0.1540921\ttotal: 799ms\tremaining: 383ms\n",
      "676:\tlearn: 0.1538999\ttotal: 799ms\tremaining: 381ms\n",
      "677:\tlearn: 0.1536703\ttotal: 801ms\tremaining: 380ms\n",
      "678:\tlearn: 0.1535383\ttotal: 801ms\tremaining: 379ms\n",
      "679:\tlearn: 0.1533291\ttotal: 802ms\tremaining: 377ms\n",
      "680:\tlearn: 0.1531806\ttotal: 803ms\tremaining: 376ms\n",
      "681:\tlearn: 0.1530494\ttotal: 804ms\tremaining: 375ms\n",
      "682:\tlearn: 0.1528040\ttotal: 805ms\tremaining: 373ms\n",
      "683:\tlearn: 0.1526050\ttotal: 805ms\tremaining: 372ms\n",
      "684:\tlearn: 0.1523826\ttotal: 806ms\tremaining: 371ms\n",
      "685:\tlearn: 0.1520456\ttotal: 807ms\tremaining: 369ms\n",
      "686:\tlearn: 0.1516773\ttotal: 808ms\tremaining: 368ms\n",
      "687:\tlearn: 0.1515184\ttotal: 809ms\tremaining: 367ms\n",
      "688:\tlearn: 0.1512627\ttotal: 810ms\tremaining: 366ms\n",
      "689:\tlearn: 0.1510970\ttotal: 811ms\tremaining: 364ms\n",
      "690:\tlearn: 0.1509995\ttotal: 812ms\tremaining: 363ms\n",
      "691:\tlearn: 0.1507670\ttotal: 813ms\tremaining: 362ms\n",
      "692:\tlearn: 0.1506808\ttotal: 814ms\tremaining: 360ms\n",
      "693:\tlearn: 0.1504595\ttotal: 814ms\tremaining: 359ms\n",
      "694:\tlearn: 0.1502941\ttotal: 815ms\tremaining: 358ms\n",
      "695:\tlearn: 0.1501264\ttotal: 816ms\tremaining: 356ms\n",
      "696:\tlearn: 0.1498762\ttotal: 817ms\tremaining: 355ms\n",
      "697:\tlearn: 0.1496898\ttotal: 818ms\tremaining: 354ms\n",
      "698:\tlearn: 0.1494803\ttotal: 818ms\tremaining: 352ms\n",
      "699:\tlearn: 0.1494708\ttotal: 819ms\tremaining: 351ms\n",
      "700:\tlearn: 0.1493960\ttotal: 820ms\tremaining: 350ms\n",
      "701:\tlearn: 0.1492055\ttotal: 821ms\tremaining: 348ms\n",
      "702:\tlearn: 0.1490233\ttotal: 821ms\tremaining: 347ms\n",
      "703:\tlearn: 0.1487576\ttotal: 822ms\tremaining: 346ms\n",
      "704:\tlearn: 0.1486226\ttotal: 823ms\tremaining: 344ms\n",
      "705:\tlearn: 0.1484913\ttotal: 824ms\tremaining: 343ms\n",
      "706:\tlearn: 0.1483920\ttotal: 824ms\tremaining: 342ms\n",
      "707:\tlearn: 0.1481992\ttotal: 825ms\tremaining: 340ms\n",
      "708:\tlearn: 0.1479744\ttotal: 826ms\tremaining: 339ms\n",
      "709:\tlearn: 0.1477331\ttotal: 827ms\tremaining: 338ms\n",
      "710:\tlearn: 0.1474922\ttotal: 828ms\tremaining: 336ms\n",
      "711:\tlearn: 0.1472932\ttotal: 828ms\tremaining: 335ms\n",
      "712:\tlearn: 0.1470963\ttotal: 829ms\tremaining: 334ms\n",
      "713:\tlearn: 0.1470293\ttotal: 830ms\tremaining: 333ms\n",
      "714:\tlearn: 0.1468843\ttotal: 831ms\tremaining: 331ms\n",
      "715:\tlearn: 0.1467890\ttotal: 832ms\tremaining: 330ms\n",
      "716:\tlearn: 0.1465120\ttotal: 832ms\tremaining: 329ms\n",
      "717:\tlearn: 0.1462842\ttotal: 833ms\tremaining: 327ms\n",
      "718:\tlearn: 0.1460787\ttotal: 834ms\tremaining: 326ms\n",
      "719:\tlearn: 0.1457877\ttotal: 835ms\tremaining: 325ms\n"
     ]
    },
    {
     "name": "stdout",
     "output_type": "stream",
     "text": [
      "720:\tlearn: 0.1455887\ttotal: 836ms\tremaining: 324ms\n",
      "721:\tlearn: 0.1454694\ttotal: 837ms\tremaining: 322ms\n",
      "722:\tlearn: 0.1453134\ttotal: 838ms\tremaining: 321ms\n",
      "723:\tlearn: 0.1451567\ttotal: 839ms\tremaining: 320ms\n",
      "724:\tlearn: 0.1450087\ttotal: 839ms\tremaining: 318ms\n",
      "725:\tlearn: 0.1448347\ttotal: 840ms\tremaining: 317ms\n",
      "726:\tlearn: 0.1446626\ttotal: 841ms\tremaining: 316ms\n",
      "727:\tlearn: 0.1445337\ttotal: 842ms\tremaining: 315ms\n",
      "728:\tlearn: 0.1443677\ttotal: 843ms\tremaining: 313ms\n",
      "729:\tlearn: 0.1441630\ttotal: 844ms\tremaining: 312ms\n",
      "730:\tlearn: 0.1440778\ttotal: 844ms\tremaining: 311ms\n",
      "731:\tlearn: 0.1439680\ttotal: 845ms\tremaining: 309ms\n",
      "732:\tlearn: 0.1437055\ttotal: 846ms\tremaining: 308ms\n",
      "733:\tlearn: 0.1434990\ttotal: 847ms\tremaining: 307ms\n",
      "734:\tlearn: 0.1433313\ttotal: 848ms\tremaining: 306ms\n",
      "735:\tlearn: 0.1430873\ttotal: 848ms\tremaining: 304ms\n",
      "736:\tlearn: 0.1428855\ttotal: 849ms\tremaining: 303ms\n",
      "737:\tlearn: 0.1427667\ttotal: 850ms\tremaining: 302ms\n",
      "738:\tlearn: 0.1426224\ttotal: 851ms\tremaining: 301ms\n",
      "739:\tlearn: 0.1424222\ttotal: 852ms\tremaining: 299ms\n",
      "740:\tlearn: 0.1422129\ttotal: 853ms\tremaining: 298ms\n",
      "741:\tlearn: 0.1419563\ttotal: 854ms\tremaining: 297ms\n",
      "742:\tlearn: 0.1417714\ttotal: 854ms\tremaining: 296ms\n",
      "743:\tlearn: 0.1416088\ttotal: 855ms\tremaining: 294ms\n",
      "744:\tlearn: 0.1414124\ttotal: 856ms\tremaining: 293ms\n",
      "745:\tlearn: 0.1413329\ttotal: 857ms\tremaining: 292ms\n",
      "746:\tlearn: 0.1411088\ttotal: 858ms\tremaining: 290ms\n",
      "747:\tlearn: 0.1409322\ttotal: 858ms\tremaining: 289ms\n",
      "748:\tlearn: 0.1408003\ttotal: 859ms\tremaining: 288ms\n",
      "749:\tlearn: 0.1405542\ttotal: 860ms\tremaining: 287ms\n",
      "750:\tlearn: 0.1403747\ttotal: 861ms\tremaining: 285ms\n",
      "751:\tlearn: 0.1402011\ttotal: 862ms\tremaining: 284ms\n",
      "752:\tlearn: 0.1399259\ttotal: 863ms\tremaining: 283ms\n",
      "753:\tlearn: 0.1397720\ttotal: 863ms\tremaining: 282ms\n",
      "754:\tlearn: 0.1395978\ttotal: 864ms\tremaining: 280ms\n",
      "755:\tlearn: 0.1393155\ttotal: 865ms\tremaining: 279ms\n",
      "756:\tlearn: 0.1392645\ttotal: 866ms\tremaining: 278ms\n",
      "757:\tlearn: 0.1391511\ttotal: 867ms\tremaining: 277ms\n",
      "758:\tlearn: 0.1390691\ttotal: 868ms\tremaining: 276ms\n",
      "759:\tlearn: 0.1389130\ttotal: 869ms\tremaining: 274ms\n",
      "760:\tlearn: 0.1387978\ttotal: 870ms\tremaining: 273ms\n",
      "761:\tlearn: 0.1387133\ttotal: 871ms\tremaining: 272ms\n",
      "762:\tlearn: 0.1385375\ttotal: 872ms\tremaining: 271ms\n",
      "763:\tlearn: 0.1382641\ttotal: 873ms\tremaining: 270ms\n",
      "764:\tlearn: 0.1381327\ttotal: 874ms\tremaining: 269ms\n",
      "765:\tlearn: 0.1379782\ttotal: 875ms\tremaining: 267ms\n",
      "766:\tlearn: 0.1378533\ttotal: 876ms\tremaining: 266ms\n",
      "767:\tlearn: 0.1377874\ttotal: 877ms\tremaining: 265ms\n",
      "768:\tlearn: 0.1376495\ttotal: 877ms\tremaining: 264ms\n",
      "769:\tlearn: 0.1375240\ttotal: 878ms\tremaining: 262ms\n",
      "770:\tlearn: 0.1373187\ttotal: 879ms\tremaining: 261ms\n",
      "771:\tlearn: 0.1371267\ttotal: 880ms\tremaining: 260ms\n",
      "772:\tlearn: 0.1369451\ttotal: 881ms\tremaining: 259ms\n",
      "773:\tlearn: 0.1366491\ttotal: 882ms\tremaining: 257ms\n",
      "774:\tlearn: 0.1364800\ttotal: 883ms\tremaining: 256ms\n",
      "775:\tlearn: 0.1363270\ttotal: 884ms\tremaining: 255ms\n",
      "776:\tlearn: 0.1362414\ttotal: 884ms\tremaining: 254ms\n",
      "777:\tlearn: 0.1362086\ttotal: 885ms\tremaining: 253ms\n",
      "778:\tlearn: 0.1359923\ttotal: 886ms\tremaining: 251ms\n",
      "779:\tlearn: 0.1357329\ttotal: 887ms\tremaining: 250ms\n",
      "780:\tlearn: 0.1356131\ttotal: 888ms\tremaining: 249ms\n",
      "781:\tlearn: 0.1355093\ttotal: 888ms\tremaining: 248ms\n",
      "782:\tlearn: 0.1354212\ttotal: 889ms\tremaining: 246ms\n",
      "783:\tlearn: 0.1352269\ttotal: 890ms\tremaining: 245ms\n",
      "784:\tlearn: 0.1350864\ttotal: 891ms\tremaining: 244ms\n",
      "785:\tlearn: 0.1349791\ttotal: 891ms\tremaining: 243ms\n",
      "786:\tlearn: 0.1349530\ttotal: 892ms\tremaining: 241ms\n",
      "787:\tlearn: 0.1346817\ttotal: 893ms\tremaining: 240ms\n",
      "788:\tlearn: 0.1345395\ttotal: 894ms\tremaining: 239ms\n",
      "789:\tlearn: 0.1344147\ttotal: 895ms\tremaining: 238ms\n",
      "790:\tlearn: 0.1342791\ttotal: 895ms\tremaining: 237ms\n",
      "791:\tlearn: 0.1341896\ttotal: 896ms\tremaining: 235ms\n",
      "792:\tlearn: 0.1340659\ttotal: 897ms\tremaining: 234ms\n",
      "793:\tlearn: 0.1339301\ttotal: 898ms\tremaining: 233ms\n",
      "794:\tlearn: 0.1337165\ttotal: 899ms\tremaining: 232ms\n",
      "795:\tlearn: 0.1336322\ttotal: 899ms\tremaining: 230ms\n",
      "796:\tlearn: 0.1334556\ttotal: 900ms\tremaining: 229ms\n",
      "797:\tlearn: 0.1332550\ttotal: 901ms\tremaining: 228ms\n",
      "798:\tlearn: 0.1330375\ttotal: 902ms\tremaining: 227ms\n",
      "799:\tlearn: 0.1329078\ttotal: 903ms\tremaining: 226ms\n",
      "800:\tlearn: 0.1327460\ttotal: 904ms\tremaining: 225ms\n",
      "801:\tlearn: 0.1326160\ttotal: 905ms\tremaining: 223ms\n",
      "802:\tlearn: 0.1324963\ttotal: 905ms\tremaining: 222ms\n",
      "803:\tlearn: 0.1322169\ttotal: 907ms\tremaining: 221ms\n",
      "804:\tlearn: 0.1320703\ttotal: 908ms\tremaining: 220ms\n",
      "805:\tlearn: 0.1319126\ttotal: 909ms\tremaining: 219ms\n",
      "806:\tlearn: 0.1316860\ttotal: 910ms\tremaining: 218ms\n",
      "807:\tlearn: 0.1315914\ttotal: 911ms\tremaining: 217ms\n",
      "808:\tlearn: 0.1314595\ttotal: 912ms\tremaining: 215ms\n",
      "809:\tlearn: 0.1313921\ttotal: 913ms\tremaining: 214ms\n",
      "810:\tlearn: 0.1312429\ttotal: 914ms\tremaining: 213ms\n",
      "811:\tlearn: 0.1310889\ttotal: 915ms\tremaining: 212ms\n",
      "812:\tlearn: 0.1308891\ttotal: 916ms\tremaining: 211ms\n",
      "813:\tlearn: 0.1308240\ttotal: 917ms\tremaining: 210ms\n",
      "814:\tlearn: 0.1306140\ttotal: 918ms\tremaining: 208ms\n",
      "815:\tlearn: 0.1304747\ttotal: 919ms\tremaining: 207ms\n",
      "816:\tlearn: 0.1303288\ttotal: 920ms\tremaining: 206ms\n",
      "817:\tlearn: 0.1302676\ttotal: 921ms\tremaining: 205ms\n",
      "818:\tlearn: 0.1301082\ttotal: 923ms\tremaining: 204ms\n",
      "819:\tlearn: 0.1299501\ttotal: 924ms\tremaining: 203ms\n",
      "820:\tlearn: 0.1297018\ttotal: 926ms\tremaining: 202ms\n",
      "821:\tlearn: 0.1295799\ttotal: 928ms\tremaining: 201ms\n",
      "822:\tlearn: 0.1294786\ttotal: 929ms\tremaining: 200ms\n",
      "823:\tlearn: 0.1291687\ttotal: 931ms\tremaining: 199ms\n",
      "824:\tlearn: 0.1289933\ttotal: 932ms\tremaining: 198ms\n",
      "825:\tlearn: 0.1288743\ttotal: 933ms\tremaining: 196ms\n",
      "826:\tlearn: 0.1287744\ttotal: 934ms\tremaining: 195ms\n",
      "827:\tlearn: 0.1287104\ttotal: 935ms\tremaining: 194ms\n",
      "828:\tlearn: 0.1285398\ttotal: 936ms\tremaining: 193ms\n",
      "829:\tlearn: 0.1283956\ttotal: 937ms\tremaining: 192ms\n",
      "830:\tlearn: 0.1283173\ttotal: 938ms\tremaining: 191ms\n",
      "831:\tlearn: 0.1281398\ttotal: 939ms\tremaining: 190ms\n",
      "832:\tlearn: 0.1279183\ttotal: 940ms\tremaining: 189ms\n",
      "833:\tlearn: 0.1277190\ttotal: 941ms\tremaining: 187ms\n",
      "834:\tlearn: 0.1275274\ttotal: 943ms\tremaining: 186ms\n",
      "835:\tlearn: 0.1274047\ttotal: 944ms\tremaining: 185ms\n",
      "836:\tlearn: 0.1273229\ttotal: 945ms\tremaining: 184ms\n",
      "837:\tlearn: 0.1270773\ttotal: 946ms\tremaining: 183ms\n",
      "838:\tlearn: 0.1269880\ttotal: 947ms\tremaining: 182ms\n",
      "839:\tlearn: 0.1268490\ttotal: 948ms\tremaining: 181ms\n",
      "840:\tlearn: 0.1267795\ttotal: 950ms\tremaining: 180ms\n",
      "841:\tlearn: 0.1266015\ttotal: 951ms\tremaining: 178ms\n",
      "842:\tlearn: 0.1263748\ttotal: 952ms\tremaining: 177ms\n",
      "843:\tlearn: 0.1262461\ttotal: 953ms\tremaining: 176ms\n",
      "844:\tlearn: 0.1260461\ttotal: 954ms\tremaining: 175ms\n",
      "845:\tlearn: 0.1258716\ttotal: 955ms\tremaining: 174ms\n",
      "846:\tlearn: 0.1257180\ttotal: 956ms\tremaining: 173ms\n",
      "847:\tlearn: 0.1254682\ttotal: 957ms\tremaining: 172ms\n",
      "848:\tlearn: 0.1253213\ttotal: 958ms\tremaining: 170ms\n",
      "849:\tlearn: 0.1251052\ttotal: 959ms\tremaining: 169ms\n",
      "850:\tlearn: 0.1249508\ttotal: 961ms\tremaining: 168ms\n",
      "851:\tlearn: 0.1247602\ttotal: 962ms\tremaining: 167ms\n",
      "852:\tlearn: 0.1246495\ttotal: 963ms\tremaining: 166ms\n",
      "853:\tlearn: 0.1245380\ttotal: 964ms\tremaining: 165ms\n",
      "854:\tlearn: 0.1242942\ttotal: 965ms\tremaining: 164ms\n",
      "855:\tlearn: 0.1242096\ttotal: 966ms\tremaining: 162ms\n",
      "856:\tlearn: 0.1240640\ttotal: 967ms\tremaining: 161ms\n",
      "857:\tlearn: 0.1238950\ttotal: 968ms\tremaining: 160ms\n",
      "858:\tlearn: 0.1237673\ttotal: 969ms\tremaining: 159ms\n",
      "859:\tlearn: 0.1236049\ttotal: 970ms\tremaining: 158ms\n",
      "860:\tlearn: 0.1234278\ttotal: 971ms\tremaining: 157ms\n",
      "861:\tlearn: 0.1231940\ttotal: 972ms\tremaining: 156ms\n",
      "862:\tlearn: 0.1229599\ttotal: 973ms\tremaining: 154ms\n",
      "863:\tlearn: 0.1227599\ttotal: 974ms\tremaining: 153ms\n",
      "864:\tlearn: 0.1226383\ttotal: 974ms\tremaining: 152ms\n",
      "865:\tlearn: 0.1223825\ttotal: 975ms\tremaining: 151ms\n",
      "866:\tlearn: 0.1222308\ttotal: 976ms\tremaining: 150ms\n",
      "867:\tlearn: 0.1220650\ttotal: 977ms\tremaining: 149ms\n",
      "868:\tlearn: 0.1219437\ttotal: 978ms\tremaining: 147ms\n",
      "869:\tlearn: 0.1217743\ttotal: 979ms\tremaining: 146ms\n",
      "870:\tlearn: 0.1215581\ttotal: 980ms\tremaining: 145ms\n",
      "871:\tlearn: 0.1214852\ttotal: 981ms\tremaining: 144ms\n",
      "872:\tlearn: 0.1213211\ttotal: 982ms\tremaining: 143ms\n",
      "873:\tlearn: 0.1211584\ttotal: 983ms\tremaining: 142ms\n",
      "874:\tlearn: 0.1210047\ttotal: 983ms\tremaining: 140ms\n",
      "875:\tlearn: 0.1209480\ttotal: 985ms\tremaining: 139ms\n",
      "876:\tlearn: 0.1208898\ttotal: 986ms\tremaining: 138ms\n",
      "877:\tlearn: 0.1207458\ttotal: 987ms\tremaining: 137ms\n",
      "878:\tlearn: 0.1205595\ttotal: 988ms\tremaining: 136ms\n",
      "879:\tlearn: 0.1204994\ttotal: 988ms\tremaining: 135ms\n",
      "880:\tlearn: 0.1204301\ttotal: 989ms\tremaining: 134ms\n",
      "881:\tlearn: 0.1203293\ttotal: 990ms\tremaining: 133ms\n",
      "882:\tlearn: 0.1201804\ttotal: 991ms\tremaining: 131ms\n",
      "883:\tlearn: 0.1200810\ttotal: 992ms\tremaining: 130ms\n",
      "884:\tlearn: 0.1199251\ttotal: 993ms\tremaining: 129ms\n",
      "885:\tlearn: 0.1197290\ttotal: 994ms\tremaining: 128ms\n",
      "886:\tlearn: 0.1195540\ttotal: 995ms\tremaining: 127ms\n",
      "887:\tlearn: 0.1193345\ttotal: 996ms\tremaining: 126ms\n",
      "888:\tlearn: 0.1192222\ttotal: 997ms\tremaining: 125ms\n",
      "889:\tlearn: 0.1190736\ttotal: 999ms\tremaining: 123ms\n",
      "890:\tlearn: 0.1189057\ttotal: 999ms\tremaining: 122ms\n",
      "891:\tlearn: 0.1187541\ttotal: 1s\tremaining: 121ms\n",
      "892:\tlearn: 0.1185442\ttotal: 1s\tremaining: 120ms\n",
      "893:\tlearn: 0.1183261\ttotal: 1s\tremaining: 119ms\n",
      "894:\tlearn: 0.1181665\ttotal: 1s\tremaining: 118ms\n"
     ]
    },
    {
     "name": "stdout",
     "output_type": "stream",
     "text": [
      "895:\tlearn: 0.1179984\ttotal: 1s\tremaining: 117ms\n",
      "896:\tlearn: 0.1178642\ttotal: 1s\tremaining: 115ms\n",
      "897:\tlearn: 0.1176469\ttotal: 1.01s\tremaining: 114ms\n",
      "898:\tlearn: 0.1175570\ttotal: 1.01s\tremaining: 113ms\n",
      "899:\tlearn: 0.1173799\ttotal: 1.01s\tremaining: 112ms\n",
      "900:\tlearn: 0.1172541\ttotal: 1.01s\tremaining: 111ms\n",
      "901:\tlearn: 0.1171054\ttotal: 1.01s\tremaining: 110ms\n",
      "902:\tlearn: 0.1169362\ttotal: 1.01s\tremaining: 109ms\n",
      "903:\tlearn: 0.1169104\ttotal: 1.01s\tremaining: 107ms\n",
      "904:\tlearn: 0.1167620\ttotal: 1.01s\tremaining: 106ms\n",
      "905:\tlearn: 0.1166340\ttotal: 1.01s\tremaining: 105ms\n",
      "906:\tlearn: 0.1164922\ttotal: 1.01s\tremaining: 104ms\n",
      "907:\tlearn: 0.1163724\ttotal: 1.01s\tremaining: 103ms\n",
      "908:\tlearn: 0.1161237\ttotal: 1.02s\tremaining: 102ms\n",
      "909:\tlearn: 0.1159513\ttotal: 1.02s\tremaining: 101ms\n",
      "910:\tlearn: 0.1158308\ttotal: 1.02s\tremaining: 99.6ms\n",
      "911:\tlearn: 0.1157402\ttotal: 1.02s\tremaining: 98.4ms\n",
      "912:\tlearn: 0.1155383\ttotal: 1.02s\tremaining: 97.3ms\n",
      "913:\tlearn: 0.1153368\ttotal: 1.02s\tremaining: 96.2ms\n",
      "914:\tlearn: 0.1151231\ttotal: 1.02s\tremaining: 95.1ms\n",
      "915:\tlearn: 0.1149028\ttotal: 1.02s\tremaining: 94ms\n",
      "916:\tlearn: 0.1147922\ttotal: 1.02s\tremaining: 92.8ms\n",
      "917:\tlearn: 0.1147332\ttotal: 1.03s\tremaining: 91.7ms\n",
      "918:\tlearn: 0.1145390\ttotal: 1.03s\tremaining: 90.6ms\n",
      "919:\tlearn: 0.1144419\ttotal: 1.03s\tremaining: 89.4ms\n",
      "920:\tlearn: 0.1143226\ttotal: 1.03s\tremaining: 88.3ms\n",
      "921:\tlearn: 0.1141744\ttotal: 1.03s\tremaining: 87.2ms\n",
      "922:\tlearn: 0.1140943\ttotal: 1.03s\tremaining: 86ms\n",
      "923:\tlearn: 0.1139256\ttotal: 1.03s\tremaining: 84.9ms\n",
      "924:\tlearn: 0.1138057\ttotal: 1.03s\tremaining: 83.7ms\n",
      "925:\tlearn: 0.1136555\ttotal: 1.03s\tremaining: 82.6ms\n",
      "926:\tlearn: 0.1135080\ttotal: 1.03s\tremaining: 81.5ms\n",
      "927:\tlearn: 0.1133170\ttotal: 1.03s\tremaining: 80.3ms\n",
      "928:\tlearn: 0.1131790\ttotal: 1.04s\tremaining: 79.2ms\n",
      "929:\tlearn: 0.1130606\ttotal: 1.04s\tremaining: 78.1ms\n",
      "930:\tlearn: 0.1129714\ttotal: 1.04s\tremaining: 76.9ms\n",
      "931:\tlearn: 0.1127850\ttotal: 1.04s\tremaining: 75.8ms\n",
      "932:\tlearn: 0.1125986\ttotal: 1.04s\tremaining: 74.7ms\n",
      "933:\tlearn: 0.1124275\ttotal: 1.04s\tremaining: 73.6ms\n",
      "934:\tlearn: 0.1123912\ttotal: 1.04s\tremaining: 72.4ms\n",
      "935:\tlearn: 0.1121810\ttotal: 1.04s\tremaining: 71.3ms\n",
      "936:\tlearn: 0.1121126\ttotal: 1.04s\tremaining: 70.2ms\n",
      "937:\tlearn: 0.1120159\ttotal: 1.04s\tremaining: 69.1ms\n",
      "938:\tlearn: 0.1119259\ttotal: 1.04s\tremaining: 67.9ms\n",
      "939:\tlearn: 0.1117579\ttotal: 1.05s\tremaining: 66.8ms\n",
      "940:\tlearn: 0.1115587\ttotal: 1.05s\tremaining: 65.7ms\n",
      "941:\tlearn: 0.1114770\ttotal: 1.05s\tremaining: 64.6ms\n",
      "942:\tlearn: 0.1113020\ttotal: 1.05s\tremaining: 63.4ms\n",
      "943:\tlearn: 0.1111500\ttotal: 1.05s\tremaining: 62.3ms\n",
      "944:\tlearn: 0.1110252\ttotal: 1.05s\tremaining: 61.2ms\n",
      "945:\tlearn: 0.1109290\ttotal: 1.05s\tremaining: 60.1ms\n",
      "946:\tlearn: 0.1107359\ttotal: 1.05s\tremaining: 58.9ms\n",
      "947:\tlearn: 0.1105984\ttotal: 1.05s\tremaining: 57.8ms\n",
      "948:\tlearn: 0.1104845\ttotal: 1.05s\tremaining: 56.7ms\n",
      "949:\tlearn: 0.1104052\ttotal: 1.05s\tremaining: 55.5ms\n",
      "950:\tlearn: 0.1102559\ttotal: 1.06s\tremaining: 54.4ms\n",
      "951:\tlearn: 0.1100873\ttotal: 1.06s\tremaining: 53.3ms\n",
      "952:\tlearn: 0.1099286\ttotal: 1.06s\tremaining: 52.2ms\n",
      "953:\tlearn: 0.1098215\ttotal: 1.06s\tremaining: 51ms\n",
      "954:\tlearn: 0.1097239\ttotal: 1.06s\tremaining: 49.9ms\n",
      "955:\tlearn: 0.1096042\ttotal: 1.06s\tremaining: 48.8ms\n",
      "956:\tlearn: 0.1095729\ttotal: 1.06s\tremaining: 47.7ms\n",
      "957:\tlearn: 0.1094597\ttotal: 1.06s\tremaining: 46.5ms\n",
      "958:\tlearn: 0.1093292\ttotal: 1.06s\tremaining: 45.4ms\n",
      "959:\tlearn: 0.1092463\ttotal: 1.06s\tremaining: 44.3ms\n",
      "960:\tlearn: 0.1090862\ttotal: 1.06s\tremaining: 43.2ms\n",
      "961:\tlearn: 0.1089447\ttotal: 1.06s\tremaining: 42.1ms\n",
      "962:\tlearn: 0.1088204\ttotal: 1.06s\tremaining: 40.9ms\n",
      "963:\tlearn: 0.1087206\ttotal: 1.07s\tremaining: 39.8ms\n",
      "964:\tlearn: 0.1085813\ttotal: 1.07s\tremaining: 38.7ms\n",
      "965:\tlearn: 0.1083611\ttotal: 1.07s\tremaining: 37.6ms\n",
      "966:\tlearn: 0.1081917\ttotal: 1.07s\tremaining: 36.5ms\n",
      "967:\tlearn: 0.1081236\ttotal: 1.07s\tremaining: 35.4ms\n",
      "968:\tlearn: 0.1080439\ttotal: 1.07s\tremaining: 34.2ms\n",
      "969:\tlearn: 0.1079747\ttotal: 1.07s\tremaining: 33.1ms\n",
      "970:\tlearn: 0.1078484\ttotal: 1.07s\tremaining: 32ms\n",
      "971:\tlearn: 0.1077310\ttotal: 1.07s\tremaining: 30.9ms\n",
      "972:\tlearn: 0.1075846\ttotal: 1.07s\tremaining: 29.8ms\n",
      "973:\tlearn: 0.1073711\ttotal: 1.07s\tremaining: 28.7ms\n",
      "974:\tlearn: 0.1071966\ttotal: 1.07s\tremaining: 27.6ms\n",
      "975:\tlearn: 0.1070002\ttotal: 1.07s\tremaining: 26.5ms\n",
      "976:\tlearn: 0.1067958\ttotal: 1.08s\tremaining: 25.3ms\n",
      "977:\tlearn: 0.1067609\ttotal: 1.08s\tremaining: 24.2ms\n",
      "978:\tlearn: 0.1065958\ttotal: 1.08s\tremaining: 23.1ms\n",
      "979:\tlearn: 0.1065210\ttotal: 1.08s\tremaining: 22ms\n",
      "980:\tlearn: 0.1063216\ttotal: 1.08s\tremaining: 20.9ms\n",
      "981:\tlearn: 0.1061674\ttotal: 1.08s\tremaining: 19.8ms\n",
      "982:\tlearn: 0.1061302\ttotal: 1.08s\tremaining: 18.7ms\n",
      "983:\tlearn: 0.1059789\ttotal: 1.08s\tremaining: 17.6ms\n",
      "984:\tlearn: 0.1058928\ttotal: 1.08s\tremaining: 16.5ms\n",
      "985:\tlearn: 0.1057357\ttotal: 1.08s\tremaining: 15.4ms\n",
      "986:\tlearn: 0.1055889\ttotal: 1.08s\tremaining: 14.3ms\n",
      "987:\tlearn: 0.1054212\ttotal: 1.08s\tremaining: 13.2ms\n",
      "988:\tlearn: 0.1051880\ttotal: 1.08s\tremaining: 12.1ms\n",
      "989:\tlearn: 0.1050839\ttotal: 1.09s\tremaining: 11ms\n",
      "990:\tlearn: 0.1049724\ttotal: 1.09s\tremaining: 9.88ms\n",
      "991:\tlearn: 0.1049319\ttotal: 1.09s\tremaining: 8.78ms\n",
      "992:\tlearn: 0.1047727\ttotal: 1.09s\tremaining: 7.68ms\n",
      "993:\tlearn: 0.1046847\ttotal: 1.09s\tremaining: 6.58ms\n",
      "994:\tlearn: 0.1045725\ttotal: 1.09s\tremaining: 5.48ms\n",
      "995:\tlearn: 0.1045055\ttotal: 1.09s\tremaining: 4.38ms\n",
      "996:\tlearn: 0.1043058\ttotal: 1.09s\tremaining: 3.29ms\n",
      "997:\tlearn: 0.1041941\ttotal: 1.09s\tremaining: 2.19ms\n",
      "998:\tlearn: 0.1040775\ttotal: 1.09s\tremaining: 1.09ms\n",
      "999:\tlearn: 0.1040427\ttotal: 1.09s\tremaining: 0us\n"
     ]
    },
    {
     "data": {
      "text/plain": [
       "0.8360655737704918"
      ]
     },
     "execution_count": 64,
     "metadata": {},
     "output_type": "execute_result"
    }
   ],
   "source": [
    "# Testing model on existing train set\n",
    "\n",
    "cbc = CatBoostClassifier()\n",
    "\n",
    "cbc.fit(X_train, y_train)"
   ]
  },
  {
   "cell_type": "code",
   "execution_count": 66,
   "id": "amateur-venue",
   "metadata": {},
   "outputs": [
    {
     "data": {
      "text/plain": [
       "(0.8360655737704918, 0.8852459016393442)"
      ]
     },
     "execution_count": 66,
     "metadata": {},
     "output_type": "execute_result"
    }
   ],
   "source": [
    "# Comparing CatBoost to LogisticRegression\n",
    "\n",
    "cbc.score(X_test, y_test), clf.score(X_test, y_test)"
   ]
  },
  {
   "cell_type": "code",
   "execution_count": 70,
   "id": "small-label",
   "metadata": {
    "scrolled": true
   },
   "outputs": [
    {
     "name": "stdout",
     "output_type": "stream",
     "text": [
      "Fitting 5 folds for each of 1200 candidates, totalling 6000 fits\n"
     ]
    },
    {
     "name": "stderr",
     "output_type": "stream",
     "text": [
      "[Parallel(n_jobs=4)]: Using backend LokyBackend with 4 concurrent workers.\n",
      "[Parallel(n_jobs=4)]: Done  80 tasks      | elapsed:    1.5s\n",
      "[Parallel(n_jobs=4)]: Done 680 tasks      | elapsed:   11.8s\n",
      "[Parallel(n_jobs=4)]: Done 1680 tasks      | elapsed:   29.2s\n",
      "[Parallel(n_jobs=4)]: Done 3080 tasks      | elapsed:   55.0s\n",
      "[Parallel(n_jobs=4)]: Done 4880 tasks      | elapsed:  1.6min\n",
      "[Parallel(n_jobs=4)]: Done 5993 out of 6000 | elapsed:  2.2min remaining:    0.1s\n",
      "[Parallel(n_jobs=4)]: Done 6000 out of 6000 | elapsed:  2.2min finished\n"
     ]
    },
    {
     "name": "stdout",
     "output_type": "stream",
     "text": [
      "0:\tlearn: 0.6921670\ttotal: 2.81ms\tremaining: 53.3ms\n",
      "1:\tlearn: 0.6908733\ttotal: 4.97ms\tremaining: 44.8ms\n",
      "2:\tlearn: 0.6895261\ttotal: 6.18ms\tremaining: 35ms\n",
      "3:\tlearn: 0.6868067\ttotal: 6.63ms\tremaining: 26.5ms\n",
      "4:\tlearn: 0.6832107\ttotal: 7ms\tremaining: 21ms\n",
      "5:\tlearn: 0.6826539\ttotal: 9.01ms\tremaining: 21ms\n",
      "6:\tlearn: 0.6805216\ttotal: 9.85ms\tremaining: 18.3ms\n",
      "7:\tlearn: 0.6799986\ttotal: 11.8ms\tremaining: 17.8ms\n",
      "8:\tlearn: 0.6790204\ttotal: 13.8ms\tremaining: 16.9ms\n",
      "9:\tlearn: 0.6764540\ttotal: 15ms\tremaining: 15ms\n",
      "10:\tlearn: 0.6756655\ttotal: 17.5ms\tremaining: 14.3ms\n",
      "11:\tlearn: 0.6746564\ttotal: 19.8ms\tremaining: 13.2ms\n",
      "12:\tlearn: 0.6736052\ttotal: 21.9ms\tremaining: 11.8ms\n",
      "13:\tlearn: 0.6729731\ttotal: 24.3ms\tremaining: 10.4ms\n",
      "14:\tlearn: 0.6718489\ttotal: 25.6ms\tremaining: 8.53ms\n",
      "15:\tlearn: 0.6690894\ttotal: 26.3ms\tremaining: 6.59ms\n",
      "16:\tlearn: 0.6682405\ttotal: 28.8ms\tremaining: 5.08ms\n",
      "17:\tlearn: 0.6667433\ttotal: 29.4ms\tremaining: 3.27ms\n",
      "18:\tlearn: 0.6656714\ttotal: 31.9ms\tremaining: 1.68ms\n",
      "19:\tlearn: 0.6645407\ttotal: 34.1ms\tremaining: 0us\n"
     ]
    },
    {
     "data": {
      "text/plain": [
       "GridSearchCV(cv=5,\n",
       "             estimator=<catboost.core.CatBoostClassifier object at 0x00000267E80ADD30>,\n",
       "             n_jobs=4,\n",
       "             param_grid={'depth': array([ 1,  2,  3,  4,  5,  6,  7,  8,  9, 10]),\n",
       "                         'iterations': [1, 5, 10, 20],\n",
       "                         'l2_leaf_reg': array([ 1,  2,  3,  4,  5,  6,  7,  8,  9, 10, 11, 12, 13, 14, 15, 16, 17,\n",
       "       18, 19, 20, 21, 22, 23, 24, 25, 26, 27, 28, 29, 30])},\n",
       "             verbose=True)"
      ]
     },
     "execution_count": 70,
     "metadata": {},
     "output_type": "execute_result"
    }
   ],
   "source": [
    "# Finding best parameters for CatBoostClassifier using GridSearchCV\n",
    "\n",
    "cbc_grid = {'iterations': [1,5,10,20],\n",
    "            'depth': np.arange(1,11,1),\n",
    "            'l2_leaf_reg': np.arange(1,31,1)}\n",
    "\n",
    "gs_cbc = GridSearchCV(CatBoostClassifier(),\n",
    "                      param_grid=cbc_grid,\n",
    "                      n_jobs=4,\n",
    "                      verbose=True,\n",
    "                      cv=5)\n",
    "\n",
    "gs_cbc.fit(X_train, y_train)"
   ]
  },
  {
   "cell_type": "code",
   "execution_count": 72,
   "id": "patent-summary",
   "metadata": {},
   "outputs": [
    {
     "data": {
      "text/plain": [
       "{'depth': 9, 'iterations': 20, 'l2_leaf_reg': 28}"
      ]
     },
     "execution_count": 72,
     "metadata": {},
     "output_type": "execute_result"
    }
   ],
   "source": [
    "gs_cbc.best_params_"
   ]
  },
  {
   "cell_type": "code",
   "execution_count": 74,
   "id": "quick-hormone",
   "metadata": {},
   "outputs": [
    {
     "name": "stdout",
     "output_type": "stream",
     "text": [
      "0:\tlearn: 0.6921670\ttotal: 3.16ms\tremaining: 60ms\n",
      "1:\tlearn: 0.6908733\ttotal: 5.61ms\tremaining: 50.5ms\n",
      "2:\tlearn: 0.6895261\ttotal: 7.08ms\tremaining: 40.1ms\n",
      "3:\tlearn: 0.6868067\ttotal: 7.65ms\tremaining: 30.6ms\n",
      "4:\tlearn: 0.6832107\ttotal: 8.29ms\tremaining: 24.9ms\n",
      "5:\tlearn: 0.6826539\ttotal: 10.6ms\tremaining: 24.7ms\n",
      "6:\tlearn: 0.6805216\ttotal: 11.7ms\tremaining: 21.7ms\n",
      "7:\tlearn: 0.6799986\ttotal: 14.3ms\tremaining: 21.4ms\n",
      "8:\tlearn: 0.6790204\ttotal: 16.6ms\tremaining: 20.2ms\n",
      "9:\tlearn: 0.6764540\ttotal: 17.8ms\tremaining: 17.8ms\n",
      "10:\tlearn: 0.6756655\ttotal: 19.9ms\tremaining: 16.3ms\n",
      "11:\tlearn: 0.6746564\ttotal: 22ms\tremaining: 14.7ms\n",
      "12:\tlearn: 0.6736052\ttotal: 24.1ms\tremaining: 13ms\n",
      "13:\tlearn: 0.6729731\ttotal: 26.2ms\tremaining: 11.2ms\n",
      "14:\tlearn: 0.6718489\ttotal: 27.5ms\tremaining: 9.17ms\n",
      "15:\tlearn: 0.6690894\ttotal: 28ms\tremaining: 7ms\n",
      "16:\tlearn: 0.6682405\ttotal: 30.1ms\tremaining: 5.32ms\n",
      "17:\tlearn: 0.6667433\ttotal: 30.8ms\tremaining: 3.42ms\n",
      "18:\tlearn: 0.6656714\ttotal: 32.9ms\tremaining: 1.73ms\n",
      "19:\tlearn: 0.6645407\ttotal: 35.1ms\tremaining: 0us\n"
     ]
    },
    {
     "data": {
      "text/plain": [
       "<catboost.core.CatBoostClassifier at 0x267e7a1f430>"
      ]
     },
     "execution_count": 74,
     "metadata": {},
     "output_type": "execute_result"
    }
   ],
   "source": [
    "# Fit instance of CatBoostClassifier with best params\n",
    "\n",
    "cbc_best_params = CatBoostClassifier(depth=9, iterations=20, l2_leaf_reg=28)\n",
    "\n",
    "cbc_best_params.fit(X_train, y_train)"
   ]
  },
  {
   "cell_type": "code",
   "execution_count": 77,
   "id": "polished-scroll",
   "metadata": {},
   "outputs": [
    {
     "data": {
      "text/plain": [
       "0.8852459016393442"
      ]
     },
     "execution_count": 77,
     "metadata": {},
     "output_type": "execute_result"
    }
   ],
   "source": [
    "# Evaluating new model\n",
    "\n",
    "cbc_best_params.score(X_test, y_test)"
   ]
  },
  {
   "cell_type": "code",
   "execution_count": 78,
   "id": "medical-practitioner",
   "metadata": {},
   "outputs": [
    {
     "data": {
      "text/plain": [
       "0.8852459016393442"
      ]
     },
     "execution_count": 78,
     "metadata": {},
     "output_type": "execute_result"
    }
   ],
   "source": [
    "# Our old model\n",
    "\n",
    "clf.score(X_test, y_test)"
   ]
  },
  {
   "cell_type": "code",
   "execution_count": 79,
   "id": "ceramic-declaration",
   "metadata": {},
   "outputs": [
    {
     "name": "stdout",
     "output_type": "stream",
     "text": [
      "0:\tlearn: 0.6920739\ttotal: 3.84ms\tremaining: 73ms\n",
      "1:\tlearn: 0.6909060\ttotal: 6.27ms\tremaining: 56.5ms\n",
      "2:\tlearn: 0.6900858\ttotal: 8.59ms\tremaining: 48.7ms\n",
      "3:\tlearn: 0.6892237\ttotal: 10.7ms\tremaining: 42.7ms\n",
      "4:\tlearn: 0.6865240\ttotal: 12ms\tremaining: 35.9ms\n",
      "5:\tlearn: 0.6858552\ttotal: 14.2ms\tremaining: 33.1ms\n",
      "6:\tlearn: 0.6851690\ttotal: 16.4ms\tremaining: 30.4ms\n",
      "7:\tlearn: 0.6842559\ttotal: 18.9ms\tremaining: 28.4ms\n",
      "8:\tlearn: 0.6815097\ttotal: 20.1ms\tremaining: 24.6ms\n",
      "9:\tlearn: 0.6805085\ttotal: 22.7ms\tremaining: 22.7ms\n",
      "10:\tlearn: 0.6787405\ttotal: 23.4ms\tremaining: 19.1ms\n",
      "11:\tlearn: 0.6764557\ttotal: 23.9ms\tremaining: 15.9ms\n",
      "12:\tlearn: 0.6757094\ttotal: 26.3ms\tremaining: 14.2ms\n",
      "13:\tlearn: 0.6740962\ttotal: 27ms\tremaining: 11.6ms\n",
      "14:\tlearn: 0.6729500\ttotal: 29.4ms\tremaining: 9.78ms\n",
      "15:\tlearn: 0.6720102\ttotal: 31.7ms\tremaining: 7.92ms\n",
      "16:\tlearn: 0.6705202\ttotal: 33.1ms\tremaining: 5.84ms\n",
      "17:\tlearn: 0.6674219\ttotal: 33.6ms\tremaining: 3.74ms\n",
      "18:\tlearn: 0.6656453\ttotal: 35ms\tremaining: 1.84ms\n",
      "19:\tlearn: 0.6631964\ttotal: 35.6ms\tremaining: 0us\n",
      "0:\tlearn: 0.6922004\ttotal: 3.85ms\tremaining: 73.2ms\n",
      "1:\tlearn: 0.6909525\ttotal: 5.86ms\tremaining: 52.8ms\n",
      "2:\tlearn: 0.6901680\ttotal: 7.85ms\tremaining: 44.5ms\n",
      "3:\tlearn: 0.6884175\ttotal: 9.12ms\tremaining: 36.5ms\n",
      "4:\tlearn: 0.6848003\ttotal: 9.61ms\tremaining: 28.8ms\n",
      "5:\tlearn: 0.6842020\ttotal: 11.7ms\tremaining: 27.3ms\n",
      "6:\tlearn: 0.6808810\ttotal: 12.6ms\tremaining: 23.5ms\n",
      "7:\tlearn: 0.6797382\ttotal: 14.8ms\tremaining: 22.1ms\n",
      "8:\tlearn: 0.6791103\ttotal: 16.9ms\tremaining: 20.7ms\n",
      "9:\tlearn: 0.6766472\ttotal: 17.5ms\tremaining: 17.5ms\n",
      "10:\tlearn: 0.6757510\ttotal: 19.5ms\tremaining: 16ms\n",
      "11:\tlearn: 0.6750415\ttotal: 21.6ms\tremaining: 14.4ms\n",
      "12:\tlearn: 0.6743634\ttotal: 23.6ms\tremaining: 12.7ms\n",
      "13:\tlearn: 0.6735964\ttotal: 25.6ms\tremaining: 11ms\n",
      "14:\tlearn: 0.6720105\ttotal: 26.3ms\tremaining: 8.75ms\n",
      "15:\tlearn: 0.6713886\ttotal: 28.3ms\tremaining: 7.08ms\n",
      "16:\tlearn: 0.6695611\ttotal: 29.5ms\tremaining: 5.21ms\n",
      "17:\tlearn: 0.6683151\ttotal: 31.5ms\tremaining: 3.5ms\n",
      "18:\tlearn: 0.6670515\ttotal: 33.5ms\tremaining: 1.76ms\n",
      "19:\tlearn: 0.6643251\ttotal: 34ms\tremaining: 0us\n",
      "0:\tlearn: 0.6922272\ttotal: 2.46ms\tremaining: 46.8ms\n",
      "1:\tlearn: 0.6910127\ttotal: 4.52ms\tremaining: 40.6ms\n",
      "2:\tlearn: 0.6892977\ttotal: 5.76ms\tremaining: 32.6ms\n",
      "3:\tlearn: 0.6881811\ttotal: 7.83ms\tremaining: 31.3ms\n",
      "4:\tlearn: 0.6860176\ttotal: 9.13ms\tremaining: 27.4ms\n",
      "5:\tlearn: 0.6854402\ttotal: 11.3ms\tremaining: 26.3ms\n",
      "6:\tlearn: 0.6845062\ttotal: 13.3ms\tremaining: 24.7ms\n",
      "7:\tlearn: 0.6834696\ttotal: 15.5ms\tremaining: 23.3ms\n",
      "8:\tlearn: 0.6828285\ttotal: 17.5ms\tremaining: 21.4ms\n",
      "9:\tlearn: 0.6792336\ttotal: 18.2ms\tremaining: 18.2ms\n",
      "10:\tlearn: 0.6787226\ttotal: 20.1ms\tremaining: 16.5ms\n",
      "11:\tlearn: 0.6777108\ttotal: 22.2ms\tremaining: 14.8ms\n",
      "12:\tlearn: 0.6771207\ttotal: 24.3ms\tremaining: 13.1ms\n",
      "13:\tlearn: 0.6764293\ttotal: 26.3ms\tremaining: 11.3ms\n",
      "14:\tlearn: 0.6728765\ttotal: 26.9ms\tremaining: 8.97ms\n",
      "15:\tlearn: 0.6717391\ttotal: 28.9ms\tremaining: 7.24ms\n",
      "16:\tlearn: 0.6704558\ttotal: 30.9ms\tremaining: 5.46ms\n",
      "17:\tlearn: 0.6685112\ttotal: 31.6ms\tremaining: 3.51ms\n",
      "18:\tlearn: 0.6650383\ttotal: 32.4ms\tremaining: 1.71ms\n",
      "19:\tlearn: 0.6636638\ttotal: 33.6ms\tremaining: 0us\n",
      "0:\tlearn: 0.6922355\ttotal: 2.45ms\tremaining: 46.5ms\n",
      "1:\tlearn: 0.6914801\ttotal: 5.2ms\tremaining: 46.8ms\n",
      "2:\tlearn: 0.6907319\ttotal: 7.37ms\tremaining: 41.8ms\n",
      "3:\tlearn: 0.6885922\ttotal: 8.92ms\tremaining: 35.7ms\n",
      "4:\tlearn: 0.6845981\ttotal: 9.52ms\tremaining: 28.5ms\n",
      "5:\tlearn: 0.6828563\ttotal: 11.1ms\tremaining: 25.9ms\n",
      "6:\tlearn: 0.6810235\ttotal: 12.7ms\tremaining: 23.6ms\n",
      "7:\tlearn: 0.6799128\ttotal: 14.9ms\tremaining: 22.4ms\n",
      "8:\tlearn: 0.6788416\ttotal: 17.3ms\tremaining: 21.1ms\n",
      "9:\tlearn: 0.6745195\ttotal: 17.7ms\tremaining: 17.7ms\n",
      "10:\tlearn: 0.6738143\ttotal: 19.9ms\tremaining: 16.3ms\n",
      "11:\tlearn: 0.6719174\ttotal: 22.2ms\tremaining: 14.8ms\n",
      "12:\tlearn: 0.6693179\ttotal: 24.5ms\tremaining: 13.2ms\n",
      "13:\tlearn: 0.6679586\ttotal: 26.9ms\tremaining: 11.5ms\n",
      "14:\tlearn: 0.6661713\ttotal: 28.3ms\tremaining: 9.44ms\n",
      "15:\tlearn: 0.6632570\ttotal: 28.9ms\tremaining: 7.22ms\n",
      "16:\tlearn: 0.6620662\ttotal: 31.4ms\tremaining: 5.55ms\n",
      "17:\tlearn: 0.6602357\ttotal: 32.1ms\tremaining: 3.57ms\n",
      "18:\tlearn: 0.6587619\ttotal: 32.9ms\tremaining: 1.73ms\n",
      "19:\tlearn: 0.6568550\ttotal: 34.9ms\tremaining: 0us\n",
      "0:\tlearn: 0.6916731\ttotal: 2.55ms\tremaining: 48.5ms\n",
      "1:\tlearn: 0.6897824\ttotal: 4.78ms\tremaining: 43.1ms\n",
      "2:\tlearn: 0.6866829\ttotal: 5.49ms\tremaining: 31.1ms\n",
      "3:\tlearn: 0.6854619\ttotal: 7.55ms\tremaining: 30.2ms\n",
      "4:\tlearn: 0.6820431\ttotal: 8.01ms\tremaining: 24ms\n",
      "5:\tlearn: 0.6795469\ttotal: 8.91ms\tremaining: 20.8ms\n",
      "6:\tlearn: 0.6782638\ttotal: 9.74ms\tremaining: 18.1ms\n",
      "7:\tlearn: 0.6771793\ttotal: 11.8ms\tremaining: 17.7ms\n",
      "8:\tlearn: 0.6762267\ttotal: 13.8ms\tremaining: 16.9ms\n",
      "9:\tlearn: 0.6742731\ttotal: 15ms\tremaining: 15ms\n",
      "10:\tlearn: 0.6737234\ttotal: 16.9ms\tremaining: 13.9ms\n",
      "11:\tlearn: 0.6724167\ttotal: 18.9ms\tremaining: 12.6ms\n",
      "12:\tlearn: 0.6701070\ttotal: 20.1ms\tremaining: 10.8ms\n",
      "13:\tlearn: 0.6668648\ttotal: 20.5ms\tremaining: 8.8ms\n",
      "14:\tlearn: 0.6653161\ttotal: 21.3ms\tremaining: 7.11ms\n",
      "15:\tlearn: 0.6616974\ttotal: 21.8ms\tremaining: 5.45ms\n",
      "16:\tlearn: 0.6604848\ttotal: 23.1ms\tremaining: 4.07ms\n",
      "17:\tlearn: 0.6600176\ttotal: 25ms\tremaining: 2.78ms\n",
      "18:\tlearn: 0.6575764\ttotal: 25.5ms\tremaining: 1.34ms\n",
      "19:\tlearn: 0.6564029\ttotal: 26.3ms\tremaining: 0us\n"
     ]
    },
    {
     "data": {
      "text/plain": [
       "0.8180327868852458"
      ]
     },
     "execution_count": 79,
     "metadata": {},
     "output_type": "execute_result"
    }
   ],
   "source": [
    "# Accuracy of our model with cross_val_score()\n",
    "\n",
    "cv_cbc = np.mean(cross_val_score(cbc_best_params, X, y, cv=5, scoring='accuracy'))\n",
    "\n",
    "cv_cbc"
   ]
  },
  {
   "cell_type": "markdown",
   "id": "challenging-amazon",
   "metadata": {},
   "source": [
    "82% is not desired accuracy"
   ]
  },
  {
   "cell_type": "markdown",
   "id": "southwest-going",
   "metadata": {},
   "source": [
    "### Maybe using more parameters will improve our model ?"
   ]
  },
  {
   "cell_type": "code",
   "execution_count": 87,
   "id": "prostate-horizontal",
   "metadata": {},
   "outputs": [
    {
     "name": "stdout",
     "output_type": "stream",
     "text": [
      "Fitting 5 folds for each of 630 candidates, totalling 3150 fits\n"
     ]
    },
    {
     "name": "stderr",
     "output_type": "stream",
     "text": [
      "[Parallel(n_jobs=4)]: Using backend LokyBackend with 4 concurrent workers.\n",
      "[Parallel(n_jobs=4)]: Done  42 tasks      | elapsed:    2.1s\n",
      "[Parallel(n_jobs=4)]: Done 192 tasks      | elapsed:    8.2s\n",
      "[Parallel(n_jobs=4)]: Done 442 tasks      | elapsed:   17.9s\n",
      "[Parallel(n_jobs=4)]: Done 792 tasks      | elapsed:   32.2s\n",
      "[Parallel(n_jobs=4)]: Done 1242 tasks      | elapsed:   49.4s\n",
      "[Parallel(n_jobs=4)]: Done 1792 tasks      | elapsed:  1.2min\n",
      "[Parallel(n_jobs=4)]: Done 2442 tasks      | elapsed:  1.6min\n"
     ]
    },
    {
     "name": "stdout",
     "output_type": "stream",
     "text": [
      "0:\tlearn: 0.6914656\ttotal: 2.51ms\tremaining: 57.7ms\n",
      "1:\tlearn: 0.6893282\ttotal: 3.39ms\tremaining: 37.3ms\n",
      "2:\tlearn: 0.6884998\ttotal: 4.72ms\tremaining: 33ms\n",
      "3:\tlearn: 0.6859942\ttotal: 5.52ms\tremaining: 27.6ms\n",
      "4:\tlearn: 0.6839277\ttotal: 6.76ms\tremaining: 25.7ms\n",
      "5:\tlearn: 0.6818913\ttotal: 7.55ms\tremaining: 22.7ms\n",
      "6:\tlearn: 0.6777581\ttotal: 7.85ms\tremaining: 19.1ms\n",
      "7:\tlearn: 0.6769729\ttotal: 9.91ms\tremaining: 19.8ms\n",
      "8:\tlearn: 0.6760169\ttotal: 12ms\tremaining: 20ms\n",
      "9:\tlearn: 0.6752962\ttotal: 14.3ms\tremaining: 20ms\n",
      "10:\tlearn: 0.6719493\ttotal: 14.8ms\tremaining: 17.5ms\n",
      "11:\tlearn: 0.6709675\ttotal: 16.8ms\tremaining: 16.8ms\n",
      "12:\tlearn: 0.6679732\ttotal: 17.3ms\tremaining: 14.6ms\n",
      "13:\tlearn: 0.6669059\ttotal: 19.7ms\tremaining: 14.1ms\n",
      "14:\tlearn: 0.6658173\ttotal: 22.3ms\tremaining: 13.4ms\n",
      "15:\tlearn: 0.6644216\ttotal: 23.6ms\tremaining: 11.8ms\n",
      "16:\tlearn: 0.6637175\ttotal: 25.7ms\tremaining: 10.6ms\n",
      "17:\tlearn: 0.6624676\ttotal: 28ms\tremaining: 9.35ms\n",
      "18:\tlearn: 0.6592866\ttotal: 28.5ms\tremaining: 7.51ms\n",
      "19:\tlearn: 0.6553906\ttotal: 28.8ms\tremaining: 5.77ms\n",
      "20:\tlearn: 0.6529977\ttotal: 30ms\tremaining: 4.29ms\n",
      "21:\tlearn: 0.6522710\ttotal: 32.8ms\tremaining: 2.98ms\n",
      "22:\tlearn: 0.6515965\ttotal: 35.4ms\tremaining: 1.54ms\n",
      "23:\tlearn: 0.6500545\ttotal: 36.6ms\tremaining: 0us\n"
     ]
    },
    {
     "name": "stderr",
     "output_type": "stream",
     "text": [
      "[Parallel(n_jobs=4)]: Done 3150 out of 3150 | elapsed:  2.1min finished\n"
     ]
    },
    {
     "data": {
      "text/plain": [
       "GridSearchCV(cv=5,\n",
       "             estimator=<catboost.core.CatBoostClassifier object at 0x00000267E73C49A0>,\n",
       "             n_jobs=4,\n",
       "             param_grid={'bagging_temperature': array([ 0,  1,  2,  3,  4,  5,  6,  7,  8,  9, 10, 11, 12, 13, 14, 15, 16,\n",
       "       17, 18, 19, 20]),\n",
       "                         'depth': [9], 'ignored_features': [0, 3, 4],\n",
       "                         'iterations': array([20, 21, 22, 23, 24, 25, 26, 27, 28, 29]),\n",
       "                         'l2_leaf_reg': [28]},\n",
       "             verbose=True)"
      ]
     },
     "execution_count": 87,
     "metadata": {},
     "output_type": "execute_result"
    }
   ],
   "source": [
    "# Setting more parameters to try and improve our model\n",
    "\n",
    "cbc_grid2 = {'iterations': np.arange(20, 30, 1),\n",
    "            'depth': [9],\n",
    "            'l2_leaf_reg': [28],\n",
    "            'bagging_temperature': np.arange(0, 21, 1),\n",
    "            'ignored_features': [0, 3, 4]}\n",
    "\n",
    "gs2_cbc = GridSearchCV(CatBoostClassifier(),\n",
    "                       param_grid=cbc_grid2,\n",
    "                       n_jobs=4,\n",
    "                       verbose=True,\n",
    "                       cv=5)\n",
    "\n",
    "gs2_cbc.fit(X_train, y_train)"
   ]
  },
  {
   "cell_type": "code",
   "execution_count": 88,
   "id": "working-interface",
   "metadata": {},
   "outputs": [
    {
     "data": {
      "text/plain": [
       "{'bagging_temperature': 0,\n",
       " 'depth': 9,\n",
       " 'ignored_features': 3,\n",
       " 'iterations': 24,\n",
       " 'l2_leaf_reg': 28}"
      ]
     },
     "execution_count": 88,
     "metadata": {},
     "output_type": "execute_result"
    }
   ],
   "source": [
    "# Finding best params\n",
    "\n",
    "gs2_cbc.best_params_"
   ]
  },
  {
   "cell_type": "code",
   "execution_count": 102,
   "id": "rocky-idaho",
   "metadata": {
    "scrolled": true
   },
   "outputs": [
    {
     "name": "stdout",
     "output_type": "stream",
     "text": [
      "0:\tlearn: 0.6921670\ttotal: 3.65ms\tremaining: 84ms\n",
      "1:\tlearn: 0.6908733\ttotal: 6.16ms\tremaining: 67.8ms\n",
      "2:\tlearn: 0.6895261\ttotal: 7.51ms\tremaining: 52.6ms\n",
      "3:\tlearn: 0.6868067\ttotal: 8.03ms\tremaining: 40.1ms\n",
      "4:\tlearn: 0.6832107\ttotal: 8.44ms\tremaining: 32.1ms\n",
      "5:\tlearn: 0.6826539\ttotal: 10.9ms\tremaining: 32.7ms\n",
      "6:\tlearn: 0.6805216\ttotal: 11.9ms\tremaining: 28.8ms\n",
      "7:\tlearn: 0.6799986\ttotal: 14.2ms\tremaining: 28.4ms\n",
      "8:\tlearn: 0.6790204\ttotal: 16.3ms\tremaining: 27.2ms\n",
      "9:\tlearn: 0.6764540\ttotal: 17.6ms\tremaining: 24.6ms\n",
      "10:\tlearn: 0.6756655\ttotal: 19.9ms\tremaining: 23.5ms\n",
      "11:\tlearn: 0.6746564\ttotal: 22.2ms\tremaining: 22.2ms\n",
      "12:\tlearn: 0.6736052\ttotal: 24.4ms\tremaining: 20.7ms\n",
      "13:\tlearn: 0.6729731\ttotal: 26.7ms\tremaining: 19.1ms\n",
      "14:\tlearn: 0.6718489\ttotal: 28.1ms\tremaining: 16.8ms\n",
      "15:\tlearn: 0.6690894\ttotal: 28.6ms\tremaining: 14.3ms\n",
      "16:\tlearn: 0.6682405\ttotal: 30.9ms\tremaining: 12.7ms\n",
      "17:\tlearn: 0.6667433\ttotal: 31.6ms\tremaining: 10.5ms\n",
      "18:\tlearn: 0.6656714\ttotal: 33.9ms\tremaining: 8.93ms\n",
      "19:\tlearn: 0.6645407\ttotal: 36.1ms\tremaining: 7.22ms\n",
      "20:\tlearn: 0.6614181\ttotal: 36.6ms\tremaining: 5.23ms\n",
      "21:\tlearn: 0.6608813\ttotal: 38.7ms\tremaining: 3.52ms\n",
      "22:\tlearn: 0.6598396\ttotal: 40.9ms\tremaining: 1.78ms\n",
      "23:\tlearn: 0.6593672\ttotal: 43.2ms\tremaining: 0us\n"
     ]
    },
    {
     "data": {
      "text/plain": [
       "<catboost.core.CatBoostClassifier at 0x267e80cb370>"
      ]
     },
     "execution_count": 102,
     "metadata": {},
     "output_type": "execute_result"
    }
   ],
   "source": [
    "# Instiating CatBoost classifier with best params and fitting it\n",
    "\n",
    "cbc2 = CatBoostClassifier(bagging_temperature=0, depth=9, iterations=24, l2_leaf_reg=28)\n",
    "\n",
    "cbc2.fit(X_train, y_train)"
   ]
  },
  {
   "cell_type": "code",
   "execution_count": 103,
   "id": "subsequent-collective",
   "metadata": {},
   "outputs": [
    {
     "data": {
      "text/plain": [
       "0.8852459016393442"
      ]
     },
     "execution_count": 103,
     "metadata": {},
     "output_type": "execute_result"
    }
   ],
   "source": [
    "# Evaluating\n",
    "\n",
    "cbc2.score(X_test, y_test)"
   ]
  },
  {
   "cell_type": "code",
   "execution_count": 104,
   "id": "direct-clone",
   "metadata": {
    "scrolled": false
   },
   "outputs": [
    {
     "name": "stdout",
     "output_type": "stream",
     "text": [
      "0:\tlearn: 0.6920739\ttotal: 3.34ms\tremaining: 76.8ms\n",
      "1:\tlearn: 0.6909060\ttotal: 5.87ms\tremaining: 64.6ms\n",
      "2:\tlearn: 0.6900858\ttotal: 8.21ms\tremaining: 57.5ms\n",
      "3:\tlearn: 0.6892237\ttotal: 10.5ms\tremaining: 52.6ms\n",
      "4:\tlearn: 0.6865240\ttotal: 11.9ms\tremaining: 45.3ms\n",
      "5:\tlearn: 0.6858552\ttotal: 14.2ms\tremaining: 42.5ms\n",
      "6:\tlearn: 0.6851690\ttotal: 16.3ms\tremaining: 39.7ms\n",
      "7:\tlearn: 0.6842559\ttotal: 18.9ms\tremaining: 37.7ms\n",
      "8:\tlearn: 0.6815097\ttotal: 19.9ms\tremaining: 33.1ms\n",
      "9:\tlearn: 0.6805085\ttotal: 22ms\tremaining: 30.8ms\n",
      "10:\tlearn: 0.6787405\ttotal: 22.7ms\tremaining: 26.8ms\n",
      "11:\tlearn: 0.6764557\ttotal: 23.2ms\tremaining: 23.2ms\n",
      "12:\tlearn: 0.6757094\ttotal: 25.6ms\tremaining: 21.6ms\n",
      "13:\tlearn: 0.6740962\ttotal: 26.2ms\tremaining: 18.7ms\n",
      "14:\tlearn: 0.6729500\ttotal: 28.3ms\tremaining: 17ms\n",
      "15:\tlearn: 0.6720102\ttotal: 30.5ms\tremaining: 15.3ms\n",
      "16:\tlearn: 0.6705202\ttotal: 32.4ms\tremaining: 13.3ms\n",
      "17:\tlearn: 0.6674219\ttotal: 32.9ms\tremaining: 11ms\n",
      "18:\tlearn: 0.6656453\ttotal: 34.3ms\tremaining: 9.02ms\n",
      "19:\tlearn: 0.6631964\ttotal: 35ms\tremaining: 7ms\n",
      "20:\tlearn: 0.6626465\ttotal: 37.8ms\tremaining: 5.4ms\n",
      "21:\tlearn: 0.6617477\ttotal: 40.4ms\tremaining: 3.68ms\n",
      "22:\tlearn: 0.6611651\ttotal: 42.9ms\tremaining: 1.87ms\n",
      "23:\tlearn: 0.6587097\ttotal: 43.8ms\tremaining: 0us\n",
      "0:\tlearn: 0.6922004\ttotal: 2.43ms\tremaining: 55.9ms\n",
      "1:\tlearn: 0.6909525\ttotal: 4.61ms\tremaining: 50.7ms\n",
      "2:\tlearn: 0.6901680\ttotal: 6.92ms\tremaining: 48.4ms\n",
      "3:\tlearn: 0.6884175\ttotal: 8.26ms\tremaining: 41.3ms\n",
      "4:\tlearn: 0.6848003\ttotal: 8.66ms\tremaining: 32.9ms\n",
      "5:\tlearn: 0.6842020\ttotal: 10.7ms\tremaining: 32.1ms\n",
      "6:\tlearn: 0.6808810\ttotal: 11.6ms\tremaining: 28.1ms\n",
      "7:\tlearn: 0.6797382\ttotal: 13.8ms\tremaining: 27.6ms\n",
      "8:\tlearn: 0.6791103\ttotal: 15.9ms\tremaining: 26.6ms\n",
      "9:\tlearn: 0.6766472\ttotal: 16.4ms\tremaining: 23ms\n",
      "10:\tlearn: 0.6757510\ttotal: 18.6ms\tremaining: 22ms\n",
      "11:\tlearn: 0.6750415\ttotal: 20.8ms\tremaining: 20.8ms\n",
      "12:\tlearn: 0.6743634\ttotal: 22.8ms\tremaining: 19.3ms\n",
      "13:\tlearn: 0.6735964\ttotal: 24.9ms\tremaining: 17.8ms\n",
      "14:\tlearn: 0.6720105\ttotal: 25.5ms\tremaining: 15.3ms\n",
      "15:\tlearn: 0.6713886\ttotal: 27.6ms\tremaining: 13.8ms\n",
      "16:\tlearn: 0.6695611\ttotal: 28.8ms\tremaining: 11.9ms\n",
      "17:\tlearn: 0.6683151\ttotal: 30.9ms\tremaining: 10.3ms\n",
      "18:\tlearn: 0.6670515\ttotal: 33.1ms\tremaining: 8.71ms\n",
      "19:\tlearn: 0.6643251\ttotal: 33.6ms\tremaining: 6.72ms\n",
      "20:\tlearn: 0.6632908\ttotal: 34.4ms\tremaining: 4.92ms\n",
      "21:\tlearn: 0.6600144\ttotal: 34.8ms\tremaining: 3.17ms\n",
      "22:\tlearn: 0.6574820\ttotal: 35.4ms\tremaining: 1.54ms\n",
      "23:\tlearn: 0.6563971\ttotal: 37.5ms\tremaining: 0us\n",
      "0:\tlearn: 0.6922272\ttotal: 2.61ms\tremaining: 60ms\n",
      "1:\tlearn: 0.6910127\ttotal: 4.7ms\tremaining: 51.7ms\n",
      "2:\tlearn: 0.6892977\ttotal: 5.94ms\tremaining: 41.6ms\n",
      "3:\tlearn: 0.6881811\ttotal: 8.2ms\tremaining: 41ms\n",
      "4:\tlearn: 0.6860176\ttotal: 9.44ms\tremaining: 35.9ms\n",
      "5:\tlearn: 0.6854402\ttotal: 11.6ms\tremaining: 34.8ms\n",
      "6:\tlearn: 0.6845062\ttotal: 13.7ms\tremaining: 33.2ms\n",
      "7:\tlearn: 0.6834696\ttotal: 15.7ms\tremaining: 31.4ms\n",
      "8:\tlearn: 0.6828285\ttotal: 17.7ms\tremaining: 29.5ms\n",
      "9:\tlearn: 0.6792336\ttotal: 18.4ms\tremaining: 25.7ms\n",
      "10:\tlearn: 0.6787226\ttotal: 20.4ms\tremaining: 24.1ms\n",
      "11:\tlearn: 0.6777108\ttotal: 22.4ms\tremaining: 22.4ms\n",
      "12:\tlearn: 0.6771207\ttotal: 24.5ms\tremaining: 20.7ms\n",
      "13:\tlearn: 0.6764293\ttotal: 26.5ms\tremaining: 19ms\n",
      "14:\tlearn: 0.6728765\ttotal: 27.2ms\tremaining: 16.3ms\n",
      "15:\tlearn: 0.6717391\ttotal: 29.4ms\tremaining: 14.7ms\n",
      "16:\tlearn: 0.6704558\ttotal: 31.4ms\tremaining: 12.9ms\n",
      "17:\tlearn: 0.6685112\ttotal: 32ms\tremaining: 10.7ms\n",
      "18:\tlearn: 0.6650383\ttotal: 32.9ms\tremaining: 8.66ms\n",
      "19:\tlearn: 0.6636638\ttotal: 34.7ms\tremaining: 6.93ms\n",
      "20:\tlearn: 0.6627879\ttotal: 37.1ms\tremaining: 5.3ms\n",
      "21:\tlearn: 0.6614573\ttotal: 39.4ms\tremaining: 3.58ms\n",
      "22:\tlearn: 0.6591016\ttotal: 41.6ms\tremaining: 1.81ms\n",
      "23:\tlearn: 0.6566620\ttotal: 42.1ms\tremaining: 0us\n",
      "0:\tlearn: 0.6922355\ttotal: 2.71ms\tremaining: 62.3ms\n",
      "1:\tlearn: 0.6914801\ttotal: 5ms\tremaining: 55.1ms\n",
      "2:\tlearn: 0.6907319\ttotal: 7.08ms\tremaining: 49.6ms\n",
      "3:\tlearn: 0.6885922\ttotal: 8.32ms\tremaining: 41.6ms\n",
      "4:\tlearn: 0.6845981\ttotal: 8.79ms\tremaining: 33.4ms\n",
      "5:\tlearn: 0.6828563\ttotal: 10.1ms\tremaining: 30.2ms\n",
      "6:\tlearn: 0.6810235\ttotal: 11.3ms\tremaining: 27.5ms\n",
      "7:\tlearn: 0.6799128\ttotal: 13.4ms\tremaining: 26.8ms\n",
      "8:\tlearn: 0.6788416\ttotal: 15.6ms\tremaining: 26ms\n",
      "9:\tlearn: 0.6745195\ttotal: 16ms\tremaining: 22.4ms\n",
      "10:\tlearn: 0.6738143\ttotal: 18.3ms\tremaining: 21.6ms\n",
      "11:\tlearn: 0.6719174\ttotal: 20.5ms\tremaining: 20.5ms\n",
      "12:\tlearn: 0.6693179\ttotal: 22.6ms\tremaining: 19.2ms\n",
      "13:\tlearn: 0.6679586\ttotal: 25ms\tremaining: 17.8ms\n",
      "14:\tlearn: 0.6661713\ttotal: 26.3ms\tremaining: 15.8ms\n",
      "15:\tlearn: 0.6632570\ttotal: 26.9ms\tremaining: 13.4ms\n",
      "16:\tlearn: 0.6620662\ttotal: 29.1ms\tremaining: 12ms\n",
      "17:\tlearn: 0.6602357\ttotal: 29.8ms\tremaining: 9.92ms\n",
      "18:\tlearn: 0.6587619\ttotal: 30.6ms\tremaining: 8.06ms\n",
      "19:\tlearn: 0.6568550\ttotal: 32.7ms\tremaining: 6.54ms\n",
      "20:\tlearn: 0.6534429\ttotal: 33.1ms\tremaining: 4.73ms\n",
      "21:\tlearn: 0.6518822\ttotal: 34.4ms\tremaining: 3.12ms\n",
      "22:\tlearn: 0.6510969\ttotal: 36.5ms\tremaining: 1.58ms\n",
      "23:\tlearn: 0.6501563\ttotal: 38.5ms\tremaining: 0us\n",
      "0:\tlearn: 0.6916731\ttotal: 2.41ms\tremaining: 55.4ms\n",
      "1:\tlearn: 0.6897824\ttotal: 4.77ms\tremaining: 52.5ms\n",
      "2:\tlearn: 0.6866829\ttotal: 5.5ms\tremaining: 38.5ms\n",
      "3:\tlearn: 0.6854619\ttotal: 7.56ms\tremaining: 37.8ms\n",
      "4:\tlearn: 0.6820431\ttotal: 7.98ms\tremaining: 30.3ms\n",
      "5:\tlearn: 0.6795469\ttotal: 8.95ms\tremaining: 26.9ms\n",
      "6:\tlearn: 0.6782638\ttotal: 9.79ms\tremaining: 23.8ms\n",
      "7:\tlearn: 0.6771793\ttotal: 11.8ms\tremaining: 23.5ms\n",
      "8:\tlearn: 0.6762267\ttotal: 13.7ms\tremaining: 22.9ms\n",
      "9:\tlearn: 0.6742731\ttotal: 15ms\tremaining: 20.9ms\n",
      "10:\tlearn: 0.6737234\ttotal: 16.9ms\tremaining: 20ms\n",
      "11:\tlearn: 0.6724167\ttotal: 18.9ms\tremaining: 18.9ms\n",
      "12:\tlearn: 0.6701070\ttotal: 20.1ms\tremaining: 17ms\n",
      "13:\tlearn: 0.6668648\ttotal: 20.5ms\tremaining: 14.7ms\n",
      "14:\tlearn: 0.6653161\ttotal: 21.3ms\tremaining: 12.8ms\n",
      "15:\tlearn: 0.6616974\ttotal: 21.8ms\tremaining: 10.9ms\n",
      "16:\tlearn: 0.6604848\ttotal: 23ms\tremaining: 9.48ms\n",
      "17:\tlearn: 0.6600176\ttotal: 25.1ms\tremaining: 8.37ms\n",
      "18:\tlearn: 0.6575764\ttotal: 25.6ms\tremaining: 6.75ms\n",
      "19:\tlearn: 0.6564029\ttotal: 26.5ms\tremaining: 5.29ms\n",
      "20:\tlearn: 0.6555648\ttotal: 28.5ms\tremaining: 4.08ms\n",
      "21:\tlearn: 0.6542677\ttotal: 30.9ms\tremaining: 2.8ms\n",
      "22:\tlearn: 0.6533644\ttotal: 32.1ms\tremaining: 1.4ms\n",
      "23:\tlearn: 0.6525018\ttotal: 34.1ms\tremaining: 0us\n"
     ]
    },
    {
     "data": {
      "text/plain": [
       "0.8180327868852458"
      ]
     },
     "execution_count": 104,
     "metadata": {},
     "output_type": "execute_result"
    }
   ],
   "source": [
    "# Checking accuracy method\n",
    "\n",
    "cross_val_score(cbc2, X, y, scoring='accuracy', cv=5).mean()"
   ]
  },
  {
   "cell_type": "markdown",
   "id": "deadly-editor",
   "metadata": {},
   "source": [
    "82% again, maybe this time using different module"
   ]
  },
  {
   "cell_type": "code",
   "execution_count": null,
   "id": "imported-affect",
   "metadata": {},
   "outputs": [],
   "source": []
  }
 ],
 "metadata": {
  "kernelspec": {
   "display_name": "Python 3",
   "language": "python",
   "name": "python3"
  },
  "language_info": {
   "codemirror_mode": {
    "name": "ipython",
    "version": 3
   },
   "file_extension": ".py",
   "mimetype": "text/x-python",
   "name": "python",
   "nbconvert_exporter": "python",
   "pygments_lexer": "ipython3",
   "version": "3.8.5"
  }
 },
 "nbformat": 4,
 "nbformat_minor": 5
}
